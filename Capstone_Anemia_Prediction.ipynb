{
  "nbformat": 4,
  "nbformat_minor": 0,
  "metadata": {
    "colab": {
      "provenance": [],
      "include_colab_link": true
    },
    "kernelspec": {
      "name": "python3",
      "display_name": "Python 3"
    },
    "language_info": {
      "name": "python"
    }
  },
  "cells": [
    {
      "cell_type": "markdown",
      "metadata": {
        "id": "view-in-github",
        "colab_type": "text"
      },
      "source": [
        "<a href=\"https://colab.research.google.com/github/muhammadarya11/AnemiCare/blob/ML/Capstone_Anemia_Prediction.ipynb\" target=\"_parent\"><img src=\"https://colab.research.google.com/assets/colab-badge.svg\" alt=\"Open In Colab\"/></a>"
      ]
    },
    {
      "cell_type": "markdown",
      "source": [
        "# Capstone Project\n",
        "\n",
        "**Title:** Anemia Prediction Based on Blood Lab Results  \n",
        "**Dataset:** [Kaggle - Anemia Types Classification](https://www.kaggle.com/datasets/ehababoelnaga/anemia-types-classification)  \n",
        "**Team ID:** C242-PS485\n",
        "\n",
        "**Team Members:**\n",
        "1. Kiki Aimar Wicaksana, ML (M335B4KY2216) – Universitas Yarsi\n",
        "2. Muhammad Ramadhan Prinada, ML (M335B4KY3203) – Universitas Yarsi\n",
        "3. Arina Pramudita, ML (M194B4KX0694) – Universitas Budi Luhur\n",
        "4. Karin Novrika, CC (C128B4KX2140) – Politeknik Negeri Jakarta\n",
        "5. Muhammad Arya Kusuma, CC (C335B4KY2748) – Universitas Yarsi\n",
        "6. I Komang Abimanyu, MD (A335B4KY1840) – Universitas Yarsi\n",
        "\n",
        "**Overview:**\n",
        "\n",
        "Anemia, a common condition, can lead to serious complications if not diagnosed promptly. Traditional diagnosis is often time-consuming, potentially delaying treatment. This project aims to assist healthcare providers in quickly classifying anemia types through machine learning. Using Complete Blood Count (CBC) test data, our application predicts anemia types, including 'Normocytic hypochromic anemia,' 'Iron deficiency anemia,' 'Other microcytic anemia,' 'Leukemia,' 'Thrombocytopenia,' and 'Macrocytic anemia.'\n",
        "\n"
      ],
      "metadata": {
        "id": "kIJIDNz6Yk6-"
      }
    },
    {
      "cell_type": "markdown",
      "source": [
        "## Import Library"
      ],
      "metadata": {
        "id": "H6KPQwkLaYIG"
      }
    },
    {
      "cell_type": "code",
      "execution_count": null,
      "metadata": {
        "id": "gJGuRSDMXwFk"
      },
      "outputs": [],
      "source": [
        "import numpy as np\n",
        "import pandas as pd\n",
        "import matplotlib.pyplot as plt\n",
        "import seaborn as sns\n",
        "import tensorflow as tf\n",
        "\n",
        "from tensorflow.keras.models import Sequential\n",
        "from tensorflow.keras.layers import Input, Dense, Flatten, Dropout, BatchNormalization\n",
        "from tensorflow.keras.callbacks import ReduceLROnPlateau, EarlyStopping, ModelCheckpoint\n",
        "from tensorflow.keras.optimizers import SGD, RMSprop, Adam\n",
        "from tensorflow.keras.regularizers import l2"
      ]
    },
    {
      "cell_type": "markdown",
      "source": [
        "## Load Dataset"
      ],
      "metadata": {
        "id": "pcNAoalyo7TB"
      }
    },
    {
      "cell_type": "code",
      "source": [
        "from google.colab import drive\n",
        "\n",
        "drive.mount('/content/drive')\n",
        "path = '/content/drive/MyDrive/diagnosed_cbc_data_v4.csv'"
      ],
      "metadata": {
        "colab": {
          "base_uri": "https://localhost:8080/"
        },
        "id": "IIB4msKfXN1E",
        "outputId": "f8863578-0191-48b0-9ad2-adc1a2c1cd56"
      },
      "execution_count": null,
      "outputs": [
        {
          "output_type": "stream",
          "name": "stdout",
          "text": [
            "Mounted at /content/drive\n"
          ]
        }
      ]
    },
    {
      "cell_type": "code",
      "source": [
        "# from google.colab import files\n",
        "\n",
        "# # Mengunggah file\n",
        "# path = files.upload()"
      ],
      "metadata": {
        "colab": {
          "base_uri": "https://localhost:8080/",
          "height": 73
        },
        "id": "zJ_6OhQPtl5A",
        "outputId": "0d9d62cf-ce2f-4a84-a4b2-213e3d21a2c7"
      },
      "execution_count": null,
      "outputs": [
        {
          "output_type": "display_data",
          "data": {
            "text/plain": [
              "<IPython.core.display.HTML object>"
            ],
            "text/html": [
              "\n",
              "     <input type=\"file\" id=\"files-fbb2dabf-bbd4-43c9-b785-1aa8bfa2df18\" name=\"files[]\" multiple disabled\n",
              "        style=\"border:none\" />\n",
              "     <output id=\"result-fbb2dabf-bbd4-43c9-b785-1aa8bfa2df18\">\n",
              "      Upload widget is only available when the cell has been executed in the\n",
              "      current browser session. Please rerun this cell to enable.\n",
              "      </output>\n",
              "      <script>// Copyright 2017 Google LLC\n",
              "//\n",
              "// Licensed under the Apache License, Version 2.0 (the \"License\");\n",
              "// you may not use this file except in compliance with the License.\n",
              "// You may obtain a copy of the License at\n",
              "//\n",
              "//      http://www.apache.org/licenses/LICENSE-2.0\n",
              "//\n",
              "// Unless required by applicable law or agreed to in writing, software\n",
              "// distributed under the License is distributed on an \"AS IS\" BASIS,\n",
              "// WITHOUT WARRANTIES OR CONDITIONS OF ANY KIND, either express or implied.\n",
              "// See the License for the specific language governing permissions and\n",
              "// limitations under the License.\n",
              "\n",
              "/**\n",
              " * @fileoverview Helpers for google.colab Python module.\n",
              " */\n",
              "(function(scope) {\n",
              "function span(text, styleAttributes = {}) {\n",
              "  const element = document.createElement('span');\n",
              "  element.textContent = text;\n",
              "  for (const key of Object.keys(styleAttributes)) {\n",
              "    element.style[key] = styleAttributes[key];\n",
              "  }\n",
              "  return element;\n",
              "}\n",
              "\n",
              "// Max number of bytes which will be uploaded at a time.\n",
              "const MAX_PAYLOAD_SIZE = 100 * 1024;\n",
              "\n",
              "function _uploadFiles(inputId, outputId) {\n",
              "  const steps = uploadFilesStep(inputId, outputId);\n",
              "  const outputElement = document.getElementById(outputId);\n",
              "  // Cache steps on the outputElement to make it available for the next call\n",
              "  // to uploadFilesContinue from Python.\n",
              "  outputElement.steps = steps;\n",
              "\n",
              "  return _uploadFilesContinue(outputId);\n",
              "}\n",
              "\n",
              "// This is roughly an async generator (not supported in the browser yet),\n",
              "// where there are multiple asynchronous steps and the Python side is going\n",
              "// to poll for completion of each step.\n",
              "// This uses a Promise to block the python side on completion of each step,\n",
              "// then passes the result of the previous step as the input to the next step.\n",
              "function _uploadFilesContinue(outputId) {\n",
              "  const outputElement = document.getElementById(outputId);\n",
              "  const steps = outputElement.steps;\n",
              "\n",
              "  const next = steps.next(outputElement.lastPromiseValue);\n",
              "  return Promise.resolve(next.value.promise).then((value) => {\n",
              "    // Cache the last promise value to make it available to the next\n",
              "    // step of the generator.\n",
              "    outputElement.lastPromiseValue = value;\n",
              "    return next.value.response;\n",
              "  });\n",
              "}\n",
              "\n",
              "/**\n",
              " * Generator function which is called between each async step of the upload\n",
              " * process.\n",
              " * @param {string} inputId Element ID of the input file picker element.\n",
              " * @param {string} outputId Element ID of the output display.\n",
              " * @return {!Iterable<!Object>} Iterable of next steps.\n",
              " */\n",
              "function* uploadFilesStep(inputId, outputId) {\n",
              "  const inputElement = document.getElementById(inputId);\n",
              "  inputElement.disabled = false;\n",
              "\n",
              "  const outputElement = document.getElementById(outputId);\n",
              "  outputElement.innerHTML = '';\n",
              "\n",
              "  const pickedPromise = new Promise((resolve) => {\n",
              "    inputElement.addEventListener('change', (e) => {\n",
              "      resolve(e.target.files);\n",
              "    });\n",
              "  });\n",
              "\n",
              "  const cancel = document.createElement('button');\n",
              "  inputElement.parentElement.appendChild(cancel);\n",
              "  cancel.textContent = 'Cancel upload';\n",
              "  const cancelPromise = new Promise((resolve) => {\n",
              "    cancel.onclick = () => {\n",
              "      resolve(null);\n",
              "    };\n",
              "  });\n",
              "\n",
              "  // Wait for the user to pick the files.\n",
              "  const files = yield {\n",
              "    promise: Promise.race([pickedPromise, cancelPromise]),\n",
              "    response: {\n",
              "      action: 'starting',\n",
              "    }\n",
              "  };\n",
              "\n",
              "  cancel.remove();\n",
              "\n",
              "  // Disable the input element since further picks are not allowed.\n",
              "  inputElement.disabled = true;\n",
              "\n",
              "  if (!files) {\n",
              "    return {\n",
              "      response: {\n",
              "        action: 'complete',\n",
              "      }\n",
              "    };\n",
              "  }\n",
              "\n",
              "  for (const file of files) {\n",
              "    const li = document.createElement('li');\n",
              "    li.append(span(file.name, {fontWeight: 'bold'}));\n",
              "    li.append(span(\n",
              "        `(${file.type || 'n/a'}) - ${file.size} bytes, ` +\n",
              "        `last modified: ${\n",
              "            file.lastModifiedDate ? file.lastModifiedDate.toLocaleDateString() :\n",
              "                                    'n/a'} - `));\n",
              "    const percent = span('0% done');\n",
              "    li.appendChild(percent);\n",
              "\n",
              "    outputElement.appendChild(li);\n",
              "\n",
              "    const fileDataPromise = new Promise((resolve) => {\n",
              "      const reader = new FileReader();\n",
              "      reader.onload = (e) => {\n",
              "        resolve(e.target.result);\n",
              "      };\n",
              "      reader.readAsArrayBuffer(file);\n",
              "    });\n",
              "    // Wait for the data to be ready.\n",
              "    let fileData = yield {\n",
              "      promise: fileDataPromise,\n",
              "      response: {\n",
              "        action: 'continue',\n",
              "      }\n",
              "    };\n",
              "\n",
              "    // Use a chunked sending to avoid message size limits. See b/62115660.\n",
              "    let position = 0;\n",
              "    do {\n",
              "      const length = Math.min(fileData.byteLength - position, MAX_PAYLOAD_SIZE);\n",
              "      const chunk = new Uint8Array(fileData, position, length);\n",
              "      position += length;\n",
              "\n",
              "      const base64 = btoa(String.fromCharCode.apply(null, chunk));\n",
              "      yield {\n",
              "        response: {\n",
              "          action: 'append',\n",
              "          file: file.name,\n",
              "          data: base64,\n",
              "        },\n",
              "      };\n",
              "\n",
              "      let percentDone = fileData.byteLength === 0 ?\n",
              "          100 :\n",
              "          Math.round((position / fileData.byteLength) * 100);\n",
              "      percent.textContent = `${percentDone}% done`;\n",
              "\n",
              "    } while (position < fileData.byteLength);\n",
              "  }\n",
              "\n",
              "  // All done.\n",
              "  yield {\n",
              "    response: {\n",
              "      action: 'complete',\n",
              "    }\n",
              "  };\n",
              "}\n",
              "\n",
              "scope.google = scope.google || {};\n",
              "scope.google.colab = scope.google.colab || {};\n",
              "scope.google.colab._files = {\n",
              "  _uploadFiles,\n",
              "  _uploadFilesContinue,\n",
              "};\n",
              "})(self);\n",
              "</script> "
            ]
          },
          "metadata": {}
        },
        {
          "output_type": "stream",
          "name": "stdout",
          "text": [
            "Saving diagnosed_cbc_data_v4.csv to diagnosed_cbc_data_v4 (2).csv\n"
          ]
        }
      ]
    },
    {
      "cell_type": "code",
      "source": [
        "# df = pd.read_csv('diagnosed_cbc_data_v4.csv')\n",
        "df = pd.read_csv(path)\n",
        "df.head(10)"
      ],
      "metadata": {
        "colab": {
          "base_uri": "https://localhost:8080/",
          "height": 363
        },
        "id": "lWsbw8hTo-QM",
        "outputId": "2c2fba89-f85b-452f-a637-cf4c73e1e321"
      },
      "execution_count": null,
      "outputs": [
        {
          "output_type": "execute_result",
          "data": {
            "text/plain": [
              "    WBC  LYMp  NEUTp  LYMn  NEUTn   RBC   HGB    HCT   MCV   MCH  MCHC    PLT  \\\n",
              "0  10.0  43.2   50.1   4.3    5.0  2.77   7.3   24.2  87.7  26.3  30.1  189.0   \n",
              "1  10.0  42.4   52.3   4.2    5.3  2.84   7.3   25.0  88.2  25.7  20.2  180.0   \n",
              "2   7.2  30.7   60.7   2.2    4.4  3.97   9.0   30.5  77.0  22.6  29.5  148.0   \n",
              "3   6.0  30.2   63.5   1.8    3.8  4.22   3.8   32.8  77.9  23.2  29.8  143.0   \n",
              "4   4.2  39.1   53.7   1.6    2.3  3.93   0.4  316.0  80.6  23.9  29.7  236.0   \n",
              "5   6.6  27.3   65.4   1.8    4.3  3.96   8.8   29.7  75.2  22.2  79.6  207.0   \n",
              "6  16.7  19.1   68.2   3.2   11.4  5.15  14.2   44.8  87.1  27.5  31.6  151.0   \n",
              "7   9.3  27.4   64.0   2.6    5.9  4.39  12.0   37.9  86.4  27.3  31.6  194.0   \n",
              "8   5.2  19.7   72.4   1.0    3.8  4.85  13.2   41.0  84.7  27.2  32.1  181.0   \n",
              "9  10.5  12.4   79.0   1.3    8.3  4.57  12.4   38.9  85.3  27.1  31.8  164.0   \n",
              "\n",
              "    PDW   PCT                      Diagnosis  \n",
              "0  12.5  0.17  Normocytic hypochromic anemia  \n",
              "1  12.5  0.16  Normocytic hypochromic anemia  \n",
              "2  14.3  0.14         Iron deficiency anemia  \n",
              "3  11.3  0.12         Iron deficiency anemia  \n",
              "4  12.8  0.22  Normocytic hypochromic anemia  \n",
              "5  11.5  0.18        Other microcytic anemia  \n",
              "6  12.8  0.14                       Leukemia  \n",
              "7  15.9  0.19  Normocytic hypochromic anemia  \n",
              "8  10.0  0.15                        Healthy  \n",
              "9  11.3  0.14  Normocytic hypochromic anemia  "
            ],
            "text/html": [
              "\n",
              "  <div id=\"df-1054cbef-b3ae-404e-9cd5-602b8d61a3b5\" class=\"colab-df-container\">\n",
              "    <div>\n",
              "<style scoped>\n",
              "    .dataframe tbody tr th:only-of-type {\n",
              "        vertical-align: middle;\n",
              "    }\n",
              "\n",
              "    .dataframe tbody tr th {\n",
              "        vertical-align: top;\n",
              "    }\n",
              "\n",
              "    .dataframe thead th {\n",
              "        text-align: right;\n",
              "    }\n",
              "</style>\n",
              "<table border=\"1\" class=\"dataframe\">\n",
              "  <thead>\n",
              "    <tr style=\"text-align: right;\">\n",
              "      <th></th>\n",
              "      <th>WBC</th>\n",
              "      <th>LYMp</th>\n",
              "      <th>NEUTp</th>\n",
              "      <th>LYMn</th>\n",
              "      <th>NEUTn</th>\n",
              "      <th>RBC</th>\n",
              "      <th>HGB</th>\n",
              "      <th>HCT</th>\n",
              "      <th>MCV</th>\n",
              "      <th>MCH</th>\n",
              "      <th>MCHC</th>\n",
              "      <th>PLT</th>\n",
              "      <th>PDW</th>\n",
              "      <th>PCT</th>\n",
              "      <th>Diagnosis</th>\n",
              "    </tr>\n",
              "  </thead>\n",
              "  <tbody>\n",
              "    <tr>\n",
              "      <th>0</th>\n",
              "      <td>10.0</td>\n",
              "      <td>43.2</td>\n",
              "      <td>50.1</td>\n",
              "      <td>4.3</td>\n",
              "      <td>5.0</td>\n",
              "      <td>2.77</td>\n",
              "      <td>7.3</td>\n",
              "      <td>24.2</td>\n",
              "      <td>87.7</td>\n",
              "      <td>26.3</td>\n",
              "      <td>30.1</td>\n",
              "      <td>189.0</td>\n",
              "      <td>12.5</td>\n",
              "      <td>0.17</td>\n",
              "      <td>Normocytic hypochromic anemia</td>\n",
              "    </tr>\n",
              "    <tr>\n",
              "      <th>1</th>\n",
              "      <td>10.0</td>\n",
              "      <td>42.4</td>\n",
              "      <td>52.3</td>\n",
              "      <td>4.2</td>\n",
              "      <td>5.3</td>\n",
              "      <td>2.84</td>\n",
              "      <td>7.3</td>\n",
              "      <td>25.0</td>\n",
              "      <td>88.2</td>\n",
              "      <td>25.7</td>\n",
              "      <td>20.2</td>\n",
              "      <td>180.0</td>\n",
              "      <td>12.5</td>\n",
              "      <td>0.16</td>\n",
              "      <td>Normocytic hypochromic anemia</td>\n",
              "    </tr>\n",
              "    <tr>\n",
              "      <th>2</th>\n",
              "      <td>7.2</td>\n",
              "      <td>30.7</td>\n",
              "      <td>60.7</td>\n",
              "      <td>2.2</td>\n",
              "      <td>4.4</td>\n",
              "      <td>3.97</td>\n",
              "      <td>9.0</td>\n",
              "      <td>30.5</td>\n",
              "      <td>77.0</td>\n",
              "      <td>22.6</td>\n",
              "      <td>29.5</td>\n",
              "      <td>148.0</td>\n",
              "      <td>14.3</td>\n",
              "      <td>0.14</td>\n",
              "      <td>Iron deficiency anemia</td>\n",
              "    </tr>\n",
              "    <tr>\n",
              "      <th>3</th>\n",
              "      <td>6.0</td>\n",
              "      <td>30.2</td>\n",
              "      <td>63.5</td>\n",
              "      <td>1.8</td>\n",
              "      <td>3.8</td>\n",
              "      <td>4.22</td>\n",
              "      <td>3.8</td>\n",
              "      <td>32.8</td>\n",
              "      <td>77.9</td>\n",
              "      <td>23.2</td>\n",
              "      <td>29.8</td>\n",
              "      <td>143.0</td>\n",
              "      <td>11.3</td>\n",
              "      <td>0.12</td>\n",
              "      <td>Iron deficiency anemia</td>\n",
              "    </tr>\n",
              "    <tr>\n",
              "      <th>4</th>\n",
              "      <td>4.2</td>\n",
              "      <td>39.1</td>\n",
              "      <td>53.7</td>\n",
              "      <td>1.6</td>\n",
              "      <td>2.3</td>\n",
              "      <td>3.93</td>\n",
              "      <td>0.4</td>\n",
              "      <td>316.0</td>\n",
              "      <td>80.6</td>\n",
              "      <td>23.9</td>\n",
              "      <td>29.7</td>\n",
              "      <td>236.0</td>\n",
              "      <td>12.8</td>\n",
              "      <td>0.22</td>\n",
              "      <td>Normocytic hypochromic anemia</td>\n",
              "    </tr>\n",
              "    <tr>\n",
              "      <th>5</th>\n",
              "      <td>6.6</td>\n",
              "      <td>27.3</td>\n",
              "      <td>65.4</td>\n",
              "      <td>1.8</td>\n",
              "      <td>4.3</td>\n",
              "      <td>3.96</td>\n",
              "      <td>8.8</td>\n",
              "      <td>29.7</td>\n",
              "      <td>75.2</td>\n",
              "      <td>22.2</td>\n",
              "      <td>79.6</td>\n",
              "      <td>207.0</td>\n",
              "      <td>11.5</td>\n",
              "      <td>0.18</td>\n",
              "      <td>Other microcytic anemia</td>\n",
              "    </tr>\n",
              "    <tr>\n",
              "      <th>6</th>\n",
              "      <td>16.7</td>\n",
              "      <td>19.1</td>\n",
              "      <td>68.2</td>\n",
              "      <td>3.2</td>\n",
              "      <td>11.4</td>\n",
              "      <td>5.15</td>\n",
              "      <td>14.2</td>\n",
              "      <td>44.8</td>\n",
              "      <td>87.1</td>\n",
              "      <td>27.5</td>\n",
              "      <td>31.6</td>\n",
              "      <td>151.0</td>\n",
              "      <td>12.8</td>\n",
              "      <td>0.14</td>\n",
              "      <td>Leukemia</td>\n",
              "    </tr>\n",
              "    <tr>\n",
              "      <th>7</th>\n",
              "      <td>9.3</td>\n",
              "      <td>27.4</td>\n",
              "      <td>64.0</td>\n",
              "      <td>2.6</td>\n",
              "      <td>5.9</td>\n",
              "      <td>4.39</td>\n",
              "      <td>12.0</td>\n",
              "      <td>37.9</td>\n",
              "      <td>86.4</td>\n",
              "      <td>27.3</td>\n",
              "      <td>31.6</td>\n",
              "      <td>194.0</td>\n",
              "      <td>15.9</td>\n",
              "      <td>0.19</td>\n",
              "      <td>Normocytic hypochromic anemia</td>\n",
              "    </tr>\n",
              "    <tr>\n",
              "      <th>8</th>\n",
              "      <td>5.2</td>\n",
              "      <td>19.7</td>\n",
              "      <td>72.4</td>\n",
              "      <td>1.0</td>\n",
              "      <td>3.8</td>\n",
              "      <td>4.85</td>\n",
              "      <td>13.2</td>\n",
              "      <td>41.0</td>\n",
              "      <td>84.7</td>\n",
              "      <td>27.2</td>\n",
              "      <td>32.1</td>\n",
              "      <td>181.0</td>\n",
              "      <td>10.0</td>\n",
              "      <td>0.15</td>\n",
              "      <td>Healthy</td>\n",
              "    </tr>\n",
              "    <tr>\n",
              "      <th>9</th>\n",
              "      <td>10.5</td>\n",
              "      <td>12.4</td>\n",
              "      <td>79.0</td>\n",
              "      <td>1.3</td>\n",
              "      <td>8.3</td>\n",
              "      <td>4.57</td>\n",
              "      <td>12.4</td>\n",
              "      <td>38.9</td>\n",
              "      <td>85.3</td>\n",
              "      <td>27.1</td>\n",
              "      <td>31.8</td>\n",
              "      <td>164.0</td>\n",
              "      <td>11.3</td>\n",
              "      <td>0.14</td>\n",
              "      <td>Normocytic hypochromic anemia</td>\n",
              "    </tr>\n",
              "  </tbody>\n",
              "</table>\n",
              "</div>\n",
              "    <div class=\"colab-df-buttons\">\n",
              "\n",
              "  <div class=\"colab-df-container\">\n",
              "    <button class=\"colab-df-convert\" onclick=\"convertToInteractive('df-1054cbef-b3ae-404e-9cd5-602b8d61a3b5')\"\n",
              "            title=\"Convert this dataframe to an interactive table.\"\n",
              "            style=\"display:none;\">\n",
              "\n",
              "  <svg xmlns=\"http://www.w3.org/2000/svg\" height=\"24px\" viewBox=\"0 -960 960 960\">\n",
              "    <path d=\"M120-120v-720h720v720H120Zm60-500h600v-160H180v160Zm220 220h160v-160H400v160Zm0 220h160v-160H400v160ZM180-400h160v-160H180v160Zm440 0h160v-160H620v160ZM180-180h160v-160H180v160Zm440 0h160v-160H620v160Z\"/>\n",
              "  </svg>\n",
              "    </button>\n",
              "\n",
              "  <style>\n",
              "    .colab-df-container {\n",
              "      display:flex;\n",
              "      gap: 12px;\n",
              "    }\n",
              "\n",
              "    .colab-df-convert {\n",
              "      background-color: #E8F0FE;\n",
              "      border: none;\n",
              "      border-radius: 50%;\n",
              "      cursor: pointer;\n",
              "      display: none;\n",
              "      fill: #1967D2;\n",
              "      height: 32px;\n",
              "      padding: 0 0 0 0;\n",
              "      width: 32px;\n",
              "    }\n",
              "\n",
              "    .colab-df-convert:hover {\n",
              "      background-color: #E2EBFA;\n",
              "      box-shadow: 0px 1px 2px rgba(60, 64, 67, 0.3), 0px 1px 3px 1px rgba(60, 64, 67, 0.15);\n",
              "      fill: #174EA6;\n",
              "    }\n",
              "\n",
              "    .colab-df-buttons div {\n",
              "      margin-bottom: 4px;\n",
              "    }\n",
              "\n",
              "    [theme=dark] .colab-df-convert {\n",
              "      background-color: #3B4455;\n",
              "      fill: #D2E3FC;\n",
              "    }\n",
              "\n",
              "    [theme=dark] .colab-df-convert:hover {\n",
              "      background-color: #434B5C;\n",
              "      box-shadow: 0px 1px 3px 1px rgba(0, 0, 0, 0.15);\n",
              "      filter: drop-shadow(0px 1px 2px rgba(0, 0, 0, 0.3));\n",
              "      fill: #FFFFFF;\n",
              "    }\n",
              "  </style>\n",
              "\n",
              "    <script>\n",
              "      const buttonEl =\n",
              "        document.querySelector('#df-1054cbef-b3ae-404e-9cd5-602b8d61a3b5 button.colab-df-convert');\n",
              "      buttonEl.style.display =\n",
              "        google.colab.kernel.accessAllowed ? 'block' : 'none';\n",
              "\n",
              "      async function convertToInteractive(key) {\n",
              "        const element = document.querySelector('#df-1054cbef-b3ae-404e-9cd5-602b8d61a3b5');\n",
              "        const dataTable =\n",
              "          await google.colab.kernel.invokeFunction('convertToInteractive',\n",
              "                                                    [key], {});\n",
              "        if (!dataTable) return;\n",
              "\n",
              "        const docLinkHtml = 'Like what you see? Visit the ' +\n",
              "          '<a target=\"_blank\" href=https://colab.research.google.com/notebooks/data_table.ipynb>data table notebook</a>'\n",
              "          + ' to learn more about interactive tables.';\n",
              "        element.innerHTML = '';\n",
              "        dataTable['output_type'] = 'display_data';\n",
              "        await google.colab.output.renderOutput(dataTable, element);\n",
              "        const docLink = document.createElement('div');\n",
              "        docLink.innerHTML = docLinkHtml;\n",
              "        element.appendChild(docLink);\n",
              "      }\n",
              "    </script>\n",
              "  </div>\n",
              "\n",
              "\n",
              "<div id=\"df-7ae62f3b-1cd1-4c16-acf0-c2086e06c1e4\">\n",
              "  <button class=\"colab-df-quickchart\" onclick=\"quickchart('df-7ae62f3b-1cd1-4c16-acf0-c2086e06c1e4')\"\n",
              "            title=\"Suggest charts\"\n",
              "            style=\"display:none;\">\n",
              "\n",
              "<svg xmlns=\"http://www.w3.org/2000/svg\" height=\"24px\"viewBox=\"0 0 24 24\"\n",
              "     width=\"24px\">\n",
              "    <g>\n",
              "        <path d=\"M19 3H5c-1.1 0-2 .9-2 2v14c0 1.1.9 2 2 2h14c1.1 0 2-.9 2-2V5c0-1.1-.9-2-2-2zM9 17H7v-7h2v7zm4 0h-2V7h2v10zm4 0h-2v-4h2v4z\"/>\n",
              "    </g>\n",
              "</svg>\n",
              "  </button>\n",
              "\n",
              "<style>\n",
              "  .colab-df-quickchart {\n",
              "      --bg-color: #E8F0FE;\n",
              "      --fill-color: #1967D2;\n",
              "      --hover-bg-color: #E2EBFA;\n",
              "      --hover-fill-color: #174EA6;\n",
              "      --disabled-fill-color: #AAA;\n",
              "      --disabled-bg-color: #DDD;\n",
              "  }\n",
              "\n",
              "  [theme=dark] .colab-df-quickchart {\n",
              "      --bg-color: #3B4455;\n",
              "      --fill-color: #D2E3FC;\n",
              "      --hover-bg-color: #434B5C;\n",
              "      --hover-fill-color: #FFFFFF;\n",
              "      --disabled-bg-color: #3B4455;\n",
              "      --disabled-fill-color: #666;\n",
              "  }\n",
              "\n",
              "  .colab-df-quickchart {\n",
              "    background-color: var(--bg-color);\n",
              "    border: none;\n",
              "    border-radius: 50%;\n",
              "    cursor: pointer;\n",
              "    display: none;\n",
              "    fill: var(--fill-color);\n",
              "    height: 32px;\n",
              "    padding: 0;\n",
              "    width: 32px;\n",
              "  }\n",
              "\n",
              "  .colab-df-quickchart:hover {\n",
              "    background-color: var(--hover-bg-color);\n",
              "    box-shadow: 0 1px 2px rgba(60, 64, 67, 0.3), 0 1px 3px 1px rgba(60, 64, 67, 0.15);\n",
              "    fill: var(--button-hover-fill-color);\n",
              "  }\n",
              "\n",
              "  .colab-df-quickchart-complete:disabled,\n",
              "  .colab-df-quickchart-complete:disabled:hover {\n",
              "    background-color: var(--disabled-bg-color);\n",
              "    fill: var(--disabled-fill-color);\n",
              "    box-shadow: none;\n",
              "  }\n",
              "\n",
              "  .colab-df-spinner {\n",
              "    border: 2px solid var(--fill-color);\n",
              "    border-color: transparent;\n",
              "    border-bottom-color: var(--fill-color);\n",
              "    animation:\n",
              "      spin 1s steps(1) infinite;\n",
              "  }\n",
              "\n",
              "  @keyframes spin {\n",
              "    0% {\n",
              "      border-color: transparent;\n",
              "      border-bottom-color: var(--fill-color);\n",
              "      border-left-color: var(--fill-color);\n",
              "    }\n",
              "    20% {\n",
              "      border-color: transparent;\n",
              "      border-left-color: var(--fill-color);\n",
              "      border-top-color: var(--fill-color);\n",
              "    }\n",
              "    30% {\n",
              "      border-color: transparent;\n",
              "      border-left-color: var(--fill-color);\n",
              "      border-top-color: var(--fill-color);\n",
              "      border-right-color: var(--fill-color);\n",
              "    }\n",
              "    40% {\n",
              "      border-color: transparent;\n",
              "      border-right-color: var(--fill-color);\n",
              "      border-top-color: var(--fill-color);\n",
              "    }\n",
              "    60% {\n",
              "      border-color: transparent;\n",
              "      border-right-color: var(--fill-color);\n",
              "    }\n",
              "    80% {\n",
              "      border-color: transparent;\n",
              "      border-right-color: var(--fill-color);\n",
              "      border-bottom-color: var(--fill-color);\n",
              "    }\n",
              "    90% {\n",
              "      border-color: transparent;\n",
              "      border-bottom-color: var(--fill-color);\n",
              "    }\n",
              "  }\n",
              "</style>\n",
              "\n",
              "  <script>\n",
              "    async function quickchart(key) {\n",
              "      const quickchartButtonEl =\n",
              "        document.querySelector('#' + key + ' button');\n",
              "      quickchartButtonEl.disabled = true;  // To prevent multiple clicks.\n",
              "      quickchartButtonEl.classList.add('colab-df-spinner');\n",
              "      try {\n",
              "        const charts = await google.colab.kernel.invokeFunction(\n",
              "            'suggestCharts', [key], {});\n",
              "      } catch (error) {\n",
              "        console.error('Error during call to suggestCharts:', error);\n",
              "      }\n",
              "      quickchartButtonEl.classList.remove('colab-df-spinner');\n",
              "      quickchartButtonEl.classList.add('colab-df-quickchart-complete');\n",
              "    }\n",
              "    (() => {\n",
              "      let quickchartButtonEl =\n",
              "        document.querySelector('#df-7ae62f3b-1cd1-4c16-acf0-c2086e06c1e4 button');\n",
              "      quickchartButtonEl.style.display =\n",
              "        google.colab.kernel.accessAllowed ? 'block' : 'none';\n",
              "    })();\n",
              "  </script>\n",
              "</div>\n",
              "\n",
              "    </div>\n",
              "  </div>\n"
            ],
            "application/vnd.google.colaboratory.intrinsic+json": {
              "type": "dataframe",
              "variable_name": "df",
              "summary": "{\n  \"name\": \"df\",\n  \"rows\": 1281,\n  \"fields\": [\n    {\n      \"column\": \"WBC\",\n      \"properties\": {\n        \"dtype\": \"number\",\n        \"std\": 3.5644657236980994,\n        \"min\": 0.8,\n        \"max\": 45.7,\n        \"num_unique_values\": 278,\n        \"samples\": [\n          7.0,\n          3.92,\n          5.31\n        ],\n        \"semantic_type\": \"\",\n        \"description\": \"\"\n      }\n    },\n    {\n      \"column\": \"LYMp\",\n      \"properties\": {\n        \"dtype\": \"number\",\n        \"std\": 7.038727551686813,\n        \"min\": 6.2,\n        \"max\": 91.4,\n        \"num_unique_values\": 263,\n        \"samples\": [\n          21.1,\n          39.2,\n          34.4\n        ],\n        \"semantic_type\": \"\",\n        \"description\": \"\"\n      }\n    },\n    {\n      \"column\": \"NEUTp\",\n      \"properties\": {\n        \"dtype\": \"number\",\n        \"std\": 147.74627303225589,\n        \"min\": 0.7,\n        \"max\": 5317.0,\n        \"num_unique_values\": 267,\n        \"samples\": [\n          59.5,\n          65.9,\n          70.9\n        ],\n        \"semantic_type\": \"\",\n        \"description\": \"\"\n      }\n    },\n    {\n      \"column\": \"LYMn\",\n      \"properties\": {\n        \"dtype\": \"number\",\n        \"std\": 1.3356889933195522,\n        \"min\": 0.2,\n        \"max\": 41.8,\n        \"num_unique_values\": 51,\n        \"samples\": [\n          4.9,\n          14.0,\n          0.2\n        ],\n        \"semantic_type\": \"\",\n        \"description\": \"\"\n      }\n    },\n    {\n      \"column\": \"NEUTn\",\n      \"properties\": {\n        \"dtype\": \"number\",\n        \"std\": 2.872293679791248,\n        \"min\": 0.5,\n        \"max\": 79.0,\n        \"num_unique_values\": 103,\n        \"samples\": [\n          2.9,\n          5.1,\n          4.8\n        ],\n        \"semantic_type\": \"\",\n        \"description\": \"\"\n      }\n    },\n    {\n      \"column\": \"RBC\",\n      \"properties\": {\n        \"dtype\": \"number\",\n        \"std\": 2.8172003989850656,\n        \"min\": 1.36,\n        \"max\": 90.8,\n        \"num_unique_values\": 272,\n        \"samples\": [\n          5.08,\n          4.43,\n          4.02\n        ],\n        \"semantic_type\": \"\",\n        \"description\": \"\"\n      }\n    },\n    {\n      \"column\": \"HGB\",\n      \"properties\": {\n        \"dtype\": \"number\",\n        \"std\": 3.8128971890337287,\n        \"min\": -10.0,\n        \"max\": 87.1,\n        \"num_unique_values\": 116,\n        \"samples\": [\n          15.3,\n          8.8,\n          11.8\n        ],\n        \"semantic_type\": \"\",\n        \"description\": \"\"\n      }\n    },\n    {\n      \"column\": \"HCT\",\n      \"properties\": {\n        \"dtype\": \"number\",\n        \"std\": 104.88610000339357,\n        \"min\": 2.0,\n        \"max\": 3715.0,\n        \"num_unique_values\": 206,\n        \"samples\": [\n          45.2,\n          38.9,\n          40.4\n        ],\n        \"semantic_type\": \"\",\n        \"description\": \"\"\n      }\n    },\n    {\n      \"column\": \"MCV\",\n      \"properties\": {\n        \"dtype\": \"number\",\n        \"std\": 27.17766338327594,\n        \"min\": -79.3,\n        \"max\": 990.0,\n        \"num_unique_values\": 317,\n        \"samples\": [\n          76.7,\n          63.2,\n          85.2\n        ],\n        \"semantic_type\": \"\",\n        \"description\": \"\"\n      }\n    },\n    {\n      \"column\": \"MCH\",\n      \"properties\": {\n        \"dtype\": \"number\",\n        \"std\": 111.17075617529822,\n        \"min\": 10.9,\n        \"max\": 3117.0,\n        \"num_unique_values\": 191,\n        \"samples\": [\n          33.1,\n          26.0,\n          35.2\n        ],\n        \"semantic_type\": \"\",\n        \"description\": \"\"\n      }\n    },\n    {\n      \"column\": \"MCHC\",\n      \"properties\": {\n        \"dtype\": \"number\",\n        \"std\": 3.3003519902856335,\n        \"min\": 11.5,\n        \"max\": 92.8,\n        \"num_unique_values\": 126,\n        \"samples\": [\n          33.4,\n          31.1,\n          39.4\n        ],\n        \"semantic_type\": \"\",\n        \"description\": \"\"\n      }\n    },\n    {\n      \"column\": \"PLT\",\n      \"properties\": {\n        \"dtype\": \"number\",\n        \"std\": 93.01933568238563,\n        \"min\": 10.0,\n        \"max\": 660.0,\n        \"num_unique_values\": 291,\n        \"samples\": [\n          168.0,\n          281.0,\n          177.0\n        ],\n        \"semantic_type\": \"\",\n        \"description\": \"\"\n      }\n    },\n    {\n      \"column\": \"PDW\",\n      \"properties\": {\n        \"dtype\": \"number\",\n        \"std\": 3.0050786244243297,\n        \"min\": 8.4,\n        \"max\": 97.0,\n        \"num_unique_values\": 104,\n        \"samples\": [\n          9.7,\n          15.8,\n          16.0\n        ],\n        \"semantic_type\": \"\",\n        \"description\": \"\"\n      }\n    },\n    {\n      \"column\": \"PCT\",\n      \"properties\": {\n        \"dtype\": \"number\",\n        \"std\": 0.6853505950424202,\n        \"min\": 0.01,\n        \"max\": 13.6,\n        \"num_unique_values\": 40,\n        \"samples\": [\n          0.1,\n          0.23,\n          0.11\n        ],\n        \"semantic_type\": \"\",\n        \"description\": \"\"\n      }\n    },\n    {\n      \"column\": \"Diagnosis\",\n      \"properties\": {\n        \"dtype\": \"category\",\n        \"num_unique_values\": 9,\n        \"samples\": [\n          \"Leukemia with thrombocytopenia\",\n          \"Iron deficiency anemia\",\n          \"Thrombocytopenia\"\n        ],\n        \"semantic_type\": \"\",\n        \"description\": \"\"\n      }\n    }\n  ]\n}"
            }
          },
          "metadata": {},
          "execution_count": 190
        }
      ]
    },
    {
      "cell_type": "markdown",
      "source": [
        "## Data Exploration"
      ],
      "metadata": {
        "id": "YrSuNZ0MbLxe"
      }
    },
    {
      "cell_type": "code",
      "source": [
        "print(df.shape)\n",
        "df.info()"
      ],
      "metadata": {
        "colab": {
          "base_uri": "https://localhost:8080/"
        },
        "id": "bNm1jDLgdyFm",
        "outputId": "acaf81a9-260c-483f-811e-ab8279162b90"
      },
      "execution_count": null,
      "outputs": [
        {
          "output_type": "stream",
          "name": "stdout",
          "text": [
            "(1281, 15)\n",
            "<class 'pandas.core.frame.DataFrame'>\n",
            "RangeIndex: 1281 entries, 0 to 1280\n",
            "Data columns (total 15 columns):\n",
            " #   Column     Non-Null Count  Dtype  \n",
            "---  ------     --------------  -----  \n",
            " 0   WBC        1281 non-null   float64\n",
            " 1   LYMp       1281 non-null   float64\n",
            " 2   NEUTp      1281 non-null   float64\n",
            " 3   LYMn       1281 non-null   float64\n",
            " 4   NEUTn      1281 non-null   float64\n",
            " 5   RBC        1281 non-null   float64\n",
            " 6   HGB        1281 non-null   float64\n",
            " 7   HCT        1281 non-null   float64\n",
            " 8   MCV        1281 non-null   float64\n",
            " 9   MCH        1281 non-null   float64\n",
            " 10  MCHC       1281 non-null   float64\n",
            " 11  PLT        1281 non-null   float64\n",
            " 12  PDW        1281 non-null   float64\n",
            " 13  PCT        1281 non-null   float64\n",
            " 14  Diagnosis  1281 non-null   object \n",
            "dtypes: float64(14), object(1)\n",
            "memory usage: 150.2+ KB\n"
          ]
        }
      ]
    },
    {
      "cell_type": "code",
      "source": [
        "df.describe()"
      ],
      "metadata": {
        "colab": {
          "base_uri": "https://localhost:8080/",
          "height": 320
        },
        "id": "Toa4Kp20dlM_",
        "outputId": "fd1ce019-49e3-4724-f800-b026325792fa"
      },
      "execution_count": null,
      "outputs": [
        {
          "output_type": "execute_result",
          "data": {
            "text/plain": [
              "               WBC         LYMp        NEUTp         LYMn        NEUTn  \\\n",
              "count  1281.000000  1281.000000  1281.000000  1281.000000  1281.000000   \n",
              "mean      7.862717    25.845000    77.511000     1.880760     5.140940   \n",
              "std       3.564466     7.038728   147.746273     1.335689     2.872294   \n",
              "min       0.800000     6.200000     0.700000     0.200000     0.500000   \n",
              "25%       6.000000    25.845000    71.100000     1.880760     5.100000   \n",
              "50%       7.400000    25.845000    77.511000     1.880760     5.140940   \n",
              "75%       8.680000    25.845000    77.511000     1.880760     5.140940   \n",
              "max      45.700000    91.400000  5317.000000    41.800000    79.000000   \n",
              "\n",
              "               RBC          HGB        HCT          MCV          MCH  \\\n",
              "count  1281.000000  1281.000000  1281.0000  1281.000000  1281.000000   \n",
              "mean      4.708267    12.184551    46.1526    85.793919    32.084840   \n",
              "std       2.817200     3.812897   104.8861    27.177663   111.170756   \n",
              "min       1.360000   -10.000000     2.0000   -79.300000    10.900000   \n",
              "25%       4.190000    10.800000    39.2000    81.200000    25.500000   \n",
              "50%       4.600000    12.300000    46.1526    86.600000    27.800000   \n",
              "75%       5.100000    13.500000    46.1526    90.200000    29.600000   \n",
              "max      90.800000    87.100000  3715.0000   990.000000  3117.000000   \n",
              "\n",
              "              MCHC          PLT          PDW          PCT  \n",
              "count  1281.000000  1281.000000  1281.000000  1281.000000  \n",
              "mean     31.739149   229.981421    14.312512     0.260280  \n",
              "std       3.300352    93.019336     3.005079     0.685351  \n",
              "min      11.500000    10.000000     8.400000     0.010000  \n",
              "25%      30.600000   157.000000    13.300000     0.170000  \n",
              "50%      32.000000   213.000000    14.312512     0.260280  \n",
              "75%      32.900000   293.000000    14.700000     0.260280  \n",
              "max      92.800000   660.000000    97.000000    13.600000  "
            ],
            "text/html": [
              "\n",
              "  <div id=\"df-191c5dde-8cbc-4639-9acf-de86039faaf3\" class=\"colab-df-container\">\n",
              "    <div>\n",
              "<style scoped>\n",
              "    .dataframe tbody tr th:only-of-type {\n",
              "        vertical-align: middle;\n",
              "    }\n",
              "\n",
              "    .dataframe tbody tr th {\n",
              "        vertical-align: top;\n",
              "    }\n",
              "\n",
              "    .dataframe thead th {\n",
              "        text-align: right;\n",
              "    }\n",
              "</style>\n",
              "<table border=\"1\" class=\"dataframe\">\n",
              "  <thead>\n",
              "    <tr style=\"text-align: right;\">\n",
              "      <th></th>\n",
              "      <th>WBC</th>\n",
              "      <th>LYMp</th>\n",
              "      <th>NEUTp</th>\n",
              "      <th>LYMn</th>\n",
              "      <th>NEUTn</th>\n",
              "      <th>RBC</th>\n",
              "      <th>HGB</th>\n",
              "      <th>HCT</th>\n",
              "      <th>MCV</th>\n",
              "      <th>MCH</th>\n",
              "      <th>MCHC</th>\n",
              "      <th>PLT</th>\n",
              "      <th>PDW</th>\n",
              "      <th>PCT</th>\n",
              "    </tr>\n",
              "  </thead>\n",
              "  <tbody>\n",
              "    <tr>\n",
              "      <th>count</th>\n",
              "      <td>1281.000000</td>\n",
              "      <td>1281.000000</td>\n",
              "      <td>1281.000000</td>\n",
              "      <td>1281.000000</td>\n",
              "      <td>1281.000000</td>\n",
              "      <td>1281.000000</td>\n",
              "      <td>1281.000000</td>\n",
              "      <td>1281.0000</td>\n",
              "      <td>1281.000000</td>\n",
              "      <td>1281.000000</td>\n",
              "      <td>1281.000000</td>\n",
              "      <td>1281.000000</td>\n",
              "      <td>1281.000000</td>\n",
              "      <td>1281.000000</td>\n",
              "    </tr>\n",
              "    <tr>\n",
              "      <th>mean</th>\n",
              "      <td>7.862717</td>\n",
              "      <td>25.845000</td>\n",
              "      <td>77.511000</td>\n",
              "      <td>1.880760</td>\n",
              "      <td>5.140940</td>\n",
              "      <td>4.708267</td>\n",
              "      <td>12.184551</td>\n",
              "      <td>46.1526</td>\n",
              "      <td>85.793919</td>\n",
              "      <td>32.084840</td>\n",
              "      <td>31.739149</td>\n",
              "      <td>229.981421</td>\n",
              "      <td>14.312512</td>\n",
              "      <td>0.260280</td>\n",
              "    </tr>\n",
              "    <tr>\n",
              "      <th>std</th>\n",
              "      <td>3.564466</td>\n",
              "      <td>7.038728</td>\n",
              "      <td>147.746273</td>\n",
              "      <td>1.335689</td>\n",
              "      <td>2.872294</td>\n",
              "      <td>2.817200</td>\n",
              "      <td>3.812897</td>\n",
              "      <td>104.8861</td>\n",
              "      <td>27.177663</td>\n",
              "      <td>111.170756</td>\n",
              "      <td>3.300352</td>\n",
              "      <td>93.019336</td>\n",
              "      <td>3.005079</td>\n",
              "      <td>0.685351</td>\n",
              "    </tr>\n",
              "    <tr>\n",
              "      <th>min</th>\n",
              "      <td>0.800000</td>\n",
              "      <td>6.200000</td>\n",
              "      <td>0.700000</td>\n",
              "      <td>0.200000</td>\n",
              "      <td>0.500000</td>\n",
              "      <td>1.360000</td>\n",
              "      <td>-10.000000</td>\n",
              "      <td>2.0000</td>\n",
              "      <td>-79.300000</td>\n",
              "      <td>10.900000</td>\n",
              "      <td>11.500000</td>\n",
              "      <td>10.000000</td>\n",
              "      <td>8.400000</td>\n",
              "      <td>0.010000</td>\n",
              "    </tr>\n",
              "    <tr>\n",
              "      <th>25%</th>\n",
              "      <td>6.000000</td>\n",
              "      <td>25.845000</td>\n",
              "      <td>71.100000</td>\n",
              "      <td>1.880760</td>\n",
              "      <td>5.100000</td>\n",
              "      <td>4.190000</td>\n",
              "      <td>10.800000</td>\n",
              "      <td>39.2000</td>\n",
              "      <td>81.200000</td>\n",
              "      <td>25.500000</td>\n",
              "      <td>30.600000</td>\n",
              "      <td>157.000000</td>\n",
              "      <td>13.300000</td>\n",
              "      <td>0.170000</td>\n",
              "    </tr>\n",
              "    <tr>\n",
              "      <th>50%</th>\n",
              "      <td>7.400000</td>\n",
              "      <td>25.845000</td>\n",
              "      <td>77.511000</td>\n",
              "      <td>1.880760</td>\n",
              "      <td>5.140940</td>\n",
              "      <td>4.600000</td>\n",
              "      <td>12.300000</td>\n",
              "      <td>46.1526</td>\n",
              "      <td>86.600000</td>\n",
              "      <td>27.800000</td>\n",
              "      <td>32.000000</td>\n",
              "      <td>213.000000</td>\n",
              "      <td>14.312512</td>\n",
              "      <td>0.260280</td>\n",
              "    </tr>\n",
              "    <tr>\n",
              "      <th>75%</th>\n",
              "      <td>8.680000</td>\n",
              "      <td>25.845000</td>\n",
              "      <td>77.511000</td>\n",
              "      <td>1.880760</td>\n",
              "      <td>5.140940</td>\n",
              "      <td>5.100000</td>\n",
              "      <td>13.500000</td>\n",
              "      <td>46.1526</td>\n",
              "      <td>90.200000</td>\n",
              "      <td>29.600000</td>\n",
              "      <td>32.900000</td>\n",
              "      <td>293.000000</td>\n",
              "      <td>14.700000</td>\n",
              "      <td>0.260280</td>\n",
              "    </tr>\n",
              "    <tr>\n",
              "      <th>max</th>\n",
              "      <td>45.700000</td>\n",
              "      <td>91.400000</td>\n",
              "      <td>5317.000000</td>\n",
              "      <td>41.800000</td>\n",
              "      <td>79.000000</td>\n",
              "      <td>90.800000</td>\n",
              "      <td>87.100000</td>\n",
              "      <td>3715.0000</td>\n",
              "      <td>990.000000</td>\n",
              "      <td>3117.000000</td>\n",
              "      <td>92.800000</td>\n",
              "      <td>660.000000</td>\n",
              "      <td>97.000000</td>\n",
              "      <td>13.600000</td>\n",
              "    </tr>\n",
              "  </tbody>\n",
              "</table>\n",
              "</div>\n",
              "    <div class=\"colab-df-buttons\">\n",
              "\n",
              "  <div class=\"colab-df-container\">\n",
              "    <button class=\"colab-df-convert\" onclick=\"convertToInteractive('df-191c5dde-8cbc-4639-9acf-de86039faaf3')\"\n",
              "            title=\"Convert this dataframe to an interactive table.\"\n",
              "            style=\"display:none;\">\n",
              "\n",
              "  <svg xmlns=\"http://www.w3.org/2000/svg\" height=\"24px\" viewBox=\"0 -960 960 960\">\n",
              "    <path d=\"M120-120v-720h720v720H120Zm60-500h600v-160H180v160Zm220 220h160v-160H400v160Zm0 220h160v-160H400v160ZM180-400h160v-160H180v160Zm440 0h160v-160H620v160ZM180-180h160v-160H180v160Zm440 0h160v-160H620v160Z\"/>\n",
              "  </svg>\n",
              "    </button>\n",
              "\n",
              "  <style>\n",
              "    .colab-df-container {\n",
              "      display:flex;\n",
              "      gap: 12px;\n",
              "    }\n",
              "\n",
              "    .colab-df-convert {\n",
              "      background-color: #E8F0FE;\n",
              "      border: none;\n",
              "      border-radius: 50%;\n",
              "      cursor: pointer;\n",
              "      display: none;\n",
              "      fill: #1967D2;\n",
              "      height: 32px;\n",
              "      padding: 0 0 0 0;\n",
              "      width: 32px;\n",
              "    }\n",
              "\n",
              "    .colab-df-convert:hover {\n",
              "      background-color: #E2EBFA;\n",
              "      box-shadow: 0px 1px 2px rgba(60, 64, 67, 0.3), 0px 1px 3px 1px rgba(60, 64, 67, 0.15);\n",
              "      fill: #174EA6;\n",
              "    }\n",
              "\n",
              "    .colab-df-buttons div {\n",
              "      margin-bottom: 4px;\n",
              "    }\n",
              "\n",
              "    [theme=dark] .colab-df-convert {\n",
              "      background-color: #3B4455;\n",
              "      fill: #D2E3FC;\n",
              "    }\n",
              "\n",
              "    [theme=dark] .colab-df-convert:hover {\n",
              "      background-color: #434B5C;\n",
              "      box-shadow: 0px 1px 3px 1px rgba(0, 0, 0, 0.15);\n",
              "      filter: drop-shadow(0px 1px 2px rgba(0, 0, 0, 0.3));\n",
              "      fill: #FFFFFF;\n",
              "    }\n",
              "  </style>\n",
              "\n",
              "    <script>\n",
              "      const buttonEl =\n",
              "        document.querySelector('#df-191c5dde-8cbc-4639-9acf-de86039faaf3 button.colab-df-convert');\n",
              "      buttonEl.style.display =\n",
              "        google.colab.kernel.accessAllowed ? 'block' : 'none';\n",
              "\n",
              "      async function convertToInteractive(key) {\n",
              "        const element = document.querySelector('#df-191c5dde-8cbc-4639-9acf-de86039faaf3');\n",
              "        const dataTable =\n",
              "          await google.colab.kernel.invokeFunction('convertToInteractive',\n",
              "                                                    [key], {});\n",
              "        if (!dataTable) return;\n",
              "\n",
              "        const docLinkHtml = 'Like what you see? Visit the ' +\n",
              "          '<a target=\"_blank\" href=https://colab.research.google.com/notebooks/data_table.ipynb>data table notebook</a>'\n",
              "          + ' to learn more about interactive tables.';\n",
              "        element.innerHTML = '';\n",
              "        dataTable['output_type'] = 'display_data';\n",
              "        await google.colab.output.renderOutput(dataTable, element);\n",
              "        const docLink = document.createElement('div');\n",
              "        docLink.innerHTML = docLinkHtml;\n",
              "        element.appendChild(docLink);\n",
              "      }\n",
              "    </script>\n",
              "  </div>\n",
              "\n",
              "\n",
              "<div id=\"df-ec0894f5-5ace-4618-a058-98b9a1513b1c\">\n",
              "  <button class=\"colab-df-quickchart\" onclick=\"quickchart('df-ec0894f5-5ace-4618-a058-98b9a1513b1c')\"\n",
              "            title=\"Suggest charts\"\n",
              "            style=\"display:none;\">\n",
              "\n",
              "<svg xmlns=\"http://www.w3.org/2000/svg\" height=\"24px\"viewBox=\"0 0 24 24\"\n",
              "     width=\"24px\">\n",
              "    <g>\n",
              "        <path d=\"M19 3H5c-1.1 0-2 .9-2 2v14c0 1.1.9 2 2 2h14c1.1 0 2-.9 2-2V5c0-1.1-.9-2-2-2zM9 17H7v-7h2v7zm4 0h-2V7h2v10zm4 0h-2v-4h2v4z\"/>\n",
              "    </g>\n",
              "</svg>\n",
              "  </button>\n",
              "\n",
              "<style>\n",
              "  .colab-df-quickchart {\n",
              "      --bg-color: #E8F0FE;\n",
              "      --fill-color: #1967D2;\n",
              "      --hover-bg-color: #E2EBFA;\n",
              "      --hover-fill-color: #174EA6;\n",
              "      --disabled-fill-color: #AAA;\n",
              "      --disabled-bg-color: #DDD;\n",
              "  }\n",
              "\n",
              "  [theme=dark] .colab-df-quickchart {\n",
              "      --bg-color: #3B4455;\n",
              "      --fill-color: #D2E3FC;\n",
              "      --hover-bg-color: #434B5C;\n",
              "      --hover-fill-color: #FFFFFF;\n",
              "      --disabled-bg-color: #3B4455;\n",
              "      --disabled-fill-color: #666;\n",
              "  }\n",
              "\n",
              "  .colab-df-quickchart {\n",
              "    background-color: var(--bg-color);\n",
              "    border: none;\n",
              "    border-radius: 50%;\n",
              "    cursor: pointer;\n",
              "    display: none;\n",
              "    fill: var(--fill-color);\n",
              "    height: 32px;\n",
              "    padding: 0;\n",
              "    width: 32px;\n",
              "  }\n",
              "\n",
              "  .colab-df-quickchart:hover {\n",
              "    background-color: var(--hover-bg-color);\n",
              "    box-shadow: 0 1px 2px rgba(60, 64, 67, 0.3), 0 1px 3px 1px rgba(60, 64, 67, 0.15);\n",
              "    fill: var(--button-hover-fill-color);\n",
              "  }\n",
              "\n",
              "  .colab-df-quickchart-complete:disabled,\n",
              "  .colab-df-quickchart-complete:disabled:hover {\n",
              "    background-color: var(--disabled-bg-color);\n",
              "    fill: var(--disabled-fill-color);\n",
              "    box-shadow: none;\n",
              "  }\n",
              "\n",
              "  .colab-df-spinner {\n",
              "    border: 2px solid var(--fill-color);\n",
              "    border-color: transparent;\n",
              "    border-bottom-color: var(--fill-color);\n",
              "    animation:\n",
              "      spin 1s steps(1) infinite;\n",
              "  }\n",
              "\n",
              "  @keyframes spin {\n",
              "    0% {\n",
              "      border-color: transparent;\n",
              "      border-bottom-color: var(--fill-color);\n",
              "      border-left-color: var(--fill-color);\n",
              "    }\n",
              "    20% {\n",
              "      border-color: transparent;\n",
              "      border-left-color: var(--fill-color);\n",
              "      border-top-color: var(--fill-color);\n",
              "    }\n",
              "    30% {\n",
              "      border-color: transparent;\n",
              "      border-left-color: var(--fill-color);\n",
              "      border-top-color: var(--fill-color);\n",
              "      border-right-color: var(--fill-color);\n",
              "    }\n",
              "    40% {\n",
              "      border-color: transparent;\n",
              "      border-right-color: var(--fill-color);\n",
              "      border-top-color: var(--fill-color);\n",
              "    }\n",
              "    60% {\n",
              "      border-color: transparent;\n",
              "      border-right-color: var(--fill-color);\n",
              "    }\n",
              "    80% {\n",
              "      border-color: transparent;\n",
              "      border-right-color: var(--fill-color);\n",
              "      border-bottom-color: var(--fill-color);\n",
              "    }\n",
              "    90% {\n",
              "      border-color: transparent;\n",
              "      border-bottom-color: var(--fill-color);\n",
              "    }\n",
              "  }\n",
              "</style>\n",
              "\n",
              "  <script>\n",
              "    async function quickchart(key) {\n",
              "      const quickchartButtonEl =\n",
              "        document.querySelector('#' + key + ' button');\n",
              "      quickchartButtonEl.disabled = true;  // To prevent multiple clicks.\n",
              "      quickchartButtonEl.classList.add('colab-df-spinner');\n",
              "      try {\n",
              "        const charts = await google.colab.kernel.invokeFunction(\n",
              "            'suggestCharts', [key], {});\n",
              "      } catch (error) {\n",
              "        console.error('Error during call to suggestCharts:', error);\n",
              "      }\n",
              "      quickchartButtonEl.classList.remove('colab-df-spinner');\n",
              "      quickchartButtonEl.classList.add('colab-df-quickchart-complete');\n",
              "    }\n",
              "    (() => {\n",
              "      let quickchartButtonEl =\n",
              "        document.querySelector('#df-ec0894f5-5ace-4618-a058-98b9a1513b1c button');\n",
              "      quickchartButtonEl.style.display =\n",
              "        google.colab.kernel.accessAllowed ? 'block' : 'none';\n",
              "    })();\n",
              "  </script>\n",
              "</div>\n",
              "\n",
              "    </div>\n",
              "  </div>\n"
            ],
            "application/vnd.google.colaboratory.intrinsic+json": {
              "type": "dataframe",
              "summary": "{\n  \"name\": \"df\",\n  \"rows\": 8,\n  \"fields\": [\n    {\n      \"column\": \"WBC\",\n      \"properties\": {\n        \"dtype\": \"number\",\n        \"std\": 449.0860864541886,\n        \"min\": 0.8,\n        \"max\": 1281.0,\n        \"num_unique_values\": 8,\n        \"samples\": [\n          7.86271662763466,\n          7.4,\n          1281.0\n        ],\n        \"semantic_type\": \"\",\n        \"description\": \"\"\n      }\n    },\n    {\n      \"column\": \"LYMp\",\n      \"properties\": {\n        \"dtype\": \"number\",\n        \"std\": 443.1909784104029,\n        \"min\": 6.2,\n        \"max\": 1281.0,\n        \"num_unique_values\": 6,\n        \"samples\": [\n          1281.0,\n          25.844999999999995,\n          91.4\n        ],\n        \"semantic_type\": \"\",\n        \"description\": \"\"\n      }\n    },\n    {\n      \"column\": \"NEUTp\",\n      \"properties\": {\n        \"dtype\": \"number\",\n        \"std\": 1841.7152838378313,\n        \"min\": 0.7,\n        \"max\": 5317.0,\n        \"num_unique_values\": 6,\n        \"samples\": [\n          1281.0,\n          77.511,\n          5317.0\n        ],\n        \"semantic_type\": \"\",\n        \"description\": \"\"\n      }\n    },\n    {\n      \"column\": \"LYMn\",\n      \"properties\": {\n        \"dtype\": \"number\",\n        \"std\": 450.55414354331236,\n        \"min\": 0.2,\n        \"max\": 1281.0,\n        \"num_unique_values\": 5,\n        \"samples\": [\n          1.88076,\n          41.8,\n          1.3356889933195522\n        ],\n        \"semantic_type\": \"\",\n        \"description\": \"\"\n      }\n    },\n    {\n      \"column\": \"NEUTn\",\n      \"properties\": {\n        \"dtype\": \"number\",\n        \"std\": 448.4768009854313,\n        \"min\": 0.5,\n        \"max\": 1281.0,\n        \"num_unique_values\": 6,\n        \"samples\": [\n          1281.0,\n          5.14094,\n          79.0\n        ],\n        \"semantic_type\": \"\",\n        \"description\": \"\"\n      }\n    },\n    {\n      \"column\": \"RBC\",\n      \"properties\": {\n        \"dtype\": \"number\",\n        \"std\": 448.20231852519044,\n        \"min\": 1.36,\n        \"max\": 1281.0,\n        \"num_unique_values\": 8,\n        \"samples\": [\n          4.708266978922716,\n          4.6,\n          1281.0\n        ],\n        \"semantic_type\": \"\",\n        \"description\": \"\"\n      }\n    },\n    {\n      \"column\": \"HGB\",\n      \"properties\": {\n        \"dtype\": \"number\",\n        \"std\": 447.29379608834466,\n        \"min\": -10.0,\n        \"max\": 1281.0,\n        \"num_unique_values\": 8,\n        \"samples\": [\n          12.184551131928181,\n          12.3,\n          1281.0\n        ],\n        \"semantic_type\": \"\",\n        \"description\": \"\"\n      }\n    },\n    {\n      \"column\": \"HCT\",\n      \"properties\": {\n        \"dtype\": \"number\",\n        \"std\": 1307.9755314690015,\n        \"min\": 2.0,\n        \"max\": 3715.0,\n        \"num_unique_values\": 6,\n        \"samples\": [\n          1281.0,\n          46.1526,\n          3715.0\n        ],\n        \"semantic_type\": \"\",\n        \"description\": \"\"\n      }\n    },\n    {\n      \"column\": \"MCV\",\n      \"properties\": {\n        \"dtype\": \"number\",\n        \"std\": 512.245343995785,\n        \"min\": -79.3,\n        \"max\": 1281.0,\n        \"num_unique_values\": 8,\n        \"samples\": [\n          85.79391881342701,\n          86.6,\n          1281.0\n        ],\n        \"semantic_type\": \"\",\n        \"description\": \"\"\n      }\n    },\n    {\n      \"column\": \"MCH\",\n      \"properties\": {\n        \"dtype\": \"number\",\n        \"std\": 1114.001082749288,\n        \"min\": 10.9,\n        \"max\": 3117.0,\n        \"num_unique_values\": 8,\n        \"samples\": [\n          32.084839968774396,\n          27.8,\n          1281.0\n        ],\n        \"semantic_type\": \"\",\n        \"description\": \"\"\n      }\n    },\n    {\n      \"column\": \"MCHC\",\n      \"properties\": {\n        \"dtype\": \"number\",\n        \"std\": 441.83787456081535,\n        \"min\": 3.3003519902856335,\n        \"max\": 1281.0,\n        \"num_unique_values\": 8,\n        \"samples\": [\n          31.739149102263863,\n          32.0,\n          1281.0\n        ],\n        \"semantic_type\": \"\",\n        \"description\": \"\"\n      }\n    },\n    {\n      \"column\": \"PLT\",\n      \"properties\": {\n        \"dtype\": \"number\",\n        \"std\": 416.7605290959423,\n        \"min\": 10.0,\n        \"max\": 1281.0,\n        \"num_unique_values\": 8,\n        \"samples\": [\n          229.98142076502728,\n          213.0,\n          1281.0\n        ],\n        \"semantic_type\": \"\",\n        \"description\": \"\"\n      }\n    },\n    {\n      \"column\": \"PDW\",\n      \"properties\": {\n        \"dtype\": \"number\",\n        \"std\": 445.59380679371515,\n        \"min\": 3.0050786244243297,\n        \"max\": 1281.0,\n        \"num_unique_values\": 8,\n        \"samples\": [\n          14.312511572747852,\n          14.31251157,\n          1281.0\n        ],\n        \"semantic_type\": \"\",\n        \"description\": \"\"\n      }\n    },\n    {\n      \"column\": \"PCT\",\n      \"properties\": {\n        \"dtype\": \"number\",\n        \"std\": 452.1559289533161,\n        \"min\": 0.01,\n        \"max\": 1281.0,\n        \"num_unique_values\": 6,\n        \"samples\": [\n          1281.0,\n          0.26028,\n          13.6\n        ],\n        \"semantic_type\": \"\",\n        \"description\": \"\"\n      }\n    }\n  ]\n}"
            }
          },
          "metadata": {},
          "execution_count": 103
        }
      ]
    },
    {
      "cell_type": "code",
      "source": [
        "# missing value\n",
        "\n",
        "df.isna().sum()"
      ],
      "metadata": {
        "colab": {
          "base_uri": "https://localhost:8080/",
          "height": 554
        },
        "id": "5ratIoH32Olo",
        "outputId": "74a8f0d0-3f54-4e6d-bf39-99ceb6a37ff5"
      },
      "execution_count": null,
      "outputs": [
        {
          "output_type": "execute_result",
          "data": {
            "text/plain": [
              "WBC          0\n",
              "LYMp         0\n",
              "NEUTp        0\n",
              "LYMn         0\n",
              "NEUTn        0\n",
              "RBC          0\n",
              "HGB          0\n",
              "HCT          0\n",
              "MCV          0\n",
              "MCH          0\n",
              "MCHC         0\n",
              "PLT          0\n",
              "PDW          0\n",
              "PCT          0\n",
              "Diagnosis    0\n",
              "dtype: int64"
            ],
            "text/html": [
              "<div>\n",
              "<style scoped>\n",
              "    .dataframe tbody tr th:only-of-type {\n",
              "        vertical-align: middle;\n",
              "    }\n",
              "\n",
              "    .dataframe tbody tr th {\n",
              "        vertical-align: top;\n",
              "    }\n",
              "\n",
              "    .dataframe thead th {\n",
              "        text-align: right;\n",
              "    }\n",
              "</style>\n",
              "<table border=\"1\" class=\"dataframe\">\n",
              "  <thead>\n",
              "    <tr style=\"text-align: right;\">\n",
              "      <th></th>\n",
              "      <th>0</th>\n",
              "    </tr>\n",
              "  </thead>\n",
              "  <tbody>\n",
              "    <tr>\n",
              "      <th>WBC</th>\n",
              "      <td>0</td>\n",
              "    </tr>\n",
              "    <tr>\n",
              "      <th>LYMp</th>\n",
              "      <td>0</td>\n",
              "    </tr>\n",
              "    <tr>\n",
              "      <th>NEUTp</th>\n",
              "      <td>0</td>\n",
              "    </tr>\n",
              "    <tr>\n",
              "      <th>LYMn</th>\n",
              "      <td>0</td>\n",
              "    </tr>\n",
              "    <tr>\n",
              "      <th>NEUTn</th>\n",
              "      <td>0</td>\n",
              "    </tr>\n",
              "    <tr>\n",
              "      <th>RBC</th>\n",
              "      <td>0</td>\n",
              "    </tr>\n",
              "    <tr>\n",
              "      <th>HGB</th>\n",
              "      <td>0</td>\n",
              "    </tr>\n",
              "    <tr>\n",
              "      <th>HCT</th>\n",
              "      <td>0</td>\n",
              "    </tr>\n",
              "    <tr>\n",
              "      <th>MCV</th>\n",
              "      <td>0</td>\n",
              "    </tr>\n",
              "    <tr>\n",
              "      <th>MCH</th>\n",
              "      <td>0</td>\n",
              "    </tr>\n",
              "    <tr>\n",
              "      <th>MCHC</th>\n",
              "      <td>0</td>\n",
              "    </tr>\n",
              "    <tr>\n",
              "      <th>PLT</th>\n",
              "      <td>0</td>\n",
              "    </tr>\n",
              "    <tr>\n",
              "      <th>PDW</th>\n",
              "      <td>0</td>\n",
              "    </tr>\n",
              "    <tr>\n",
              "      <th>PCT</th>\n",
              "      <td>0</td>\n",
              "    </tr>\n",
              "    <tr>\n",
              "      <th>Diagnosis</th>\n",
              "      <td>0</td>\n",
              "    </tr>\n",
              "  </tbody>\n",
              "</table>\n",
              "</div><br><label><b>dtype:</b> int64</label>"
            ]
          },
          "metadata": {},
          "execution_count": 104
        }
      ]
    },
    {
      "cell_type": "code",
      "source": [
        "# data duplicate\n",
        "\n",
        "print(\"Jumlah duplikasi pada data: \", df.duplicated().sum())\n",
        "\n",
        "# drop duplilcate data\n",
        "\n",
        "df.drop_duplicates(inplace=True)\n",
        "print(\"Jumlah duplikasi pada data: \", df.duplicated().sum())"
      ],
      "metadata": {
        "colab": {
          "base_uri": "https://localhost:8080/"
        },
        "id": "PHhxKFj62fQh",
        "outputId": "c52dd58e-b88c-4e19-e297-e608820c1bf7"
      },
      "execution_count": null,
      "outputs": [
        {
          "output_type": "stream",
          "name": "stdout",
          "text": [
            "Jumlah duplikasi pada data:  49\n",
            "Jumlah duplikasi pada data:  0\n"
          ]
        }
      ]
    },
    {
      "cell_type": "code",
      "source": [
        "# feature description\n",
        "column_descriptions = {\n",
        "    \"WBC\": [\"White Blood Cell count\", \"jumlah sel darah putih dalam darah\"],\n",
        "    \"LYMp\": [\"Lymphocyte percentage\", \"sel darah putih yang membantu melawan infeksi\"],\n",
        "    \"NEUTp\": [\"Neutrophil percentage\", \"sel darah putih yang penting dalam melawan bakteri\"],\n",
        "    \"LYMn\": [\"Lymphocyte number\", \"jumlah absolut limfosit dalam darah\"],\n",
        "    \"NEUTn\": [\"Neutrophil number\", \"jumlah absolut neutrofil dalam darah\"],\n",
        "    \"RBC\": [\"Red Blood Cell count\", \"jumlah sel darah merah\"],\n",
        "    \"HGB\": [\"Hemoglobin level\", \"protein dalam sel darah merah yang membawa oksigen\"],\n",
        "    \"HCT\": [\"Hematocrit\", \"persentase volume darah yang terdiri dari sel darah merah\"],\n",
        "    \"MCV\": [\"Mean Corpuscular Volume\", \"rata-rata volume sel darah merah, membantu dalam mendiagnosis jenis anemia\"],\n",
        "    \"MCH\": [\"Mean Corpuscular Hemoglobin\", \"rata-rata jumlah hemoglobin per sel darah merah\"],\n",
        "    \"MCHC\": [\"Mean Corpuscular Hemoglobin Concentration\", \"rata-rata konsentrasi hemoglobin dalam volume sel darah merah\"],\n",
        "    \"PLT\": [\"Platelet count\", \"jumlah trombosit, yang berperan dalam proses pembekuan darah\"],\n",
        "    \"PDW\": [\"Platelet Distribution Width\", \"ukuran distribusi ukuran trombosit dalam darah\"],\n",
        "    \"PCT\": [\"Plateletcrit\", \"persentase volume darah yang terdiri dari trombosit\"],\n",
        "    \"Diagnosis\": [\"Output/Label\", \"tipe anemia\"]\n",
        "}\n",
        "\n",
        "# using table\n",
        "df_descriptions = pd.DataFrame.from_dict(column_descriptions, orient=\"index\", columns=[\"Description\", \"Additional Description\"])\n",
        "df_descriptions.reset_index(inplace=True)\n",
        "df_descriptions.rename(columns={\"index\": \"Column\"}, inplace=True)\n",
        "\n",
        "# merapihkan table\n",
        "def left_align(s):\n",
        "    return ['text-align: left' for _ in s]\n",
        "\n",
        "styled_df = df_descriptions.style.apply(left_align, axis=1).set_table_styles(\n",
        "    [{'selector': 'th', 'props': [('text-align', 'left')]}]\n",
        ")\n",
        "\n",
        "styled_df"
      ],
      "metadata": {
        "colab": {
          "base_uri": "https://localhost:8080/",
          "height": 519
        },
        "id": "dX73YDmMvQJu",
        "outputId": "187b22d9-d6c8-4301-8844-b5972a80f479"
      },
      "execution_count": null,
      "outputs": [
        {
          "output_type": "execute_result",
          "data": {
            "text/plain": [
              "<pandas.io.formats.style.Styler at 0x7a68c43bcfd0>"
            ],
            "text/html": [
              "<style type=\"text/css\">\n",
              "#T_0af60 th {\n",
              "  text-align: left;\n",
              "}\n",
              "#T_0af60_row0_col0, #T_0af60_row0_col1, #T_0af60_row0_col2, #T_0af60_row1_col0, #T_0af60_row1_col1, #T_0af60_row1_col2, #T_0af60_row2_col0, #T_0af60_row2_col1, #T_0af60_row2_col2, #T_0af60_row3_col0, #T_0af60_row3_col1, #T_0af60_row3_col2, #T_0af60_row4_col0, #T_0af60_row4_col1, #T_0af60_row4_col2, #T_0af60_row5_col0, #T_0af60_row5_col1, #T_0af60_row5_col2, #T_0af60_row6_col0, #T_0af60_row6_col1, #T_0af60_row6_col2, #T_0af60_row7_col0, #T_0af60_row7_col1, #T_0af60_row7_col2, #T_0af60_row8_col0, #T_0af60_row8_col1, #T_0af60_row8_col2, #T_0af60_row9_col0, #T_0af60_row9_col1, #T_0af60_row9_col2, #T_0af60_row10_col0, #T_0af60_row10_col1, #T_0af60_row10_col2, #T_0af60_row11_col0, #T_0af60_row11_col1, #T_0af60_row11_col2, #T_0af60_row12_col0, #T_0af60_row12_col1, #T_0af60_row12_col2, #T_0af60_row13_col0, #T_0af60_row13_col1, #T_0af60_row13_col2, #T_0af60_row14_col0, #T_0af60_row14_col1, #T_0af60_row14_col2 {\n",
              "  text-align: left;\n",
              "}\n",
              "</style>\n",
              "<table id=\"T_0af60\" class=\"dataframe\">\n",
              "  <thead>\n",
              "    <tr>\n",
              "      <th class=\"blank level0\" >&nbsp;</th>\n",
              "      <th id=\"T_0af60_level0_col0\" class=\"col_heading level0 col0\" >Column</th>\n",
              "      <th id=\"T_0af60_level0_col1\" class=\"col_heading level0 col1\" >Description</th>\n",
              "      <th id=\"T_0af60_level0_col2\" class=\"col_heading level0 col2\" >Additional Description</th>\n",
              "    </tr>\n",
              "  </thead>\n",
              "  <tbody>\n",
              "    <tr>\n",
              "      <th id=\"T_0af60_level0_row0\" class=\"row_heading level0 row0\" >0</th>\n",
              "      <td id=\"T_0af60_row0_col0\" class=\"data row0 col0\" >WBC</td>\n",
              "      <td id=\"T_0af60_row0_col1\" class=\"data row0 col1\" >White Blood Cell count</td>\n",
              "      <td id=\"T_0af60_row0_col2\" class=\"data row0 col2\" >jumlah sel darah putih dalam darah</td>\n",
              "    </tr>\n",
              "    <tr>\n",
              "      <th id=\"T_0af60_level0_row1\" class=\"row_heading level0 row1\" >1</th>\n",
              "      <td id=\"T_0af60_row1_col0\" class=\"data row1 col0\" >LYMp</td>\n",
              "      <td id=\"T_0af60_row1_col1\" class=\"data row1 col1\" >Lymphocyte percentage</td>\n",
              "      <td id=\"T_0af60_row1_col2\" class=\"data row1 col2\" >sel darah putih yang membantu melawan infeksi</td>\n",
              "    </tr>\n",
              "    <tr>\n",
              "      <th id=\"T_0af60_level0_row2\" class=\"row_heading level0 row2\" >2</th>\n",
              "      <td id=\"T_0af60_row2_col0\" class=\"data row2 col0\" >NEUTp</td>\n",
              "      <td id=\"T_0af60_row2_col1\" class=\"data row2 col1\" >Neutrophil percentage</td>\n",
              "      <td id=\"T_0af60_row2_col2\" class=\"data row2 col2\" >sel darah putih yang penting dalam melawan bakteri</td>\n",
              "    </tr>\n",
              "    <tr>\n",
              "      <th id=\"T_0af60_level0_row3\" class=\"row_heading level0 row3\" >3</th>\n",
              "      <td id=\"T_0af60_row3_col0\" class=\"data row3 col0\" >LYMn</td>\n",
              "      <td id=\"T_0af60_row3_col1\" class=\"data row3 col1\" >Lymphocyte number</td>\n",
              "      <td id=\"T_0af60_row3_col2\" class=\"data row3 col2\" >jumlah absolut limfosit dalam darah</td>\n",
              "    </tr>\n",
              "    <tr>\n",
              "      <th id=\"T_0af60_level0_row4\" class=\"row_heading level0 row4\" >4</th>\n",
              "      <td id=\"T_0af60_row4_col0\" class=\"data row4 col0\" >NEUTn</td>\n",
              "      <td id=\"T_0af60_row4_col1\" class=\"data row4 col1\" >Neutrophil number</td>\n",
              "      <td id=\"T_0af60_row4_col2\" class=\"data row4 col2\" >jumlah absolut neutrofil dalam darah</td>\n",
              "    </tr>\n",
              "    <tr>\n",
              "      <th id=\"T_0af60_level0_row5\" class=\"row_heading level0 row5\" >5</th>\n",
              "      <td id=\"T_0af60_row5_col0\" class=\"data row5 col0\" >RBC</td>\n",
              "      <td id=\"T_0af60_row5_col1\" class=\"data row5 col1\" >Red Blood Cell count</td>\n",
              "      <td id=\"T_0af60_row5_col2\" class=\"data row5 col2\" >jumlah sel darah merah</td>\n",
              "    </tr>\n",
              "    <tr>\n",
              "      <th id=\"T_0af60_level0_row6\" class=\"row_heading level0 row6\" >6</th>\n",
              "      <td id=\"T_0af60_row6_col0\" class=\"data row6 col0\" >HGB</td>\n",
              "      <td id=\"T_0af60_row6_col1\" class=\"data row6 col1\" >Hemoglobin level</td>\n",
              "      <td id=\"T_0af60_row6_col2\" class=\"data row6 col2\" >protein dalam sel darah merah yang membawa oksigen</td>\n",
              "    </tr>\n",
              "    <tr>\n",
              "      <th id=\"T_0af60_level0_row7\" class=\"row_heading level0 row7\" >7</th>\n",
              "      <td id=\"T_0af60_row7_col0\" class=\"data row7 col0\" >HCT</td>\n",
              "      <td id=\"T_0af60_row7_col1\" class=\"data row7 col1\" >Hematocrit</td>\n",
              "      <td id=\"T_0af60_row7_col2\" class=\"data row7 col2\" >persentase volume darah yang terdiri dari sel darah merah</td>\n",
              "    </tr>\n",
              "    <tr>\n",
              "      <th id=\"T_0af60_level0_row8\" class=\"row_heading level0 row8\" >8</th>\n",
              "      <td id=\"T_0af60_row8_col0\" class=\"data row8 col0\" >MCV</td>\n",
              "      <td id=\"T_0af60_row8_col1\" class=\"data row8 col1\" >Mean Corpuscular Volume</td>\n",
              "      <td id=\"T_0af60_row8_col2\" class=\"data row8 col2\" >rata-rata volume sel darah merah, membantu dalam mendiagnosis jenis anemia</td>\n",
              "    </tr>\n",
              "    <tr>\n",
              "      <th id=\"T_0af60_level0_row9\" class=\"row_heading level0 row9\" >9</th>\n",
              "      <td id=\"T_0af60_row9_col0\" class=\"data row9 col0\" >MCH</td>\n",
              "      <td id=\"T_0af60_row9_col1\" class=\"data row9 col1\" >Mean Corpuscular Hemoglobin</td>\n",
              "      <td id=\"T_0af60_row9_col2\" class=\"data row9 col2\" >rata-rata jumlah hemoglobin per sel darah merah</td>\n",
              "    </tr>\n",
              "    <tr>\n",
              "      <th id=\"T_0af60_level0_row10\" class=\"row_heading level0 row10\" >10</th>\n",
              "      <td id=\"T_0af60_row10_col0\" class=\"data row10 col0\" >MCHC</td>\n",
              "      <td id=\"T_0af60_row10_col1\" class=\"data row10 col1\" >Mean Corpuscular Hemoglobin Concentration</td>\n",
              "      <td id=\"T_0af60_row10_col2\" class=\"data row10 col2\" >rata-rata konsentrasi hemoglobin dalam volume sel darah merah</td>\n",
              "    </tr>\n",
              "    <tr>\n",
              "      <th id=\"T_0af60_level0_row11\" class=\"row_heading level0 row11\" >11</th>\n",
              "      <td id=\"T_0af60_row11_col0\" class=\"data row11 col0\" >PLT</td>\n",
              "      <td id=\"T_0af60_row11_col1\" class=\"data row11 col1\" >Platelet count</td>\n",
              "      <td id=\"T_0af60_row11_col2\" class=\"data row11 col2\" >jumlah trombosit, yang berperan dalam proses pembekuan darah</td>\n",
              "    </tr>\n",
              "    <tr>\n",
              "      <th id=\"T_0af60_level0_row12\" class=\"row_heading level0 row12\" >12</th>\n",
              "      <td id=\"T_0af60_row12_col0\" class=\"data row12 col0\" >PDW</td>\n",
              "      <td id=\"T_0af60_row12_col1\" class=\"data row12 col1\" >Platelet Distribution Width</td>\n",
              "      <td id=\"T_0af60_row12_col2\" class=\"data row12 col2\" >ukuran distribusi ukuran trombosit dalam darah</td>\n",
              "    </tr>\n",
              "    <tr>\n",
              "      <th id=\"T_0af60_level0_row13\" class=\"row_heading level0 row13\" >13</th>\n",
              "      <td id=\"T_0af60_row13_col0\" class=\"data row13 col0\" >PCT</td>\n",
              "      <td id=\"T_0af60_row13_col1\" class=\"data row13 col1\" >Plateletcrit</td>\n",
              "      <td id=\"T_0af60_row13_col2\" class=\"data row13 col2\" >persentase volume darah yang terdiri dari trombosit</td>\n",
              "    </tr>\n",
              "    <tr>\n",
              "      <th id=\"T_0af60_level0_row14\" class=\"row_heading level0 row14\" >14</th>\n",
              "      <td id=\"T_0af60_row14_col0\" class=\"data row14 col0\" >Diagnosis</td>\n",
              "      <td id=\"T_0af60_row14_col1\" class=\"data row14 col1\" >Output/Label</td>\n",
              "      <td id=\"T_0af60_row14_col2\" class=\"data row14 col2\" >tipe anemia</td>\n",
              "    </tr>\n",
              "  </tbody>\n",
              "</table>\n"
            ]
          },
          "metadata": {},
          "execution_count": 106
        }
      ]
    },
    {
      "cell_type": "code",
      "source": [
        "# label\n",
        "\n",
        "label = df['Diagnosis'].unique()\n",
        "print(label)\n",
        "print(label.dtype)"
      ],
      "metadata": {
        "colab": {
          "base_uri": "https://localhost:8080/"
        },
        "id": "LzFXk9xFhEQf",
        "outputId": "d5819ddb-73c6-478f-fb3e-33522e26e110"
      },
      "execution_count": null,
      "outputs": [
        {
          "output_type": "stream",
          "name": "stdout",
          "text": [
            "['Normocytic hypochromic anemia' 'Iron deficiency anemia'\n",
            " 'Other microcytic anemia' 'Leukemia' 'Healthy' 'Thrombocytopenia'\n",
            " 'Normocytic normochromic anemia' 'Leukemia with thrombocytopenia'\n",
            " 'Macrocytic anemia']\n",
            "object\n"
          ]
        }
      ]
    },
    {
      "cell_type": "markdown",
      "source": [
        "## Data Visualization"
      ],
      "metadata": {
        "id": "aeNW0GS5lguw"
      }
    },
    {
      "cell_type": "code",
      "source": [
        "# feature distribution\n",
        "\n",
        "# numeric column\n",
        "numeric_columns = df.select_dtypes(include=['float64', 'int64']).columns\n",
        "\n",
        "# size and grid\n",
        "fig, axes = plt.subplots(nrows=5, ncols=3, figsize=(10, 15))\n",
        "fig.suptitle('Distribution of Each Column', fontsize=16)\n",
        "axes = axes.flatten()  # Mengubah grid menjadi array untuk iterasi\n",
        "\n",
        "# histogram for each feature\n",
        "for i, col in enumerate(numeric_columns):\n",
        "    df[col].hist(ax=axes[i], bins=15, color='r', edgecolor='black')\n",
        "    axes[i].set_title(col)\n",
        "    axes[i].set_xlabel('Value')\n",
        "    axes[i].set_ylabel('Frequency')\n",
        "\n",
        "for j in range(i + 1, len(axes)):\n",
        "    fig.delaxes(axes[j])\n",
        "\n",
        "plt.tight_layout(rect=[0, 0.03, 1, 0.95])\n",
        "plt.show()"
      ],
      "metadata": {
        "colab": {
          "base_uri": "https://localhost:8080/",
          "height": 1000
        },
        "id": "MIgSwiHrlj9g",
        "outputId": "9b212be9-47b0-4c97-a76b-d3eab7e0820b"
      },
      "execution_count": null,
      "outputs": [
        {
          "output_type": "display_data",
          "data": {
            "text/plain": [
              "<Figure size 1000x1500 with 14 Axes>"
            ],
            "image/png": "[encoded data removed]"
          },
          "metadata": {}
        }
      ]
    },
    {
      "cell_type": "code",
      "source": [
        "# label distribution\n",
        "anemia_counts = df['Diagnosis'].value_counts()\n",
        "\n",
        "# plot bar char\n",
        "plt.figure(figsize=(12, 5))\n",
        "anemia_counts.plot(kind='bar', color='r', edgecolor='black')\n",
        "plt.title('Anemia Distribution')\n",
        "plt.xlabel('Tipe Anemia')\n",
        "plt.ylabel('Jumlah')\n",
        "plt.xticks(rotation=45)\n",
        "plt.show()"
      ],
      "metadata": {
        "colab": {
          "base_uri": "https://localhost:8080/",
          "height": 653
        },
        "id": "lZwhqDuwmIol",
        "outputId": "903fb22e-ab36-4d29-9150-1496249d65b9"
      },
      "execution_count": null,
      "outputs": [
        {
          "output_type": "display_data",
          "data": {
            "text/plain": [
              "<Figure size 1200x500 with 1 Axes>"
            ],
            "image/png": "[encoded data removed]"
          },
          "metadata": {}
        }
      ]
    },
    {
      "cell_type": "markdown",
      "source": [
        "## Data Preprocessing"
      ],
      "metadata": {
        "id": "nNKGolJNyOzn"
      }
    },
    {
      "cell_type": "code",
      "source": [
        "from sklearn.model_selection import train_test_split\n",
        "from sklearn.preprocessing import StandardScaler, LabelEncoder\n",
        "\n",
        "X = df.drop('Diagnosis', axis=1)  # feature\n",
        "y = df['Diagnosis']  # label\n",
        "\n",
        "# split data 80:10:10\n",
        "X_train, X_temp, y_train, y_temp = train_test_split(X, y, test_size=0.2, random_state=42)\n",
        "X_val, X_test, y_val, y_test = train_test_split(X_temp, y_temp, test_size=0.5, random_state=42)\n",
        "\n",
        "# data normalization\n",
        "sc = StandardScaler()\n",
        "X_train_scaled = sc.fit_transform(X_train)\n",
        "X_val_scaled = sc.transform(X_val)\n",
        "X_test_scaled = sc.transform(X_test)\n",
        "\n",
        "# konversi label string\n",
        "label_encoder = LabelEncoder()\n",
        "y_train_encoded = label_encoder.fit_transform(y_train)\n",
        "y_val_encoded = label_encoder.transform(y_val)\n",
        "y_test_encoded = label_encoder.transform(y_test)\n",
        "\n",
        "# konversi ke dataset tensorflow\n",
        "train_dataset = tf.data.Dataset.from_tensor_slices((X_train_scaled, y_train_encoded))\n",
        "val_dataset = tf.data.Dataset.from_tensor_slices((X_val_scaled, y_val_encoded))\n",
        "test_dataset = tf.data.Dataset.from_tensor_slices((X_test_scaled, y_test_encoded))\n",
        "\n",
        "# mengatur shuffle dan batch size\n",
        "train_dataset = train_dataset.shuffle(buffer_size=1000).batch(32)\n",
        "val_dataset = val_dataset.batch(32)\n",
        "test_dataset = test_dataset.batch(32)\n",
        "\n",
        "train_dataset, val_dataset, test_dataset"
      ],
      "metadata": {
        "id": "41Rz1ChW_nvA",
        "colab": {
          "base_uri": "https://localhost:8080/"
        },
        "outputId": "b2fe0a7f-b95e-41d4-abb9-8fe6c533be26"
      },
      "execution_count": null,
      "outputs": [
        {
          "output_type": "execute_result",
          "data": {
            "text/plain": [
              "(<_BatchDataset element_spec=(TensorSpec(shape=(None, 14), dtype=tf.float64, name=None), TensorSpec(shape=(None,), dtype=tf.int64, name=None))>,\n",
              " <_BatchDataset element_spec=(TensorSpec(shape=(None, 14), dtype=tf.float64, name=None), TensorSpec(shape=(None,), dtype=tf.int64, name=None))>,\n",
              " <_BatchDataset element_spec=(TensorSpec(shape=(None, 14), dtype=tf.float64, name=None), TensorSpec(shape=(None,), dtype=tf.int64, name=None))>)"
            ]
          },
          "metadata": {},
          "execution_count": 193
        }
      ]
    },
    {
      "cell_type": "markdown",
      "source": [
        "## Input Output"
      ],
      "metadata": {
        "id": "dP6ZeqaqxqEo"
      }
    },
    {
      "cell_type": "code",
      "source": [
        "# check input shape\n",
        "\n",
        "print(\"data shape X_train_scaled:\", X_train_scaled[0].shape)\n",
        "print()\n",
        "\n",
        "print(\"input (X_train_scaled index 1):\")\n",
        "print(X_train_scaled[0])\n",
        "print()\n",
        "\n",
        "print(\"input data type:\", type(X_train_scaled))"
      ],
      "metadata": {
        "colab": {
          "base_uri": "https://localhost:8080/"
        },
        "id": "rqSKQpKRxsmq",
        "outputId": "ce25f7af-b84e-4d0c-e82b-9fbe4ab70c9d"
      },
      "execution_count": null,
      "outputs": [
        {
          "output_type": "stream",
          "name": "stdout",
          "text": [
            "data shape X_train_scaled: (14,)\n",
            "\n",
            "input (X_train_scaled index 1):\n",
            "[-0.21487692  0.01240161 -0.00837429 -0.00824559 -0.01062728  0.09263872\n",
            "  0.32562223  0.31377334 -0.03701817 -0.07398302  0.05046797 -0.86128435\n",
            " -0.00256609 -0.01572327]\n",
            "\n",
            "input data type: <class 'numpy.ndarray'>\n"
          ]
        }
      ]
    },
    {
      "cell_type": "code",
      "source": [
        "# label index\n",
        "\n",
        "output_df = pd.DataFrame({\n",
        "    \"Original Label\": label_encoder.classes_,\n",
        "    \"Encoded Value / Index Output\": range(len(label_encoder.classes_))\n",
        "})\n",
        "\n",
        "def left_align(s):\n",
        "    return ['text-align: left' for _ in s]\n",
        "\n",
        "output2_df = output_df.style.apply(left_align, axis=1).set_table_styles(\n",
        "    [{'selector': 'th', 'props': [('text-align', 'left')]}]\n",
        ")\n",
        "\n",
        "output2_df"
      ],
      "metadata": {
        "colab": {
          "base_uri": "https://localhost:8080/",
          "height": 331
        },
        "id": "dlFyTOa-26UI",
        "outputId": "927b7555-669b-47a1-e31f-83fdaa0b3ac7"
      },
      "execution_count": null,
      "outputs": [
        {
          "output_type": "execute_result",
          "data": {
            "text/plain": [
              "<pandas.io.formats.style.Styler at 0x7a68bd66b430>"
            ],
            "text/html": [
              "<style type=\"text/css\">\n",
              "#T_9f08d th {\n",
              "  text-align: left;\n",
              "}\n",
              "#T_9f08d_row0_col0, #T_9f08d_row0_col1, #T_9f08d_row1_col0, #T_9f08d_row1_col1, #T_9f08d_row2_col0, #T_9f08d_row2_col1, #T_9f08d_row3_col0, #T_9f08d_row3_col1, #T_9f08d_row4_col0, #T_9f08d_row4_col1, #T_9f08d_row5_col0, #T_9f08d_row5_col1, #T_9f08d_row6_col0, #T_9f08d_row6_col1, #T_9f08d_row7_col0, #T_9f08d_row7_col1, #T_9f08d_row8_col0, #T_9f08d_row8_col1 {\n",
              "  text-align: left;\n",
              "}\n",
              "</style>\n",
              "<table id=\"T_9f08d\" class=\"dataframe\">\n",
              "  <thead>\n",
              "    <tr>\n",
              "      <th class=\"blank level0\" >&nbsp;</th>\n",
              "      <th id=\"T_9f08d_level0_col0\" class=\"col_heading level0 col0\" >Original Label</th>\n",
              "      <th id=\"T_9f08d_level0_col1\" class=\"col_heading level0 col1\" >Encoded Value / Index Output</th>\n",
              "    </tr>\n",
              "  </thead>\n",
              "  <tbody>\n",
              "    <tr>\n",
              "      <th id=\"T_9f08d_level0_row0\" class=\"row_heading level0 row0\" >0</th>\n",
              "      <td id=\"T_9f08d_row0_col0\" class=\"data row0 col0\" >Healthy</td>\n",
              "      <td id=\"T_9f08d_row0_col1\" class=\"data row0 col1\" >0</td>\n",
              "    </tr>\n",
              "    <tr>\n",
              "      <th id=\"T_9f08d_level0_row1\" class=\"row_heading level0 row1\" >1</th>\n",
              "      <td id=\"T_9f08d_row1_col0\" class=\"data row1 col0\" >Iron deficiency anemia</td>\n",
              "      <td id=\"T_9f08d_row1_col1\" class=\"data row1 col1\" >1</td>\n",
              "    </tr>\n",
              "    <tr>\n",
              "      <th id=\"T_9f08d_level0_row2\" class=\"row_heading level0 row2\" >2</th>\n",
              "      <td id=\"T_9f08d_row2_col0\" class=\"data row2 col0\" >Leukemia</td>\n",
              "      <td id=\"T_9f08d_row2_col1\" class=\"data row2 col1\" >2</td>\n",
              "    </tr>\n",
              "    <tr>\n",
              "      <th id=\"T_9f08d_level0_row3\" class=\"row_heading level0 row3\" >3</th>\n",
              "      <td id=\"T_9f08d_row3_col0\" class=\"data row3 col0\" >Leukemia with thrombocytopenia</td>\n",
              "      <td id=\"T_9f08d_row3_col1\" class=\"data row3 col1\" >3</td>\n",
              "    </tr>\n",
              "    <tr>\n",
              "      <th id=\"T_9f08d_level0_row4\" class=\"row_heading level0 row4\" >4</th>\n",
              "      <td id=\"T_9f08d_row4_col0\" class=\"data row4 col0\" >Macrocytic anemia</td>\n",
              "      <td id=\"T_9f08d_row4_col1\" class=\"data row4 col1\" >4</td>\n",
              "    </tr>\n",
              "    <tr>\n",
              "      <th id=\"T_9f08d_level0_row5\" class=\"row_heading level0 row5\" >5</th>\n",
              "      <td id=\"T_9f08d_row5_col0\" class=\"data row5 col0\" >Normocytic hypochromic anemia</td>\n",
              "      <td id=\"T_9f08d_row5_col1\" class=\"data row5 col1\" >5</td>\n",
              "    </tr>\n",
              "    <tr>\n",
              "      <th id=\"T_9f08d_level0_row6\" class=\"row_heading level0 row6\" >6</th>\n",
              "      <td id=\"T_9f08d_row6_col0\" class=\"data row6 col0\" >Normocytic normochromic anemia</td>\n",
              "      <td id=\"T_9f08d_row6_col1\" class=\"data row6 col1\" >6</td>\n",
              "    </tr>\n",
              "    <tr>\n",
              "      <th id=\"T_9f08d_level0_row7\" class=\"row_heading level0 row7\" >7</th>\n",
              "      <td id=\"T_9f08d_row7_col0\" class=\"data row7 col0\" >Other microcytic anemia</td>\n",
              "      <td id=\"T_9f08d_row7_col1\" class=\"data row7 col1\" >7</td>\n",
              "    </tr>\n",
              "    <tr>\n",
              "      <th id=\"T_9f08d_level0_row8\" class=\"row_heading level0 row8\" >8</th>\n",
              "      <td id=\"T_9f08d_row8_col0\" class=\"data row8 col0\" >Thrombocytopenia</td>\n",
              "      <td id=\"T_9f08d_row8_col1\" class=\"data row8 col1\" >8</td>\n",
              "    </tr>\n",
              "  </tbody>\n",
              "</table>\n"
            ]
          },
          "metadata": {},
          "execution_count": 112
        }
      ]
    },
    {
      "cell_type": "markdown",
      "source": [
        "## Model"
      ],
      "metadata": {
        "id": "yxLLjpm176_Y"
      }
    },
    {
      "cell_type": "markdown",
      "source": [
        "### Function"
      ],
      "metadata": {
        "id": "wS3WytzrsQMR"
      }
    },
    {
      "cell_type": "code",
      "source": [
        "def plot_training_history(history, model_name=\"Model\"):\n",
        "\n",
        "    acc = history.history['accuracy']\n",
        "    val_acc = history.history['val_accuracy']\n",
        "    loss = history.history['loss']\n",
        "    val_loss = history.history['val_loss']\n",
        "    epochs = range(len(acc))\n",
        "\n",
        "    plt.figure(figsize=(12, 5))\n",
        "\n",
        "    plt.subplot(1, 2, 1)\n",
        "    plt.plot(epochs, acc, 'r', label='Training accuracy')\n",
        "    plt.plot(epochs, val_acc, 'b', label='Validation accuracy')\n",
        "    plt.title(f'{model_name}: Training and Validation Accuracy')\n",
        "    plt.xlabel('Epochs')\n",
        "    plt.ylabel('Accuracy')\n",
        "    plt.legend(loc='best')\n",
        "\n",
        "    plt.subplot(1, 2, 2)\n",
        "    plt.plot(epochs, loss, 'r', label='Training loss')\n",
        "    plt.plot(epochs, val_loss, 'b', label='Validation loss')\n",
        "    plt.title(f'{model_name}: Training and Validation Loss')\n",
        "    plt.xlabel('Epochs')\n",
        "    plt.ylabel('Loss')\n",
        "    plt.legend(loc='best')\n",
        "\n",
        "    plt.show()"
      ],
      "metadata": {
        "id": "hajAP2ELr5fJ"
      },
      "execution_count": null,
      "outputs": []
    },
    {
      "cell_type": "markdown",
      "source": [
        "### Model 1"
      ],
      "metadata": {
        "id": "cUstbR8aVT0i"
      }
    },
    {
      "cell_type": "code",
      "source": [
        "model_1 = Sequential([\n",
        "    Input(shape=(X_train_scaled.shape[1],)),\n",
        "    Dense(128, activation='relu', kernel_regularizer=l2(0.001)),\n",
        "    BatchNormalization(),\n",
        "    Dropout(0.3),\n",
        "    Dense(64, activation='relu', kernel_regularizer=l2(0.001)),\n",
        "    Dropout(0.2),\n",
        "    Dense(32, activation='relu', kernel_regularizer=l2(0.001)),\n",
        "    Dropout(0.2),\n",
        "    Dense(len(label_encoder.classes_), activation='softmax')\n",
        "])\n",
        "\n",
        "model_1.compile(optimizer=SGD(learning_rate=0.001, momentum=0.9),\n",
        "              loss='sparse_categorical_crossentropy',\n",
        "              metrics=['accuracy'])\n",
        "\n",
        "print(\"Input shape of the model:\", model_1.input_shape)\n",
        "print(\"Output shape of the model:\", model_1.output_shape)\n",
        "print()\n",
        "\n",
        "print(model_1.summary())"
      ],
      "metadata": {
        "id": "my3pm0zUC5J7",
        "colab": {
          "base_uri": "https://localhost:8080/",
          "height": 474
        },
        "outputId": "fdb734b7-d886-45cd-a641-eeffe96f1f50"
      },
      "execution_count": null,
      "outputs": [
        {
          "output_type": "stream",
          "name": "stdout",
          "text": [
            "Input shape of the model: (None, 14)\n",
            "Output shape of the model: (None, 9)\n",
            "\n"
          ]
        },
        {
          "output_type": "display_data",
          "data": {
            "text/plain": [
              "\u001b[1mModel: \"sequential_9\"\u001b[0m\n"
            ],
            "text/html": [
              "<pre style=\"white-space:pre;overflow-x:auto;line-height:normal;font-family:Menlo,'DejaVu Sans Mono',consolas,'Courier New',monospace\"><span style=\"font-weight: bold\">Model: \"sequential_9\"</span>\n",
              "</pre>\n"
            ]
          },
          "metadata": {}
        },
        {
          "output_type": "display_data",
          "data": {
            "text/plain": [
              "┏━━━━━━━━━━━━━━━━━━━━━━━━━━━━━━━━━━━━━━┳━━━━━━━━━━━━━━━━━━━━━━━━━━━━━┳━━━━━━━━━━━━━━━━━┓\n",
              "┃\u001b[1m \u001b[0m\u001b[1mLayer (type)                        \u001b[0m\u001b[1m \u001b[0m┃\u001b[1m \u001b[0m\u001b[1mOutput Shape               \u001b[0m\u001b[1m \u001b[0m┃\u001b[1m \u001b[0m\u001b[1m        Param #\u001b[0m\u001b[1m \u001b[0m┃\n",
              "┡━━━━━━━━━━━━━━━━━━━━━━━━━━━━━━━━━━━━━━╇━━━━━━━━━━━━━━━━━━━━━━━━━━━━━╇━━━━━━━━━━━━━━━━━┩\n",
              "│ dense_48 (\u001b[38;5;33mDense\u001b[0m)                     │ (\u001b[38;5;45mNone\u001b[0m, \u001b[38;5;34m128\u001b[0m)                 │           \u001b[38;5;34m1,920\u001b[0m │\n",
              "├──────────────────────────────────────┼─────────────────────────────┼─────────────────┤\n",
              "│ batch_normalization_18               │ (\u001b[38;5;45mNone\u001b[0m, \u001b[38;5;34m128\u001b[0m)                 │             \u001b[38;5;34m512\u001b[0m │\n",
              "│ (\u001b[38;5;33mBatchNormalization\u001b[0m)                 │                             │                 │\n",
              "├──────────────────────────────────────┼─────────────────────────────┼─────────────────┤\n",
              "│ dropout_36 (\u001b[38;5;33mDropout\u001b[0m)                 │ (\u001b[38;5;45mNone\u001b[0m, \u001b[38;5;34m128\u001b[0m)                 │               \u001b[38;5;34m0\u001b[0m │\n",
              "├──────────────────────────────────────┼─────────────────────────────┼─────────────────┤\n",
              "│ dense_49 (\u001b[38;5;33mDense\u001b[0m)                     │ (\u001b[38;5;45mNone\u001b[0m, \u001b[38;5;34m64\u001b[0m)                  │           \u001b[38;5;34m8,256\u001b[0m │\n",
              "├──────────────────────────────────────┼─────────────────────────────┼─────────────────┤\n",
              "│ dropout_37 (\u001b[38;5;33mDropout\u001b[0m)                 │ (\u001b[38;5;45mNone\u001b[0m, \u001b[38;5;34m64\u001b[0m)                  │               \u001b[38;5;34m0\u001b[0m │\n",
              "├──────────────────────────────────────┼─────────────────────────────┼─────────────────┤\n",
              "│ dense_50 (\u001b[38;5;33mDense\u001b[0m)                     │ (\u001b[38;5;45mNone\u001b[0m, \u001b[38;5;34m32\u001b[0m)                  │           \u001b[38;5;34m2,080\u001b[0m │\n",
              "├──────────────────────────────────────┼─────────────────────────────┼─────────────────┤\n",
              "│ dropout_38 (\u001b[38;5;33mDropout\u001b[0m)                 │ (\u001b[38;5;45mNone\u001b[0m, \u001b[38;5;34m32\u001b[0m)                  │               \u001b[38;5;34m0\u001b[0m │\n",
              "├──────────────────────────────────────┼─────────────────────────────┼─────────────────┤\n",
              "│ dense_51 (\u001b[38;5;33mDense\u001b[0m)                     │ (\u001b[38;5;45mNone\u001b[0m, \u001b[38;5;34m9\u001b[0m)                   │             \u001b[38;5;34m297\u001b[0m │\n",
              "└──────────────────────────────────────┴─────────────────────────────┴─────────────────┘\n"
            ],
            "text/html": [
              "<pre style=\"white-space:pre;overflow-x:auto;line-height:normal;font-family:Menlo,'DejaVu Sans Mono',consolas,'Courier New',monospace\">┏━━━━━━━━━━━━━━━━━━━━━━━━━━━━━━━━━━━━━━┳━━━━━━━━━━━━━━━━━━━━━━━━━━━━━┳━━━━━━━━━━━━━━━━━┓\n",
              "┃<span style=\"font-weight: bold\"> Layer (type)                         </span>┃<span style=\"font-weight: bold\"> Output Shape                </span>┃<span style=\"font-weight: bold\">         Param # </span>┃\n",
              "┡━━━━━━━━━━━━━━━━━━━━━━━━━━━━━━━━━━━━━━╇━━━━━━━━━━━━━━━━━━━━━━━━━━━━━╇━━━━━━━━━━━━━━━━━┩\n",
              "│ dense_48 (<span style=\"color: #0087ff; text-decoration-color: #0087ff\">Dense</span>)                     │ (<span style=\"color: #00d7ff; text-decoration-color: #00d7ff\">None</span>, <span style=\"color: #00af00; text-decoration-color: #00af00\">128</span>)                 │           <span style=\"color: #00af00; text-decoration-color: #00af00\">1,920</span> │\n",
              "├──────────────────────────────────────┼─────────────────────────────┼─────────────────┤\n",
              "│ batch_normalization_18               │ (<span style=\"color: #00d7ff; text-decoration-color: #00d7ff\">None</span>, <span style=\"color: #00af00; text-decoration-color: #00af00\">128</span>)                 │             <span style=\"color: #00af00; text-decoration-color: #00af00\">512</span> │\n",
              "│ (<span style=\"color: #0087ff; text-decoration-color: #0087ff\">BatchNormalization</span>)                 │                             │                 │\n",
              "├──────────────────────────────────────┼─────────────────────────────┼─────────────────┤\n",
              "│ dropout_36 (<span style=\"color: #0087ff; text-decoration-color: #0087ff\">Dropout</span>)                 │ (<span style=\"color: #00d7ff; text-decoration-color: #00d7ff\">None</span>, <span style=\"color: #00af00; text-decoration-color: #00af00\">128</span>)                 │               <span style=\"color: #00af00; text-decoration-color: #00af00\">0</span> │\n",
              "├──────────────────────────────────────┼─────────────────────────────┼─────────────────┤\n",
              "│ dense_49 (<span style=\"color: #0087ff; text-decoration-color: #0087ff\">Dense</span>)                     │ (<span style=\"color: #00d7ff; text-decoration-color: #00d7ff\">None</span>, <span style=\"color: #00af00; text-decoration-color: #00af00\">64</span>)                  │           <span style=\"color: #00af00; text-decoration-color: #00af00\">8,256</span> │\n",
              "├──────────────────────────────────────┼─────────────────────────────┼─────────────────┤\n",
              "│ dropout_37 (<span style=\"color: #0087ff; text-decoration-color: #0087ff\">Dropout</span>)                 │ (<span style=\"color: #00d7ff; text-decoration-color: #00d7ff\">None</span>, <span style=\"color: #00af00; text-decoration-color: #00af00\">64</span>)                  │               <span style=\"color: #00af00; text-decoration-color: #00af00\">0</span> │\n",
              "├──────────────────────────────────────┼─────────────────────────────┼─────────────────┤\n",
              "│ dense_50 (<span style=\"color: #0087ff; text-decoration-color: #0087ff\">Dense</span>)                     │ (<span style=\"color: #00d7ff; text-decoration-color: #00d7ff\">None</span>, <span style=\"color: #00af00; text-decoration-color: #00af00\">32</span>)                  │           <span style=\"color: #00af00; text-decoration-color: #00af00\">2,080</span> │\n",
              "├──────────────────────────────────────┼─────────────────────────────┼─────────────────┤\n",
              "│ dropout_38 (<span style=\"color: #0087ff; text-decoration-color: #0087ff\">Dropout</span>)                 │ (<span style=\"color: #00d7ff; text-decoration-color: #00d7ff\">None</span>, <span style=\"color: #00af00; text-decoration-color: #00af00\">32</span>)                  │               <span style=\"color: #00af00; text-decoration-color: #00af00\">0</span> │\n",
              "├──────────────────────────────────────┼─────────────────────────────┼─────────────────┤\n",
              "│ dense_51 (<span style=\"color: #0087ff; text-decoration-color: #0087ff\">Dense</span>)                     │ (<span style=\"color: #00d7ff; text-decoration-color: #00d7ff\">None</span>, <span style=\"color: #00af00; text-decoration-color: #00af00\">9</span>)                   │             <span style=\"color: #00af00; text-decoration-color: #00af00\">297</span> │\n",
              "└──────────────────────────────────────┴─────────────────────────────┴─────────────────┘\n",
              "</pre>\n"
            ]
          },
          "metadata": {}
        },
        {
          "output_type": "display_data",
          "data": {
            "text/plain": [
              "\u001b[1m Total params: \u001b[0m\u001b[38;5;34m13,065\u001b[0m (51.04 KB)\n"
            ],
            "text/html": [
              "<pre style=\"white-space:pre;overflow-x:auto;line-height:normal;font-family:Menlo,'DejaVu Sans Mono',consolas,'Courier New',monospace\"><span style=\"font-weight: bold\"> Total params: </span><span style=\"color: #00af00; text-decoration-color: #00af00\">13,065</span> (51.04 KB)\n",
              "</pre>\n"
            ]
          },
          "metadata": {}
        },
        {
          "output_type": "display_data",
          "data": {
            "text/plain": [
              "\u001b[1m Trainable params: \u001b[0m\u001b[38;5;34m12,809\u001b[0m (50.04 KB)\n"
            ],
            "text/html": [
              "<pre style=\"white-space:pre;overflow-x:auto;line-height:normal;font-family:Menlo,'DejaVu Sans Mono',consolas,'Courier New',monospace\"><span style=\"font-weight: bold\"> Trainable params: </span><span style=\"color: #00af00; text-decoration-color: #00af00\">12,809</span> (50.04 KB)\n",
              "</pre>\n"
            ]
          },
          "metadata": {}
        },
        {
          "output_type": "display_data",
          "data": {
            "text/plain": [
              "\u001b[1m Non-trainable params: \u001b[0m\u001b[38;5;34m256\u001b[0m (1.00 KB)\n"
            ],
            "text/html": [
              "<pre style=\"white-space:pre;overflow-x:auto;line-height:normal;font-family:Menlo,'DejaVu Sans Mono',consolas,'Courier New',monospace\"><span style=\"font-weight: bold\"> Non-trainable params: </span><span style=\"color: #00af00; text-decoration-color: #00af00\">256</span> (1.00 KB)\n",
              "</pre>\n"
            ]
          },
          "metadata": {}
        },
        {
          "output_type": "stream",
          "name": "stdout",
          "text": [
            "None\n"
          ]
        }
      ]
    },
    {
      "cell_type": "code",
      "source": [
        "reduce_lr = ReduceLROnPlateau(monitor='val_loss', factor=0.5, patience=5, min_lr=1e-6)\n",
        "\n",
        "history_1 = model_1.fit(train_dataset,\n",
        "                    epochs=100,\n",
        "                    validation_data=val_dataset,\n",
        "                    callbacks=[reduce_lr],\n",
        "                    verbose=1\n",
        "                    )"
      ],
      "metadata": {
        "id": "Vpmqtv6dDS6T",
        "colab": {
          "base_uri": "https://localhost:8080/"
        },
        "outputId": "f79ab940-a8b7-49bd-e134-734182e674e8"
      },
      "execution_count": null,
      "outputs": [
        {
          "output_type": "stream",
          "name": "stdout",
          "text": [
            "Epoch 1/100\n",
            "\u001b[1m31/31\u001b[0m \u001b[32m━━━━━━━━━━━━━━━━━━━━\u001b[0m\u001b[37m\u001b[0m \u001b[1m1s\u001b[0m 7ms/step - accuracy: 0.1143 - loss: 2.7145 - val_accuracy: 0.3415 - val_loss: 2.1726 - learning_rate: 0.0010\n",
            "Epoch 2/100\n",
            "\u001b[1m31/31\u001b[0m \u001b[32m━━━━━━━━━━━━━━━━━━━━\u001b[0m\u001b[37m\u001b[0m \u001b[1m0s\u001b[0m 2ms/step - accuracy: 0.3048 - loss: 2.1491 - val_accuracy: 0.3821 - val_loss: 2.0549 - learning_rate: 0.0010\n",
            "Epoch 3/100\n",
            "\u001b[1m31/31\u001b[0m \u001b[32m━━━━━━━━━━━━━━━━━━━━\u001b[0m\u001b[37m\u001b[0m \u001b[1m0s\u001b[0m 2ms/step - accuracy: 0.4203 - loss: 1.8828 - val_accuracy: 0.4634 - val_loss: 1.9594 - learning_rate: 0.0010\n",
            "Epoch 4/100\n",
            "\u001b[1m31/31\u001b[0m \u001b[32m━━━━━━━━━━━━━━━━━━━━\u001b[0m\u001b[37m\u001b[0m \u001b[1m0s\u001b[0m 3ms/step - accuracy: 0.4730 - loss: 1.7425 - val_accuracy: 0.4959 - val_loss: 1.8623 - learning_rate: 0.0010\n",
            "Epoch 5/100\n",
            "\u001b[1m31/31\u001b[0m \u001b[32m━━━━━━━━━━━━━━━━━━━━\u001b[0m\u001b[37m\u001b[0m \u001b[1m0s\u001b[0m 2ms/step - accuracy: 0.4865 - loss: 1.6279 - val_accuracy: 0.5203 - val_loss: 1.7596 - learning_rate: 0.0010\n",
            "Epoch 6/100\n",
            "\u001b[1m31/31\u001b[0m \u001b[32m━━━━━━━━━━━━━━━━━━━━\u001b[0m\u001b[37m\u001b[0m \u001b[1m0s\u001b[0m 2ms/step - accuracy: 0.5145 - loss: 1.6392 - val_accuracy: 0.5447 - val_loss: 1.6704 - learning_rate: 0.0010\n",
            "Epoch 7/100\n",
            "\u001b[1m31/31\u001b[0m \u001b[32m━━━━━━━━━━━━━━━━━━━━\u001b[0m\u001b[37m\u001b[0m \u001b[1m0s\u001b[0m 2ms/step - accuracy: 0.5034 - loss: 1.5620 - val_accuracy: 0.5691 - val_loss: 1.5843 - learning_rate: 0.0010\n",
            "Epoch 8/100\n",
            "\u001b[1m31/31\u001b[0m \u001b[32m━━━━━━━━━━━━━━━━━━━━\u001b[0m\u001b[37m\u001b[0m \u001b[1m0s\u001b[0m 2ms/step - accuracy: 0.5258 - loss: 1.4553 - val_accuracy: 0.5691 - val_loss: 1.5268 - learning_rate: 0.0010\n",
            "Epoch 9/100\n",
            "\u001b[1m31/31\u001b[0m \u001b[32m━━━━━━━━━━━━━━━━━━━━\u001b[0m\u001b[37m\u001b[0m \u001b[1m0s\u001b[0m 2ms/step - accuracy: 0.5516 - loss: 1.4303 - val_accuracy: 0.6016 - val_loss: 1.4759 - learning_rate: 0.0010\n",
            "Epoch 10/100\n",
            "\u001b[1m31/31\u001b[0m \u001b[32m━━━━━━━━━━━━━━━━━━━━\u001b[0m\u001b[37m\u001b[0m \u001b[1m0s\u001b[0m 3ms/step - accuracy: 0.5674 - loss: 1.4160 - val_accuracy: 0.5935 - val_loss: 1.4334 - learning_rate: 0.0010\n",
            "Epoch 11/100\n",
            "\u001b[1m31/31\u001b[0m \u001b[32m━━━━━━━━━━━━━━━━━━━━\u001b[0m\u001b[37m\u001b[0m \u001b[1m0s\u001b[0m 2ms/step - accuracy: 0.5693 - loss: 1.3706 - val_accuracy: 0.6016 - val_loss: 1.3901 - learning_rate: 0.0010\n",
            "Epoch 12/100\n",
            "\u001b[1m31/31\u001b[0m \u001b[32m━━━━━━━━━━━━━━━━━━━━\u001b[0m\u001b[37m\u001b[0m \u001b[1m0s\u001b[0m 2ms/step - accuracy: 0.6103 - loss: 1.2814 - val_accuracy: 0.5935 - val_loss: 1.3698 - learning_rate: 0.0010\n",
            "Epoch 13/100\n",
            "\u001b[1m31/31\u001b[0m \u001b[32m━━━━━━━━━━━━━━━━━━━━\u001b[0m\u001b[37m\u001b[0m \u001b[1m0s\u001b[0m 3ms/step - accuracy: 0.6511 - loss: 1.2758 - val_accuracy: 0.5935 - val_loss: 1.3327 - learning_rate: 0.0010\n",
            "Epoch 14/100\n",
            "\u001b[1m31/31\u001b[0m \u001b[32m━━━━━━━━━━━━━━━━━━━━\u001b[0m\u001b[37m\u001b[0m \u001b[1m0s\u001b[0m 2ms/step - accuracy: 0.6258 - loss: 1.3065 - val_accuracy: 0.6098 - val_loss: 1.3009 - learning_rate: 0.0010\n",
            "Epoch 15/100\n",
            "\u001b[1m31/31\u001b[0m \u001b[32m━━━━━━━━━━━━━━━━━━━━\u001b[0m\u001b[37m\u001b[0m \u001b[1m0s\u001b[0m 2ms/step - accuracy: 0.6071 - loss: 1.2367 - val_accuracy: 0.6098 - val_loss: 1.2898 - learning_rate: 0.0010\n",
            "Epoch 16/100\n",
            "\u001b[1m31/31\u001b[0m \u001b[32m━━━━━━━━━━━━━━━━━━━━\u001b[0m\u001b[37m\u001b[0m \u001b[1m0s\u001b[0m 2ms/step - accuracy: 0.6377 - loss: 1.1998 - val_accuracy: 0.6098 - val_loss: 1.2907 - learning_rate: 0.0010\n",
            "Epoch 17/100\n",
            "\u001b[1m31/31\u001b[0m \u001b[32m━━━━━━━━━━━━━━━━━━━━\u001b[0m\u001b[37m\u001b[0m \u001b[1m0s\u001b[0m 2ms/step - accuracy: 0.6281 - loss: 1.1616 - val_accuracy: 0.6260 - val_loss: 1.2749 - learning_rate: 0.0010\n",
            "Epoch 18/100\n",
            "\u001b[1m31/31\u001b[0m \u001b[32m━━━━━━━━━━━━━━━━━━━━\u001b[0m\u001b[37m\u001b[0m \u001b[1m0s\u001b[0m 3ms/step - accuracy: 0.6326 - loss: 1.1974 - val_accuracy: 0.6504 - val_loss: 1.2521 - learning_rate: 0.0010\n",
            "Epoch 19/100\n",
            "\u001b[1m31/31\u001b[0m \u001b[32m━━━━━━━━━━━━━━━━━━━━\u001b[0m\u001b[37m\u001b[0m \u001b[1m0s\u001b[0m 3ms/step - accuracy: 0.6778 - loss: 1.1338 - val_accuracy: 0.6341 - val_loss: 1.2667 - learning_rate: 0.0010\n",
            "Epoch 20/100\n",
            "\u001b[1m31/31\u001b[0m \u001b[32m━━━━━━━━━━━━━━━━━━━━\u001b[0m\u001b[37m\u001b[0m \u001b[1m0s\u001b[0m 2ms/step - accuracy: 0.6268 - loss: 1.1255 - val_accuracy: 0.6504 - val_loss: 1.2300 - learning_rate: 0.0010\n",
            "Epoch 21/100\n",
            "\u001b[1m31/31\u001b[0m \u001b[32m━━━━━━━━━━━━━━━━━━━━\u001b[0m\u001b[37m\u001b[0m \u001b[1m0s\u001b[0m 2ms/step - accuracy: 0.6683 - loss: 1.0883 - val_accuracy: 0.6423 - val_loss: 1.2342 - learning_rate: 0.0010\n",
            "Epoch 22/100\n",
            "\u001b[1m31/31\u001b[0m \u001b[32m━━━━━━━━━━━━━━━━━━━━\u001b[0m\u001b[37m\u001b[0m \u001b[1m0s\u001b[0m 2ms/step - accuracy: 0.6820 - loss: 1.1164 - val_accuracy: 0.6423 - val_loss: 1.2191 - learning_rate: 0.0010\n",
            "Epoch 23/100\n",
            "\u001b[1m31/31\u001b[0m \u001b[32m━━━━━━━━━━━━━━━━━━━━\u001b[0m\u001b[37m\u001b[0m \u001b[1m0s\u001b[0m 2ms/step - accuracy: 0.7177 - loss: 1.0116 - val_accuracy: 0.6504 - val_loss: 1.2154 - learning_rate: 0.0010\n",
            "Epoch 24/100\n",
            "\u001b[1m31/31\u001b[0m \u001b[32m━━━━━━━━━━━━━━━━━━━━\u001b[0m\u001b[37m\u001b[0m \u001b[1m0s\u001b[0m 2ms/step - accuracy: 0.6876 - loss: 1.0452 - val_accuracy: 0.6504 - val_loss: 1.1953 - learning_rate: 0.0010\n",
            "Epoch 25/100\n",
            "\u001b[1m31/31\u001b[0m \u001b[32m━━━━━━━━━━━━━━━━━━━━\u001b[0m\u001b[37m\u001b[0m \u001b[1m0s\u001b[0m 2ms/step - accuracy: 0.6763 - loss: 1.0557 - val_accuracy: 0.6667 - val_loss: 1.1993 - learning_rate: 0.0010\n",
            "Epoch 26/100\n",
            "\u001b[1m31/31\u001b[0m \u001b[32m━━━━━━━━━━━━━━━━━━━━\u001b[0m\u001b[37m\u001b[0m \u001b[1m0s\u001b[0m 4ms/step - accuracy: 0.6894 - loss: 1.1158 - val_accuracy: 0.6504 - val_loss: 1.2000 - learning_rate: 0.0010\n",
            "Epoch 27/100\n",
            "\u001b[1m31/31\u001b[0m \u001b[32m━━━━━━━━━━━━━━━━━━━━\u001b[0m\u001b[37m\u001b[0m \u001b[1m0s\u001b[0m 2ms/step - accuracy: 0.6971 - loss: 1.0150 - val_accuracy: 0.6585 - val_loss: 1.1653 - learning_rate: 0.0010\n",
            "Epoch 28/100\n",
            "\u001b[1m31/31\u001b[0m \u001b[32m━━━━━━━━━━━━━━━━━━━━\u001b[0m\u001b[37m\u001b[0m \u001b[1m0s\u001b[0m 2ms/step - accuracy: 0.7261 - loss: 0.9501 - val_accuracy: 0.6585 - val_loss: 1.1649 - learning_rate: 0.0010\n",
            "Epoch 29/100\n",
            "\u001b[1m31/31\u001b[0m \u001b[32m━━━━━━━━━━━━━━━━━━━━\u001b[0m\u001b[37m\u001b[0m \u001b[1m0s\u001b[0m 2ms/step - accuracy: 0.7025 - loss: 1.0003 - val_accuracy: 0.6667 - val_loss: 1.1607 - learning_rate: 0.0010\n",
            "Epoch 30/100\n",
            "\u001b[1m31/31\u001b[0m \u001b[32m━━━━━━━━━━━━━━━━━━━━\u001b[0m\u001b[37m\u001b[0m \u001b[1m0s\u001b[0m 3ms/step - accuracy: 0.6943 - loss: 1.0005 - val_accuracy: 0.6585 - val_loss: 1.1583 - learning_rate: 0.0010\n",
            "Epoch 31/100\n",
            "\u001b[1m31/31\u001b[0m \u001b[32m━━━━━━━━━━━━━━━━━━━━\u001b[0m\u001b[37m\u001b[0m \u001b[1m0s\u001b[0m 2ms/step - accuracy: 0.7470 - loss: 0.9452 - val_accuracy: 0.6341 - val_loss: 1.1591 - learning_rate: 0.0010\n",
            "Epoch 32/100\n",
            "\u001b[1m31/31\u001b[0m \u001b[32m━━━━━━━━━━━━━━━━━━━━\u001b[0m\u001b[37m\u001b[0m \u001b[1m0s\u001b[0m 2ms/step - accuracy: 0.7245 - loss: 0.9603 - val_accuracy: 0.6341 - val_loss: 1.1574 - learning_rate: 0.0010\n",
            "Epoch 33/100\n",
            "\u001b[1m31/31\u001b[0m \u001b[32m━━━━━━━━━━━━━━━━━━━━\u001b[0m\u001b[37m\u001b[0m \u001b[1m0s\u001b[0m 2ms/step - accuracy: 0.7117 - loss: 1.0164 - val_accuracy: 0.6585 - val_loss: 1.1539 - learning_rate: 0.0010\n",
            "Epoch 34/100\n",
            "\u001b[1m31/31\u001b[0m \u001b[32m━━━━━━━━━━━━━━━━━━━━\u001b[0m\u001b[37m\u001b[0m \u001b[1m0s\u001b[0m 3ms/step - accuracy: 0.7254 - loss: 0.9157 - val_accuracy: 0.6341 - val_loss: 1.1774 - learning_rate: 0.0010\n",
            "Epoch 35/100\n",
            "\u001b[1m31/31\u001b[0m \u001b[32m━━━━━━━━━━━━━━━━━━━━\u001b[0m\u001b[37m\u001b[0m \u001b[1m0s\u001b[0m 2ms/step - accuracy: 0.7304 - loss: 0.8723 - val_accuracy: 0.6341 - val_loss: 1.1846 - learning_rate: 0.0010\n",
            "Epoch 36/100\n",
            "\u001b[1m31/31\u001b[0m \u001b[32m━━━━━━━━━━━━━━━━━━━━\u001b[0m\u001b[37m\u001b[0m \u001b[1m0s\u001b[0m 2ms/step - accuracy: 0.7031 - loss: 1.0037 - val_accuracy: 0.6341 - val_loss: 1.1486 - learning_rate: 0.0010\n",
            "Epoch 37/100\n",
            "\u001b[1m31/31\u001b[0m \u001b[32m━━━━━━━━━━━━━━━━━━━━\u001b[0m\u001b[37m\u001b[0m \u001b[1m0s\u001b[0m 3ms/step - accuracy: 0.7250 - loss: 0.8954 - val_accuracy: 0.6260 - val_loss: 1.1982 - learning_rate: 0.0010\n",
            "Epoch 38/100\n",
            "\u001b[1m31/31\u001b[0m \u001b[32m━━━━━━━━━━━━━━━━━━━━\u001b[0m\u001b[37m\u001b[0m \u001b[1m0s\u001b[0m 2ms/step - accuracy: 0.7264 - loss: 0.9776 - val_accuracy: 0.6585 - val_loss: 1.1753 - learning_rate: 0.0010\n",
            "Epoch 39/100\n",
            "\u001b[1m31/31\u001b[0m \u001b[32m━━━━━━━━━━━━━━━━━━━━\u001b[0m\u001b[37m\u001b[0m \u001b[1m0s\u001b[0m 2ms/step - accuracy: 0.7175 - loss: 0.9478 - val_accuracy: 0.6667 - val_loss: 1.1465 - learning_rate: 0.0010\n",
            "Epoch 40/100\n",
            "\u001b[1m31/31\u001b[0m \u001b[32m━━━━━━━━━━━━━━━━━━━━\u001b[0m\u001b[37m\u001b[0m \u001b[1m0s\u001b[0m 2ms/step - accuracy: 0.7526 - loss: 0.8636 - val_accuracy: 0.6585 - val_loss: 1.1628 - learning_rate: 0.0010\n",
            "Epoch 41/100\n",
            "\u001b[1m31/31\u001b[0m \u001b[32m━━━━━━━━━━━━━━━━━━━━\u001b[0m\u001b[37m\u001b[0m \u001b[1m0s\u001b[0m 2ms/step - accuracy: 0.7482 - loss: 0.8736 - val_accuracy: 0.6504 - val_loss: 1.1788 - learning_rate: 0.0010\n",
            "Epoch 42/100\n",
            "\u001b[1m31/31\u001b[0m \u001b[32m━━━━━━━━━━━━━━━━━━━━\u001b[0m\u001b[37m\u001b[0m \u001b[1m0s\u001b[0m 2ms/step - accuracy: 0.7626 - loss: 0.8275 - val_accuracy: 0.6504 - val_loss: 1.1450 - learning_rate: 0.0010\n",
            "Epoch 43/100\n",
            "\u001b[1m31/31\u001b[0m \u001b[32m━━━━━━━━━━━━━━━━━━━━\u001b[0m\u001b[37m\u001b[0m \u001b[1m0s\u001b[0m 2ms/step - accuracy: 0.7693 - loss: 0.8326 - val_accuracy: 0.6423 - val_loss: 1.1693 - learning_rate: 0.0010\n",
            "Epoch 44/100\n",
            "\u001b[1m31/31\u001b[0m \u001b[32m━━━━━━━━━━━━━━━━━━━━\u001b[0m\u001b[37m\u001b[0m \u001b[1m0s\u001b[0m 2ms/step - accuracy: 0.7563 - loss: 0.8348 - val_accuracy: 0.6585 - val_loss: 1.1524 - learning_rate: 0.0010\n",
            "Epoch 45/100\n",
            "\u001b[1m31/31\u001b[0m \u001b[32m━━━━━━━━━━━━━━━━━━━━\u001b[0m\u001b[37m\u001b[0m \u001b[1m0s\u001b[0m 2ms/step - accuracy: 0.7544 - loss: 0.8553 - val_accuracy: 0.6585 - val_loss: 1.1470 - learning_rate: 0.0010\n",
            "Epoch 46/100\n",
            "\u001b[1m31/31\u001b[0m \u001b[32m━━━━━━━━━━━━━━━━━━━━\u001b[0m\u001b[37m\u001b[0m \u001b[1m0s\u001b[0m 3ms/step - accuracy: 0.7886 - loss: 0.7824 - val_accuracy: 0.6667 - val_loss: 1.1665 - learning_rate: 0.0010\n",
            "Epoch 47/100\n",
            "\u001b[1m31/31\u001b[0m \u001b[32m━━━━━━━━━━━━━━━━━━━━\u001b[0m\u001b[37m\u001b[0m \u001b[1m0s\u001b[0m 2ms/step - accuracy: 0.7047 - loss: 0.8918 - val_accuracy: 0.6504 - val_loss: 1.1717 - learning_rate: 0.0010\n",
            "Epoch 48/100\n",
            "\u001b[1m31/31\u001b[0m \u001b[32m━━━━━━━━━━━━━━━━━━━━\u001b[0m\u001b[37m\u001b[0m \u001b[1m0s\u001b[0m 4ms/step - accuracy: 0.7686 - loss: 0.8466 - val_accuracy: 0.6585 - val_loss: 1.1501 - learning_rate: 5.0000e-04\n",
            "Epoch 49/100\n",
            "\u001b[1m31/31\u001b[0m \u001b[32m━━━━━━━━━━━━━━━━━━━━\u001b[0m\u001b[37m\u001b[0m \u001b[1m0s\u001b[0m 4ms/step - accuracy: 0.7663 - loss: 0.8322 - val_accuracy: 0.6748 - val_loss: 1.1365 - learning_rate: 5.0000e-04\n",
            "Epoch 50/100\n",
            "\u001b[1m31/31\u001b[0m \u001b[32m━━━━━━━━━━━━━━━━━━━━\u001b[0m\u001b[37m\u001b[0m \u001b[1m0s\u001b[0m 4ms/step - accuracy: 0.7448 - loss: 0.8647 - val_accuracy: 0.6667 - val_loss: 1.1465 - learning_rate: 5.0000e-04\n",
            "Epoch 51/100\n",
            "\u001b[1m31/31\u001b[0m \u001b[32m━━━━━━━━━━━━━━━━━━━━\u001b[0m\u001b[37m\u001b[0m \u001b[1m0s\u001b[0m 3ms/step - accuracy: 0.7492 - loss: 0.8784 - val_accuracy: 0.6585 - val_loss: 1.1417 - learning_rate: 5.0000e-04\n",
            "Epoch 52/100\n",
            "\u001b[1m31/31\u001b[0m \u001b[32m━━━━━━━━━━━━━━━━━━━━\u001b[0m\u001b[37m\u001b[0m \u001b[1m0s\u001b[0m 3ms/step - accuracy: 0.7627 - loss: 0.8215 - val_accuracy: 0.6585 - val_loss: 1.1529 - learning_rate: 5.0000e-04\n",
            "Epoch 53/100\n",
            "\u001b[1m31/31\u001b[0m \u001b[32m━━━━━━━━━━━━━━━━━━━━\u001b[0m\u001b[37m\u001b[0m \u001b[1m0s\u001b[0m 3ms/step - accuracy: 0.7730 - loss: 0.8294 - val_accuracy: 0.6667 - val_loss: 1.1475 - learning_rate: 5.0000e-04\n",
            "Epoch 54/100\n",
            "\u001b[1m31/31\u001b[0m \u001b[32m━━━━━━━━━━━━━━━━━━━━\u001b[0m\u001b[37m\u001b[0m \u001b[1m0s\u001b[0m 4ms/step - accuracy: 0.7429 - loss: 0.8651 - val_accuracy: 0.6667 - val_loss: 1.1467 - learning_rate: 5.0000e-04\n",
            "Epoch 55/100\n",
            "\u001b[1m31/31\u001b[0m \u001b[32m━━━━━━━━━━━━━━━━━━━━\u001b[0m\u001b[37m\u001b[0m \u001b[1m0s\u001b[0m 3ms/step - accuracy: 0.7748 - loss: 0.7890 - val_accuracy: 0.6748 - val_loss: 1.1434 - learning_rate: 2.5000e-04\n",
            "Epoch 56/100\n",
            "\u001b[1m31/31\u001b[0m \u001b[32m━━━━━━━━━━━━━━━━━━━━\u001b[0m\u001b[37m\u001b[0m \u001b[1m0s\u001b[0m 3ms/step - accuracy: 0.7858 - loss: 0.7484 - val_accuracy: 0.6667 - val_loss: 1.1648 - learning_rate: 2.5000e-04\n",
            "Epoch 57/100\n",
            "\u001b[1m31/31\u001b[0m \u001b[32m━━━━━━━━━━━━━━━━━━━━\u001b[0m\u001b[37m\u001b[0m \u001b[1m0s\u001b[0m 3ms/step - accuracy: 0.7700 - loss: 0.8006 - val_accuracy: 0.6667 - val_loss: 1.1603 - learning_rate: 2.5000e-04\n",
            "Epoch 58/100\n",
            "\u001b[1m31/31\u001b[0m \u001b[32m━━━━━━━━━━━━━━━━━━━━\u001b[0m\u001b[37m\u001b[0m \u001b[1m0s\u001b[0m 3ms/step - accuracy: 0.7560 - loss: 0.7943 - val_accuracy: 0.6667 - val_loss: 1.1703 - learning_rate: 2.5000e-04\n",
            "Epoch 59/100\n",
            "\u001b[1m31/31\u001b[0m \u001b[32m━━━━━━━━━━━━━━━━━━━━\u001b[0m\u001b[37m\u001b[0m \u001b[1m0s\u001b[0m 3ms/step - accuracy: 0.8126 - loss: 0.7327 - val_accuracy: 0.6585 - val_loss: 1.1737 - learning_rate: 2.5000e-04\n",
            "Epoch 60/100\n",
            "\u001b[1m31/31\u001b[0m \u001b[32m━━━━━━━━━━━━━━━━━━━━\u001b[0m\u001b[37m\u001b[0m \u001b[1m0s\u001b[0m 4ms/step - accuracy: 0.7857 - loss: 0.7528 - val_accuracy: 0.6585 - val_loss: 1.1762 - learning_rate: 1.2500e-04\n",
            "Epoch 61/100\n",
            "\u001b[1m31/31\u001b[0m \u001b[32m━━━━━━━━━━━━━━━━━━━━\u001b[0m\u001b[37m\u001b[0m \u001b[1m0s\u001b[0m 4ms/step - accuracy: 0.7519 - loss: 0.8748 - val_accuracy: 0.6585 - val_loss: 1.1797 - learning_rate: 1.2500e-04\n",
            "Epoch 62/100\n",
            "\u001b[1m31/31\u001b[0m \u001b[32m━━━━━━━━━━━━━━━━━━━━\u001b[0m\u001b[37m\u001b[0m \u001b[1m0s\u001b[0m 3ms/step - accuracy: 0.8042 - loss: 0.7668 - val_accuracy: 0.6585 - val_loss: 1.1819 - learning_rate: 1.2500e-04\n",
            "Epoch 63/100\n",
            "\u001b[1m31/31\u001b[0m \u001b[32m━━━━━━━━━━━━━━━━━━━━\u001b[0m\u001b[37m\u001b[0m \u001b[1m0s\u001b[0m 3ms/step - accuracy: 0.7433 - loss: 0.8577 - val_accuracy: 0.6667 - val_loss: 1.1778 - learning_rate: 1.2500e-04\n",
            "Epoch 64/100\n",
            "\u001b[1m31/31\u001b[0m \u001b[32m━━━━━━━━━━━━━━━━━━━━\u001b[0m\u001b[37m\u001b[0m \u001b[1m0s\u001b[0m 3ms/step - accuracy: 0.7713 - loss: 0.7724 - val_accuracy: 0.6585 - val_loss: 1.1850 - learning_rate: 1.2500e-04\n",
            "Epoch 65/100\n",
            "\u001b[1m31/31\u001b[0m \u001b[32m━━━━━━━━━━━━━━━━━━━━\u001b[0m\u001b[37m\u001b[0m \u001b[1m0s\u001b[0m 4ms/step - accuracy: 0.7577 - loss: 0.8485 - val_accuracy: 0.6585 - val_loss: 1.1808 - learning_rate: 6.2500e-05\n",
            "Epoch 66/100\n",
            "\u001b[1m31/31\u001b[0m \u001b[32m━━━━━━━━━━━━━━━━━━━━\u001b[0m\u001b[37m\u001b[0m \u001b[1m0s\u001b[0m 3ms/step - accuracy: 0.7769 - loss: 0.8107 - val_accuracy: 0.6585 - val_loss: 1.1779 - learning_rate: 6.2500e-05\n",
            "Epoch 67/100\n",
            "\u001b[1m31/31\u001b[0m \u001b[32m━━━━━━━━━━━━━━━━━━━━\u001b[0m\u001b[37m\u001b[0m \u001b[1m0s\u001b[0m 5ms/step - accuracy: 0.7787 - loss: 0.7832 - val_accuracy: 0.6585 - val_loss: 1.1772 - learning_rate: 6.2500e-05\n",
            "Epoch 68/100\n",
            "\u001b[1m31/31\u001b[0m \u001b[32m━━━━━━━━━━━━━━━━━━━━\u001b[0m\u001b[37m\u001b[0m \u001b[1m0s\u001b[0m 4ms/step - accuracy: 0.7741 - loss: 0.7805 - val_accuracy: 0.6585 - val_loss: 1.1779 - learning_rate: 6.2500e-05\n",
            "Epoch 69/100\n",
            "\u001b[1m31/31\u001b[0m \u001b[32m━━━━━━━━━━━━━━━━━━━━\u001b[0m\u001b[37m\u001b[0m \u001b[1m0s\u001b[0m 4ms/step - accuracy: 0.7935 - loss: 0.7590 - val_accuracy: 0.6585 - val_loss: 1.1729 - learning_rate: 6.2500e-05\n",
            "Epoch 70/100\n",
            "\u001b[1m31/31\u001b[0m \u001b[32m━━━━━━━━━━━━━━━━━━━━\u001b[0m\u001b[37m\u001b[0m \u001b[1m0s\u001b[0m 3ms/step - accuracy: 0.7602 - loss: 0.8653 - val_accuracy: 0.6585 - val_loss: 1.1727 - learning_rate: 3.1250e-05\n",
            "Epoch 71/100\n",
            "\u001b[1m31/31\u001b[0m \u001b[32m━━━━━━━━━━━━━━━━━━━━\u001b[0m\u001b[37m\u001b[0m \u001b[1m0s\u001b[0m 3ms/step - accuracy: 0.7537 - loss: 0.8015 - val_accuracy: 0.6667 - val_loss: 1.1721 - learning_rate: 3.1250e-05\n",
            "Epoch 72/100\n",
            "\u001b[1m31/31\u001b[0m \u001b[32m━━━━━━━━━━━━━━━━━━━━\u001b[0m\u001b[37m\u001b[0m \u001b[1m0s\u001b[0m 3ms/step - accuracy: 0.7920 - loss: 0.8127 - val_accuracy: 0.6667 - val_loss: 1.1744 - learning_rate: 3.1250e-05\n",
            "Epoch 73/100\n",
            "\u001b[1m31/31\u001b[0m \u001b[32m━━━━━━━━━━━━━━━━━━━━\u001b[0m\u001b[37m\u001b[0m \u001b[1m0s\u001b[0m 4ms/step - accuracy: 0.7602 - loss: 0.8142 - val_accuracy: 0.6667 - val_loss: 1.1741 - learning_rate: 3.1250e-05\n",
            "Epoch 74/100\n",
            "\u001b[1m31/31\u001b[0m \u001b[32m━━━━━━━━━━━━━━━━━━━━\u001b[0m\u001b[37m\u001b[0m \u001b[1m0s\u001b[0m 4ms/step - accuracy: 0.7919 - loss: 0.7832 - val_accuracy: 0.6667 - val_loss: 1.1733 - learning_rate: 3.1250e-05\n",
            "Epoch 75/100\n",
            "\u001b[1m31/31\u001b[0m \u001b[32m━━━━━━━━━━━━━━━━━━━━\u001b[0m\u001b[37m\u001b[0m \u001b[1m0s\u001b[0m 4ms/step - accuracy: 0.7662 - loss: 0.7819 - val_accuracy: 0.6667 - val_loss: 1.1768 - learning_rate: 1.5625e-05\n",
            "Epoch 76/100\n",
            "\u001b[1m31/31\u001b[0m \u001b[32m━━━━━━━━━━━━━━━━━━━━\u001b[0m\u001b[37m\u001b[0m \u001b[1m0s\u001b[0m 3ms/step - accuracy: 0.7775 - loss: 0.7881 - val_accuracy: 0.6667 - val_loss: 1.1795 - learning_rate: 1.5625e-05\n",
            "Epoch 77/100\n",
            "\u001b[1m31/31\u001b[0m \u001b[32m━━━━━━━━━━━━━━━━━━━━\u001b[0m\u001b[37m\u001b[0m \u001b[1m0s\u001b[0m 2ms/step - accuracy: 0.7709 - loss: 0.7841 - val_accuracy: 0.6667 - val_loss: 1.1784 - learning_rate: 1.5625e-05\n",
            "Epoch 78/100\n",
            "\u001b[1m31/31\u001b[0m \u001b[32m━━━━━━━━━━━━━━━━━━━━\u001b[0m\u001b[37m\u001b[0m \u001b[1m0s\u001b[0m 2ms/step - accuracy: 0.7604 - loss: 0.7887 - val_accuracy: 0.6667 - val_loss: 1.1793 - learning_rate: 1.5625e-05\n",
            "Epoch 79/100\n",
            "\u001b[1m31/31\u001b[0m \u001b[32m━━━━━━━━━━━━━━━━━━━━\u001b[0m\u001b[37m\u001b[0m \u001b[1m0s\u001b[0m 2ms/step - accuracy: 0.7471 - loss: 0.8360 - val_accuracy: 0.6667 - val_loss: 1.1784 - learning_rate: 1.5625e-05\n",
            "Epoch 80/100\n",
            "\u001b[1m31/31\u001b[0m \u001b[32m━━━━━━━━━━━━━━━━━━━━\u001b[0m\u001b[37m\u001b[0m \u001b[1m0s\u001b[0m 3ms/step - accuracy: 0.7558 - loss: 0.8444 - val_accuracy: 0.6667 - val_loss: 1.1801 - learning_rate: 7.8125e-06\n",
            "Epoch 81/100\n",
            "\u001b[1m31/31\u001b[0m \u001b[32m━━━━━━━━━━━━━━━━━━━━\u001b[0m\u001b[37m\u001b[0m \u001b[1m0s\u001b[0m 3ms/step - accuracy: 0.7826 - loss: 0.7791 - val_accuracy: 0.6667 - val_loss: 1.1787 - learning_rate: 7.8125e-06\n",
            "Epoch 82/100\n",
            "\u001b[1m31/31\u001b[0m \u001b[32m━━━━━━━━━━━━━━━━━━━━\u001b[0m\u001b[37m\u001b[0m \u001b[1m0s\u001b[0m 2ms/step - accuracy: 0.7796 - loss: 0.7889 - val_accuracy: 0.6667 - val_loss: 1.1759 - learning_rate: 7.8125e-06\n",
            "Epoch 83/100\n",
            "\u001b[1m31/31\u001b[0m \u001b[32m━━━━━━━━━━━━━━━━━━━━\u001b[0m\u001b[37m\u001b[0m \u001b[1m0s\u001b[0m 2ms/step - accuracy: 0.7739 - loss: 0.7623 - val_accuracy: 0.6667 - val_loss: 1.1775 - learning_rate: 7.8125e-06\n",
            "Epoch 84/100\n",
            "\u001b[1m31/31\u001b[0m \u001b[32m━━━━━━━━━━━━━━━━━━━━\u001b[0m\u001b[37m\u001b[0m \u001b[1m0s\u001b[0m 2ms/step - accuracy: 0.8003 - loss: 0.7317 - val_accuracy: 0.6667 - val_loss: 1.1770 - learning_rate: 7.8125e-06\n",
            "Epoch 85/100\n",
            "\u001b[1m31/31\u001b[0m \u001b[32m━━━━━━━━━━━━━━━━━━━━\u001b[0m\u001b[37m\u001b[0m \u001b[1m0s\u001b[0m 2ms/step - accuracy: 0.7711 - loss: 0.7988 - val_accuracy: 0.6667 - val_loss: 1.1774 - learning_rate: 3.9063e-06\n",
            "Epoch 86/100\n",
            "\u001b[1m31/31\u001b[0m \u001b[32m━━━━━━━━━━━━━━━━━━━━\u001b[0m\u001b[37m\u001b[0m \u001b[1m0s\u001b[0m 2ms/step - accuracy: 0.8047 - loss: 0.7479 - val_accuracy: 0.6667 - val_loss: 1.1786 - learning_rate: 3.9063e-06\n",
            "Epoch 87/100\n",
            "\u001b[1m31/31\u001b[0m \u001b[32m━━━━━━━━━━━━━━━━━━━━\u001b[0m\u001b[37m\u001b[0m \u001b[1m0s\u001b[0m 2ms/step - accuracy: 0.7829 - loss: 0.7882 - val_accuracy: 0.6667 - val_loss: 1.1772 - learning_rate: 3.9063e-06\n",
            "Epoch 88/100\n",
            "\u001b[1m31/31\u001b[0m \u001b[32m━━━━━━━━━━━━━━━━━━━━\u001b[0m\u001b[37m\u001b[0m \u001b[1m0s\u001b[0m 2ms/step - accuracy: 0.7747 - loss: 0.7674 - val_accuracy: 0.6667 - val_loss: 1.1784 - learning_rate: 3.9063e-06\n",
            "Epoch 89/100\n",
            "\u001b[1m31/31\u001b[0m \u001b[32m━━━━━━━━━━━━━━━━━━━━\u001b[0m\u001b[37m\u001b[0m \u001b[1m0s\u001b[0m 2ms/step - accuracy: 0.7964 - loss: 0.7612 - val_accuracy: 0.6667 - val_loss: 1.1771 - learning_rate: 3.9063e-06\n",
            "Epoch 90/100\n",
            "\u001b[1m31/31\u001b[0m \u001b[32m━━━━━━━━━━━━━━━━━━━━\u001b[0m\u001b[37m\u001b[0m \u001b[1m0s\u001b[0m 2ms/step - accuracy: 0.7278 - loss: 0.8945 - val_accuracy: 0.6667 - val_loss: 1.1777 - learning_rate: 1.9531e-06\n",
            "Epoch 91/100\n",
            "\u001b[1m31/31\u001b[0m \u001b[32m━━━━━━━━━━━━━━━━━━━━\u001b[0m\u001b[37m\u001b[0m \u001b[1m0s\u001b[0m 2ms/step - accuracy: 0.7835 - loss: 0.7586 - val_accuracy: 0.6667 - val_loss: 1.1776 - learning_rate: 1.9531e-06\n",
            "Epoch 92/100\n",
            "\u001b[1m31/31\u001b[0m \u001b[32m━━━━━━━━━━━━━━━━━━━━\u001b[0m\u001b[37m\u001b[0m \u001b[1m0s\u001b[0m 2ms/step - accuracy: 0.7748 - loss: 0.7984 - val_accuracy: 0.6667 - val_loss: 1.1779 - learning_rate: 1.9531e-06\n",
            "Epoch 93/100\n",
            "\u001b[1m31/31\u001b[0m \u001b[32m━━━━━━━━━━━━━━━━━━━━\u001b[0m\u001b[37m\u001b[0m \u001b[1m0s\u001b[0m 2ms/step - accuracy: 0.7745 - loss: 0.8034 - val_accuracy: 0.6667 - val_loss: 1.1788 - learning_rate: 1.9531e-06\n",
            "Epoch 94/100\n",
            "\u001b[1m31/31\u001b[0m \u001b[32m━━━━━━━━━━━━━━━━━━━━\u001b[0m\u001b[37m\u001b[0m \u001b[1m0s\u001b[0m 3ms/step - accuracy: 0.7843 - loss: 0.8078 - val_accuracy: 0.6667 - val_loss: 1.1780 - learning_rate: 1.9531e-06\n",
            "Epoch 95/100\n",
            "\u001b[1m31/31\u001b[0m \u001b[32m━━━━━━━━━━━━━━━━━━━━\u001b[0m\u001b[37m\u001b[0m \u001b[1m0s\u001b[0m 2ms/step - accuracy: 0.7761 - loss: 0.7785 - val_accuracy: 0.6667 - val_loss: 1.1802 - learning_rate: 1.0000e-06\n",
            "Epoch 96/100\n",
            "\u001b[1m31/31\u001b[0m \u001b[32m━━━━━━━━━━━━━━━━━━━━\u001b[0m\u001b[37m\u001b[0m \u001b[1m0s\u001b[0m 3ms/step - accuracy: 0.7676 - loss: 0.8394 - val_accuracy: 0.6667 - val_loss: 1.1804 - learning_rate: 1.0000e-06\n",
            "Epoch 97/100\n",
            "\u001b[1m31/31\u001b[0m \u001b[32m━━━━━━━━━━━━━━━━━━━━\u001b[0m\u001b[37m\u001b[0m \u001b[1m0s\u001b[0m 2ms/step - accuracy: 0.7999 - loss: 0.7598 - val_accuracy: 0.6667 - val_loss: 1.1808 - learning_rate: 1.0000e-06\n",
            "Epoch 98/100\n",
            "\u001b[1m31/31\u001b[0m \u001b[32m━━━━━━━━━━━━━━━━━━━━\u001b[0m\u001b[37m\u001b[0m \u001b[1m0s\u001b[0m 2ms/step - accuracy: 0.7659 - loss: 0.8154 - val_accuracy: 0.6667 - val_loss: 1.1819 - learning_rate: 1.0000e-06\n",
            "Epoch 99/100\n",
            "\u001b[1m31/31\u001b[0m \u001b[32m━━━━━━━━━━━━━━━━━━━━\u001b[0m\u001b[37m\u001b[0m \u001b[1m0s\u001b[0m 2ms/step - accuracy: 0.7899 - loss: 0.7411 - val_accuracy: 0.6667 - val_loss: 1.1803 - learning_rate: 1.0000e-06\n",
            "Epoch 100/100\n",
            "\u001b[1m31/31\u001b[0m \u001b[32m━━━━━━━━━━━━━━━━━━━━\u001b[0m\u001b[37m\u001b[0m \u001b[1m0s\u001b[0m 2ms/step - accuracy: 0.7924 - loss: 0.7730 - val_accuracy: 0.6667 - val_loss: 1.1791 - learning_rate: 1.0000e-06\n"
          ]
        }
      ]
    },
    {
      "cell_type": "code",
      "source": [
        "model_1.evaluate(test_dataset)"
      ],
      "metadata": {
        "colab": {
          "base_uri": "https://localhost:8080/"
        },
        "id": "U2Mo0iSxzNob",
        "outputId": "3fe7f87e-1d51-4f0d-e6fe-5192848e097e"
      },
      "execution_count": null,
      "outputs": [
        {
          "output_type": "stream",
          "name": "stdout",
          "text": [
            "\u001b[1m4/4\u001b[0m \u001b[32m━━━━━━━━━━━━━━━━━━━━\u001b[0m\u001b[37m\u001b[0m \u001b[1m0s\u001b[0m 3ms/step - accuracy: 0.6184 - loss: 1.0368\n"
          ]
        },
        {
          "output_type": "execute_result",
          "data": {
            "text/plain": [
              "[1.0314162969589233, 0.6370967626571655]"
            ]
          },
          "metadata": {},
          "execution_count": 116
        }
      ]
    },
    {
      "cell_type": "code",
      "source": [
        "plot_training_history(history_1, model_name=\"Model 1\")"
      ],
      "metadata": {
        "colab": {
          "base_uri": "https://localhost:8080/",
          "height": 487
        },
        "id": "-7gRWe-4EAfk",
        "outputId": "5aee7e1b-2955-42a3-9155-8db78a0e728f"
      },
      "execution_count": null,
      "outputs": [
        {
          "output_type": "display_data",
          "data": {
            "text/plain": [
              "<Figure size 1200x500 with 2 Axes>"
            ],
            "image/png": "[encoded data removed]"
          },
          "metadata": {}
        }
      ]
    },
    {
      "cell_type": "markdown",
      "source": [
        "### Model 2"
      ],
      "metadata": {
        "id": "W6_qLW3JVh5J"
      }
    },
    {
      "cell_type": "code",
      "source": [
        "model_2 = Sequential([\n",
        "    Input(shape=(X_train_scaled.shape[1],)),\n",
        "    Dense(256, activation='relu', kernel_regularizer=l2(0.001)),\n",
        "    BatchNormalization(),\n",
        "    Dropout(0.3),\n",
        "    Dense(128, activation='relu'),\n",
        "    Dropout(0.2),\n",
        "    Dense(64, activation='relu', kernel_regularizer=l2(0.001)),\n",
        "    Dropout(0.2),\n",
        "    Dense(32, activation='relu',),\n",
        "    Dropout(0.2),\n",
        "    Dense(16, activation='relu',),\n",
        "    Dense(len(label_encoder.classes_), activation='softmax')\n",
        "])\n",
        "\n",
        "model_2.compile(optimizer=Adam(learning_rate=0.001),\n",
        "                loss='sparse_categorical_crossentropy',\n",
        "                metrics=['accuracy'])\n",
        "\n",
        "print(\"Input shape of the model:\", model_2.input_shape)\n",
        "print(\"Output shape of the model:\", model_2.output_shape)\n",
        "print()\n",
        "\n",
        "print(model_2.summary())"
      ],
      "metadata": {
        "colab": {
          "base_uri": "https://localhost:8080/",
          "height": 606
        },
        "id": "zIqLpGL-Vkdv",
        "outputId": "67986f1f-bf59-4ca4-a74e-379b247e0a2d"
      },
      "execution_count": null,
      "outputs": [
        {
          "output_type": "stream",
          "name": "stdout",
          "text": [
            "Input shape of the model: (None, 14)\n",
            "Output shape of the model: (None, 9)\n",
            "\n"
          ]
        },
        {
          "output_type": "display_data",
          "data": {
            "text/plain": [
              "\u001b[1mModel: \"sequential_62\"\u001b[0m\n"
            ],
            "text/html": [
              "<pre style=\"white-space:pre;overflow-x:auto;line-height:normal;font-family:Menlo,'DejaVu Sans Mono',consolas,'Courier New',monospace\"><span style=\"font-weight: bold\">Model: \"sequential_62\"</span>\n",
              "</pre>\n"
            ]
          },
          "metadata": {}
        },
        {
          "output_type": "display_data",
          "data": {
            "text/plain": [
              "┏━━━━━━━━━━━━━━━━━━━━━━━━━━━━━━━━━━━━━━┳━━━━━━━━━━━━━━━━━━━━━━━━━━━━━┳━━━━━━━━━━━━━━━━━┓\n",
              "┃\u001b[1m \u001b[0m\u001b[1mLayer (type)                        \u001b[0m\u001b[1m \u001b[0m┃\u001b[1m \u001b[0m\u001b[1mOutput Shape               \u001b[0m\u001b[1m \u001b[0m┃\u001b[1m \u001b[0m\u001b[1m        Param #\u001b[0m\u001b[1m \u001b[0m┃\n",
              "┡━━━━━━━━━━━━━━━━━━━━━━━━━━━━━━━━━━━━━━╇━━━━━━━━━━━━━━━━━━━━━━━━━━━━━╇━━━━━━━━━━━━━━━━━┩\n",
              "│ dense_269 (\u001b[38;5;33mDense\u001b[0m)                    │ (\u001b[38;5;45mNone\u001b[0m, \u001b[38;5;34m256\u001b[0m)                 │           \u001b[38;5;34m3,840\u001b[0m │\n",
              "├──────────────────────────────────────┼─────────────────────────────┼─────────────────┤\n",
              "│ batch_normalization_93               │ (\u001b[38;5;45mNone\u001b[0m, \u001b[38;5;34m256\u001b[0m)                 │           \u001b[38;5;34m1,024\u001b[0m │\n",
              "│ (\u001b[38;5;33mBatchNormalization\u001b[0m)                 │                             │                 │\n",
              "├──────────────────────────────────────┼─────────────────────────────┼─────────────────┤\n",
              "│ dropout_181 (\u001b[38;5;33mDropout\u001b[0m)                │ (\u001b[38;5;45mNone\u001b[0m, \u001b[38;5;34m256\u001b[0m)                 │               \u001b[38;5;34m0\u001b[0m │\n",
              "├──────────────────────────────────────┼─────────────────────────────┼─────────────────┤\n",
              "│ dense_270 (\u001b[38;5;33mDense\u001b[0m)                    │ (\u001b[38;5;45mNone\u001b[0m, \u001b[38;5;34m128\u001b[0m)                 │          \u001b[38;5;34m32,896\u001b[0m │\n",
              "├──────────────────────────────────────┼─────────────────────────────┼─────────────────┤\n",
              "│ dropout_182 (\u001b[38;5;33mDropout\u001b[0m)                │ (\u001b[38;5;45mNone\u001b[0m, \u001b[38;5;34m128\u001b[0m)                 │               \u001b[38;5;34m0\u001b[0m │\n",
              "├──────────────────────────────────────┼─────────────────────────────┼─────────────────┤\n",
              "│ dense_271 (\u001b[38;5;33mDense\u001b[0m)                    │ (\u001b[38;5;45mNone\u001b[0m, \u001b[38;5;34m64\u001b[0m)                  │           \u001b[38;5;34m8,256\u001b[0m │\n",
              "├──────────────────────────────────────┼─────────────────────────────┼─────────────────┤\n",
              "│ dropout_183 (\u001b[38;5;33mDropout\u001b[0m)                │ (\u001b[38;5;45mNone\u001b[0m, \u001b[38;5;34m64\u001b[0m)                  │               \u001b[38;5;34m0\u001b[0m │\n",
              "├──────────────────────────────────────┼─────────────────────────────┼─────────────────┤\n",
              "│ dense_272 (\u001b[38;5;33mDense\u001b[0m)                    │ (\u001b[38;5;45mNone\u001b[0m, \u001b[38;5;34m32\u001b[0m)                  │           \u001b[38;5;34m2,080\u001b[0m │\n",
              "├──────────────────────────────────────┼─────────────────────────────┼─────────────────┤\n",
              "│ dropout_184 (\u001b[38;5;33mDropout\u001b[0m)                │ (\u001b[38;5;45mNone\u001b[0m, \u001b[38;5;34m32\u001b[0m)                  │               \u001b[38;5;34m0\u001b[0m │\n",
              "├──────────────────────────────────────┼─────────────────────────────┼─────────────────┤\n",
              "│ dense_273 (\u001b[38;5;33mDense\u001b[0m)                    │ (\u001b[38;5;45mNone\u001b[0m, \u001b[38;5;34m16\u001b[0m)                  │             \u001b[38;5;34m528\u001b[0m │\n",
              "├──────────────────────────────────────┼─────────────────────────────┼─────────────────┤\n",
              "│ dense_274 (\u001b[38;5;33mDense\u001b[0m)                    │ (\u001b[38;5;45mNone\u001b[0m, \u001b[38;5;34m9\u001b[0m)                   │             \u001b[38;5;34m153\u001b[0m │\n",
              "└──────────────────────────────────────┴─────────────────────────────┴─────────────────┘\n"
            ],
            "text/html": [
              "<pre style=\"white-space:pre;overflow-x:auto;line-height:normal;font-family:Menlo,'DejaVu Sans Mono',consolas,'Courier New',monospace\">┏━━━━━━━━━━━━━━━━━━━━━━━━━━━━━━━━━━━━━━┳━━━━━━━━━━━━━━━━━━━━━━━━━━━━━┳━━━━━━━━━━━━━━━━━┓\n",
              "┃<span style=\"font-weight: bold\"> Layer (type)                         </span>┃<span style=\"font-weight: bold\"> Output Shape                </span>┃<span style=\"font-weight: bold\">         Param # </span>┃\n",
              "┡━━━━━━━━━━━━━━━━━━━━━━━━━━━━━━━━━━━━━━╇━━━━━━━━━━━━━━━━━━━━━━━━━━━━━╇━━━━━━━━━━━━━━━━━┩\n",
              "│ dense_269 (<span style=\"color: #0087ff; text-decoration-color: #0087ff\">Dense</span>)                    │ (<span style=\"color: #00d7ff; text-decoration-color: #00d7ff\">None</span>, <span style=\"color: #00af00; text-decoration-color: #00af00\">256</span>)                 │           <span style=\"color: #00af00; text-decoration-color: #00af00\">3,840</span> │\n",
              "├──────────────────────────────────────┼─────────────────────────────┼─────────────────┤\n",
              "│ batch_normalization_93               │ (<span style=\"color: #00d7ff; text-decoration-color: #00d7ff\">None</span>, <span style=\"color: #00af00; text-decoration-color: #00af00\">256</span>)                 │           <span style=\"color: #00af00; text-decoration-color: #00af00\">1,024</span> │\n",
              "│ (<span style=\"color: #0087ff; text-decoration-color: #0087ff\">BatchNormalization</span>)                 │                             │                 │\n",
              "├──────────────────────────────────────┼─────────────────────────────┼─────────────────┤\n",
              "│ dropout_181 (<span style=\"color: #0087ff; text-decoration-color: #0087ff\">Dropout</span>)                │ (<span style=\"color: #00d7ff; text-decoration-color: #00d7ff\">None</span>, <span style=\"color: #00af00; text-decoration-color: #00af00\">256</span>)                 │               <span style=\"color: #00af00; text-decoration-color: #00af00\">0</span> │\n",
              "├──────────────────────────────────────┼─────────────────────────────┼─────────────────┤\n",
              "│ dense_270 (<span style=\"color: #0087ff; text-decoration-color: #0087ff\">Dense</span>)                    │ (<span style=\"color: #00d7ff; text-decoration-color: #00d7ff\">None</span>, <span style=\"color: #00af00; text-decoration-color: #00af00\">128</span>)                 │          <span style=\"color: #00af00; text-decoration-color: #00af00\">32,896</span> │\n",
              "├──────────────────────────────────────┼─────────────────────────────┼─────────────────┤\n",
              "│ dropout_182 (<span style=\"color: #0087ff; text-decoration-color: #0087ff\">Dropout</span>)                │ (<span style=\"color: #00d7ff; text-decoration-color: #00d7ff\">None</span>, <span style=\"color: #00af00; text-decoration-color: #00af00\">128</span>)                 │               <span style=\"color: #00af00; text-decoration-color: #00af00\">0</span> │\n",
              "├──────────────────────────────────────┼─────────────────────────────┼─────────────────┤\n",
              "│ dense_271 (<span style=\"color: #0087ff; text-decoration-color: #0087ff\">Dense</span>)                    │ (<span style=\"color: #00d7ff; text-decoration-color: #00d7ff\">None</span>, <span style=\"color: #00af00; text-decoration-color: #00af00\">64</span>)                  │           <span style=\"color: #00af00; text-decoration-color: #00af00\">8,256</span> │\n",
              "├──────────────────────────────────────┼─────────────────────────────┼─────────────────┤\n",
              "│ dropout_183 (<span style=\"color: #0087ff; text-decoration-color: #0087ff\">Dropout</span>)                │ (<span style=\"color: #00d7ff; text-decoration-color: #00d7ff\">None</span>, <span style=\"color: #00af00; text-decoration-color: #00af00\">64</span>)                  │               <span style=\"color: #00af00; text-decoration-color: #00af00\">0</span> │\n",
              "├──────────────────────────────────────┼─────────────────────────────┼─────────────────┤\n",
              "│ dense_272 (<span style=\"color: #0087ff; text-decoration-color: #0087ff\">Dense</span>)                    │ (<span style=\"color: #00d7ff; text-decoration-color: #00d7ff\">None</span>, <span style=\"color: #00af00; text-decoration-color: #00af00\">32</span>)                  │           <span style=\"color: #00af00; text-decoration-color: #00af00\">2,080</span> │\n",
              "├──────────────────────────────────────┼─────────────────────────────┼─────────────────┤\n",
              "│ dropout_184 (<span style=\"color: #0087ff; text-decoration-color: #0087ff\">Dropout</span>)                │ (<span style=\"color: #00d7ff; text-decoration-color: #00d7ff\">None</span>, <span style=\"color: #00af00; text-decoration-color: #00af00\">32</span>)                  │               <span style=\"color: #00af00; text-decoration-color: #00af00\">0</span> │\n",
              "├──────────────────────────────────────┼─────────────────────────────┼─────────────────┤\n",
              "│ dense_273 (<span style=\"color: #0087ff; text-decoration-color: #0087ff\">Dense</span>)                    │ (<span style=\"color: #00d7ff; text-decoration-color: #00d7ff\">None</span>, <span style=\"color: #00af00; text-decoration-color: #00af00\">16</span>)                  │             <span style=\"color: #00af00; text-decoration-color: #00af00\">528</span> │\n",
              "├──────────────────────────────────────┼─────────────────────────────┼─────────────────┤\n",
              "│ dense_274 (<span style=\"color: #0087ff; text-decoration-color: #0087ff\">Dense</span>)                    │ (<span style=\"color: #00d7ff; text-decoration-color: #00d7ff\">None</span>, <span style=\"color: #00af00; text-decoration-color: #00af00\">9</span>)                   │             <span style=\"color: #00af00; text-decoration-color: #00af00\">153</span> │\n",
              "└──────────────────────────────────────┴─────────────────────────────┴─────────────────┘\n",
              "</pre>\n"
            ]
          },
          "metadata": {}
        },
        {
          "output_type": "display_data",
          "data": {
            "text/plain": [
              "\u001b[1m Total params: \u001b[0m\u001b[38;5;34m48,777\u001b[0m (190.54 KB)\n"
            ],
            "text/html": [
              "<pre style=\"white-space:pre;overflow-x:auto;line-height:normal;font-family:Menlo,'DejaVu Sans Mono',consolas,'Courier New',monospace\"><span style=\"font-weight: bold\"> Total params: </span><span style=\"color: #00af00; text-decoration-color: #00af00\">48,777</span> (190.54 KB)\n",
              "</pre>\n"
            ]
          },
          "metadata": {}
        },
        {
          "output_type": "display_data",
          "data": {
            "text/plain": [
              "\u001b[1m Trainable params: \u001b[0m\u001b[38;5;34m48,265\u001b[0m (188.54 KB)\n"
            ],
            "text/html": [
              "<pre style=\"white-space:pre;overflow-x:auto;line-height:normal;font-family:Menlo,'DejaVu Sans Mono',consolas,'Courier New',monospace\"><span style=\"font-weight: bold\"> Trainable params: </span><span style=\"color: #00af00; text-decoration-color: #00af00\">48,265</span> (188.54 KB)\n",
              "</pre>\n"
            ]
          },
          "metadata": {}
        },
        {
          "output_type": "display_data",
          "data": {
            "text/plain": [
              "\u001b[1m Non-trainable params: \u001b[0m\u001b[38;5;34m512\u001b[0m (2.00 KB)\n"
            ],
            "text/html": [
              "<pre style=\"white-space:pre;overflow-x:auto;line-height:normal;font-family:Menlo,'DejaVu Sans Mono',consolas,'Courier New',monospace\"><span style=\"font-weight: bold\"> Non-trainable params: </span><span style=\"color: #00af00; text-decoration-color: #00af00\">512</span> (2.00 KB)\n",
              "</pre>\n"
            ]
          },
          "metadata": {}
        },
        {
          "output_type": "stream",
          "name": "stdout",
          "text": [
            "None\n"
          ]
        }
      ]
    },
    {
      "cell_type": "code",
      "source": [
        "es = EarlyStopping(monitor='val_loss', patience=10, restore_best_weights=True)\n",
        "\n",
        "history_2 = model_2.fit(train_dataset,\n",
        "                      epochs=50,\n",
        "                      validation_data=val_dataset,\n",
        "                      # callbacks=es,\n",
        "                      verbose=1\n",
        "                    )"
      ],
      "metadata": {
        "colab": {
          "base_uri": "https://localhost:8080/"
        },
        "id": "XkOh_a22Y_yI",
        "outputId": "db184a18-41c2-46e2-c09f-c94bea71252a"
      },
      "execution_count": null,
      "outputs": [
        {
          "output_type": "stream",
          "name": "stdout",
          "text": [
            "Epoch 1/50\n",
            "\u001b[1m72/72\u001b[0m \u001b[32m━━━━━━━━━━━━━━━━━━━━\u001b[0m\u001b[37m\u001b[0m \u001b[1m4s\u001b[0m 9ms/step - accuracy: 0.2153 - loss: 2.1530 - val_accuracy: 0.4062 - val_loss: 2.1343\n",
            "Epoch 2/50\n",
            "\u001b[1m72/72\u001b[0m \u001b[32m━━━━━━━━━━━━━━━━━━━━\u001b[0m\u001b[37m\u001b[0m \u001b[1m0s\u001b[0m 5ms/step - accuracy: 0.4725 - loss: 1.5368 - val_accuracy: 0.5000 - val_loss: 1.7583\n",
            "Epoch 3/50\n",
            "\u001b[1m72/72\u001b[0m \u001b[32m━━━━━━━━━━━━━━━━━━━━\u001b[0m\u001b[37m\u001b[0m \u001b[1m1s\u001b[0m 5ms/step - accuracy: 0.5719 - loss: 1.3087 - val_accuracy: 0.6094 - val_loss: 1.4294\n",
            "Epoch 4/50\n",
            "\u001b[1m72/72\u001b[0m \u001b[32m━━━━━━━━━━━━━━━━━━━━\u001b[0m\u001b[37m\u001b[0m \u001b[1m0s\u001b[0m 3ms/step - accuracy: 0.6222 - loss: 1.2262 - val_accuracy: 0.6406 - val_loss: 1.2585\n",
            "Epoch 5/50\n",
            "\u001b[1m72/72\u001b[0m \u001b[32m━━━━━━━━━━━━━━━━━━━━\u001b[0m\u001b[37m\u001b[0m \u001b[1m0s\u001b[0m 3ms/step - accuracy: 0.6877 - loss: 1.0770 - val_accuracy: 0.7188 - val_loss: 1.0332\n",
            "Epoch 6/50\n",
            "\u001b[1m72/72\u001b[0m \u001b[32m━━━━━━━━━━━━━━━━━━━━\u001b[0m\u001b[37m\u001b[0m \u001b[1m0s\u001b[0m 3ms/step - accuracy: 0.7219 - loss: 0.9524 - val_accuracy: 0.7109 - val_loss: 0.9896\n",
            "Epoch 7/50\n",
            "\u001b[1m72/72\u001b[0m \u001b[32m━━━━━━━━━━━━━━━━━━━━\u001b[0m\u001b[37m\u001b[0m \u001b[1m0s\u001b[0m 3ms/step - accuracy: 0.7113 - loss: 0.9685 - val_accuracy: 0.7109 - val_loss: 0.9318\n",
            "Epoch 8/50\n",
            "\u001b[1m72/72\u001b[0m \u001b[32m━━━━━━━━━━━━━━━━━━━━\u001b[0m\u001b[37m\u001b[0m \u001b[1m0s\u001b[0m 3ms/step - accuracy: 0.7349 - loss: 0.9326 - val_accuracy: 0.7969 - val_loss: 0.8020\n",
            "Epoch 9/50\n",
            "\u001b[1m72/72\u001b[0m \u001b[32m━━━━━━━━━━━━━━━━━━━━\u001b[0m\u001b[37m\u001b[0m \u001b[1m0s\u001b[0m 3ms/step - accuracy: 0.7454 - loss: 0.8764 - val_accuracy: 0.7500 - val_loss: 0.8305\n",
            "Epoch 10/50\n",
            "\u001b[1m72/72\u001b[0m \u001b[32m━━━━━━━━━━━━━━━━━━━━\u001b[0m\u001b[37m\u001b[0m \u001b[1m0s\u001b[0m 3ms/step - accuracy: 0.7676 - loss: 0.7669 - val_accuracy: 0.7734 - val_loss: 0.8174\n",
            "Epoch 11/50\n",
            "\u001b[1m72/72\u001b[0m \u001b[32m━━━━━━━━━━━━━━━━━━━━\u001b[0m\u001b[37m\u001b[0m \u001b[1m0s\u001b[0m 3ms/step - accuracy: 0.7866 - loss: 0.7416 - val_accuracy: 0.7891 - val_loss: 0.7480\n",
            "Epoch 12/50\n",
            "\u001b[1m72/72\u001b[0m \u001b[32m━━━━━━━━━━━━━━━━━━━━\u001b[0m\u001b[37m\u001b[0m \u001b[1m0s\u001b[0m 3ms/step - accuracy: 0.8051 - loss: 0.7062 - val_accuracy: 0.7891 - val_loss: 0.7595\n",
            "Epoch 13/50\n",
            "\u001b[1m72/72\u001b[0m \u001b[32m━━━━━━━━━━━━━━━━━━━━\u001b[0m\u001b[37m\u001b[0m \u001b[1m0s\u001b[0m 3ms/step - accuracy: 0.8255 - loss: 0.6512 - val_accuracy: 0.8438 - val_loss: 0.6765\n",
            "Epoch 14/50\n",
            "\u001b[1m72/72\u001b[0m \u001b[32m━━━━━━━━━━━━━━━━━━━━\u001b[0m\u001b[37m\u001b[0m \u001b[1m0s\u001b[0m 3ms/step - accuracy: 0.8053 - loss: 0.7051 - val_accuracy: 0.8281 - val_loss: 0.6621\n",
            "Epoch 15/50\n",
            "\u001b[1m72/72\u001b[0m \u001b[32m━━━━━━━━━━━━━━━━━━━━\u001b[0m\u001b[37m\u001b[0m \u001b[1m0s\u001b[0m 3ms/step - accuracy: 0.8073 - loss: 0.6779 - val_accuracy: 0.7891 - val_loss: 0.7040\n",
            "Epoch 16/50\n",
            "\u001b[1m72/72\u001b[0m \u001b[32m━━━━━━━━━━━━━━━━━━━━\u001b[0m\u001b[37m\u001b[0m \u001b[1m0s\u001b[0m 3ms/step - accuracy: 0.8092 - loss: 0.6435 - val_accuracy: 0.8047 - val_loss: 0.7707\n",
            "Epoch 17/50\n",
            "\u001b[1m72/72\u001b[0m \u001b[32m━━━━━━━━━━━━━━━━━━━━\u001b[0m\u001b[37m\u001b[0m \u001b[1m0s\u001b[0m 3ms/step - accuracy: 0.8039 - loss: 0.6937 - val_accuracy: 0.8047 - val_loss: 0.7205\n",
            "Epoch 18/50\n",
            "\u001b[1m72/72\u001b[0m \u001b[32m━━━━━━━━━━━━━━━━━━━━\u001b[0m\u001b[37m\u001b[0m \u001b[1m0s\u001b[0m 3ms/step - accuracy: 0.8268 - loss: 0.6593 - val_accuracy: 0.8125 - val_loss: 0.7060\n",
            "Epoch 19/50\n",
            "\u001b[1m72/72\u001b[0m \u001b[32m━━━━━━━━━━━━━━━━━━━━\u001b[0m\u001b[37m\u001b[0m \u001b[1m0s\u001b[0m 3ms/step - accuracy: 0.8172 - loss: 0.6192 - val_accuracy: 0.8125 - val_loss: 0.6989\n",
            "Epoch 20/50\n",
            "\u001b[1m72/72\u001b[0m \u001b[32m━━━━━━━━━━━━━━━━━━━━\u001b[0m\u001b[37m\u001b[0m \u001b[1m0s\u001b[0m 3ms/step - accuracy: 0.8268 - loss: 0.6363 - val_accuracy: 0.8203 - val_loss: 0.6802\n",
            "Epoch 21/50\n",
            "\u001b[1m72/72\u001b[0m \u001b[32m━━━━━━━━━━━━━━━━━━━━\u001b[0m\u001b[37m\u001b[0m \u001b[1m0s\u001b[0m 3ms/step - accuracy: 0.8326 - loss: 0.6097 - val_accuracy: 0.8203 - val_loss: 0.6540\n",
            "Epoch 22/50\n",
            "\u001b[1m72/72\u001b[0m \u001b[32m━━━━━━━━━━━━━━━━━━━━\u001b[0m\u001b[37m\u001b[0m \u001b[1m0s\u001b[0m 3ms/step - accuracy: 0.8412 - loss: 0.5921 - val_accuracy: 0.8125 - val_loss: 0.7450\n",
            "Epoch 23/50\n",
            "\u001b[1m72/72\u001b[0m \u001b[32m━━━━━━━━━━━━━━━━━━━━\u001b[0m\u001b[37m\u001b[0m \u001b[1m0s\u001b[0m 3ms/step - accuracy: 0.8323 - loss: 0.6155 - val_accuracy: 0.8203 - val_loss: 0.6801\n",
            "Epoch 24/50\n",
            "\u001b[1m72/72\u001b[0m \u001b[32m━━━━━━━━━━━━━━━━━━━━\u001b[0m\u001b[37m\u001b[0m \u001b[1m0s\u001b[0m 3ms/step - accuracy: 0.8492 - loss: 0.5146 - val_accuracy: 0.7891 - val_loss: 0.6704\n",
            "Epoch 25/50\n",
            "\u001b[1m72/72\u001b[0m \u001b[32m━━━━━━━━━━━━━━━━━━━━\u001b[0m\u001b[37m\u001b[0m \u001b[1m0s\u001b[0m 3ms/step - accuracy: 0.8469 - loss: 0.5520 - val_accuracy: 0.8203 - val_loss: 0.7149\n",
            "Epoch 26/50\n",
            "\u001b[1m72/72\u001b[0m \u001b[32m━━━━━━━━━━━━━━━━━━━━\u001b[0m\u001b[37m\u001b[0m \u001b[1m0s\u001b[0m 3ms/step - accuracy: 0.8476 - loss: 0.5421 - val_accuracy: 0.8125 - val_loss: 0.6204\n",
            "Epoch 27/50\n",
            "\u001b[1m72/72\u001b[0m \u001b[32m━━━━━━━━━━━━━━━━━━━━\u001b[0m\u001b[37m\u001b[0m \u001b[1m0s\u001b[0m 3ms/step - accuracy: 0.8732 - loss: 0.4761 - val_accuracy: 0.8047 - val_loss: 0.7016\n",
            "Epoch 28/50\n",
            "\u001b[1m72/72\u001b[0m \u001b[32m━━━━━━━━━━━━━━━━━━━━\u001b[0m\u001b[37m\u001b[0m \u001b[1m0s\u001b[0m 3ms/step - accuracy: 0.8587 - loss: 0.5205 - val_accuracy: 0.8438 - val_loss: 0.6970\n",
            "Epoch 29/50\n",
            "\u001b[1m72/72\u001b[0m \u001b[32m━━━━━━━━━━━━━━━━━━━━\u001b[0m\u001b[37m\u001b[0m \u001b[1m0s\u001b[0m 3ms/step - accuracy: 0.8766 - loss: 0.4649 - val_accuracy: 0.8203 - val_loss: 0.5985\n",
            "Epoch 30/50\n",
            "\u001b[1m72/72\u001b[0m \u001b[32m━━━━━━━━━━━━━━━━━━━━\u001b[0m\u001b[37m\u001b[0m \u001b[1m0s\u001b[0m 3ms/step - accuracy: 0.8730 - loss: 0.4440 - val_accuracy: 0.8359 - val_loss: 0.6587\n",
            "Epoch 31/50\n",
            "\u001b[1m72/72\u001b[0m \u001b[32m━━━━━━━━━━━━━━━━━━━━\u001b[0m\u001b[37m\u001b[0m \u001b[1m0s\u001b[0m 3ms/step - accuracy: 0.8686 - loss: 0.5063 - val_accuracy: 0.8359 - val_loss: 0.6075\n",
            "Epoch 32/50\n",
            "\u001b[1m72/72\u001b[0m \u001b[32m━━━━━━━━━━━━━━━━━━━━\u001b[0m\u001b[37m\u001b[0m \u001b[1m0s\u001b[0m 3ms/step - accuracy: 0.8657 - loss: 0.4770 - val_accuracy: 0.8047 - val_loss: 0.6469\n",
            "Epoch 33/50\n",
            "\u001b[1m72/72\u001b[0m \u001b[32m━━━━━━━━━━━━━━━━━━━━\u001b[0m\u001b[37m\u001b[0m \u001b[1m0s\u001b[0m 3ms/step - accuracy: 0.8643 - loss: 0.4869 - val_accuracy: 0.8047 - val_loss: 0.6838\n",
            "Epoch 34/50\n",
            "\u001b[1m72/72\u001b[0m \u001b[32m━━━━━━━━━━━━━━━━━━━━\u001b[0m\u001b[37m\u001b[0m \u001b[1m0s\u001b[0m 3ms/step - accuracy: 0.8757 - loss: 0.4599 - val_accuracy: 0.8203 - val_loss: 0.6547\n",
            "Epoch 35/50\n",
            "\u001b[1m72/72\u001b[0m \u001b[32m━━━━━━━━━━━━━━━━━━━━\u001b[0m\u001b[37m\u001b[0m \u001b[1m0s\u001b[0m 3ms/step - accuracy: 0.8886 - loss: 0.4207 - val_accuracy: 0.8203 - val_loss: 0.6962\n",
            "Epoch 36/50\n",
            "\u001b[1m72/72\u001b[0m \u001b[32m━━━━━━━━━━━━━━━━━━━━\u001b[0m\u001b[37m\u001b[0m \u001b[1m0s\u001b[0m 3ms/step - accuracy: 0.8795 - loss: 0.4532 - val_accuracy: 0.8203 - val_loss: 0.6203\n",
            "Epoch 37/50\n",
            "\u001b[1m72/72\u001b[0m \u001b[32m━━━━━━━━━━━━━━━━━━━━\u001b[0m\u001b[37m\u001b[0m \u001b[1m0s\u001b[0m 3ms/step - accuracy: 0.8649 - loss: 0.4915 - val_accuracy: 0.8359 - val_loss: 0.5863\n",
            "Epoch 38/50\n",
            "\u001b[1m72/72\u001b[0m \u001b[32m━━━━━━━━━━━━━━━━━━━━\u001b[0m\u001b[37m\u001b[0m \u001b[1m0s\u001b[0m 3ms/step - accuracy: 0.8871 - loss: 0.4219 - val_accuracy: 0.8359 - val_loss: 0.5547\n",
            "Epoch 39/50\n",
            "\u001b[1m72/72\u001b[0m \u001b[32m━━━━━━━━━━━━━━━━━━━━\u001b[0m\u001b[37m\u001b[0m \u001b[1m0s\u001b[0m 3ms/step - accuracy: 0.8946 - loss: 0.4016 - val_accuracy: 0.8359 - val_loss: 0.6273\n",
            "Epoch 40/50\n",
            "\u001b[1m72/72\u001b[0m \u001b[32m━━━━━━━━━━━━━━━━━━━━\u001b[0m\u001b[37m\u001b[0m \u001b[1m0s\u001b[0m 3ms/step - accuracy: 0.8863 - loss: 0.4099 - val_accuracy: 0.8516 - val_loss: 0.5431\n",
            "Epoch 41/50\n",
            "\u001b[1m72/72\u001b[0m \u001b[32m━━━━━━━━━━━━━━━━━━━━\u001b[0m\u001b[37m\u001b[0m \u001b[1m0s\u001b[0m 5ms/step - accuracy: 0.9079 - loss: 0.3464 - val_accuracy: 0.8438 - val_loss: 0.6580\n",
            "Epoch 42/50\n",
            "\u001b[1m72/72\u001b[0m \u001b[32m━━━━━━━━━━━━━━━━━━━━\u001b[0m\u001b[37m\u001b[0m \u001b[1m0s\u001b[0m 5ms/step - accuracy: 0.9028 - loss: 0.4051 - val_accuracy: 0.8359 - val_loss: 0.6268\n",
            "Epoch 43/50\n",
            "\u001b[1m72/72\u001b[0m \u001b[32m━━━━━━━━━━━━━━━━━━━━\u001b[0m\u001b[37m\u001b[0m \u001b[1m0s\u001b[0m 4ms/step - accuracy: 0.9046 - loss: 0.3987 - val_accuracy: 0.8203 - val_loss: 0.5924\n",
            "Epoch 44/50\n",
            "\u001b[1m72/72\u001b[0m \u001b[32m━━━━━━━━━━━━━━━━━━━━\u001b[0m\u001b[37m\u001b[0m \u001b[1m1s\u001b[0m 5ms/step - accuracy: 0.9124 - loss: 0.3611 - val_accuracy: 0.8438 - val_loss: 0.5852\n",
            "Epoch 45/50\n",
            "\u001b[1m72/72\u001b[0m \u001b[32m━━━━━━━━━━━━━━━━━━━━\u001b[0m\u001b[37m\u001b[0m \u001b[1m1s\u001b[0m 4ms/step - accuracy: 0.9109 - loss: 0.3893 - val_accuracy: 0.7969 - val_loss: 0.6559\n",
            "Epoch 46/50\n",
            "\u001b[1m72/72\u001b[0m \u001b[32m━━━━━━━━━━━━━━━━━━━━\u001b[0m\u001b[37m\u001b[0m \u001b[1m1s\u001b[0m 4ms/step - accuracy: 0.8882 - loss: 0.4092 - val_accuracy: 0.8438 - val_loss: 0.6342\n",
            "Epoch 47/50\n",
            "\u001b[1m72/72\u001b[0m \u001b[32m━━━━━━━━━━━━━━━━━━━━\u001b[0m\u001b[37m\u001b[0m \u001b[1m1s\u001b[0m 5ms/step - accuracy: 0.8990 - loss: 0.3916 - val_accuracy: 0.8516 - val_loss: 0.5419\n",
            "Epoch 48/50\n",
            "\u001b[1m72/72\u001b[0m \u001b[32m━━━━━━━━━━━━━━━━━━━━\u001b[0m\u001b[37m\u001b[0m \u001b[1m0s\u001b[0m 3ms/step - accuracy: 0.8999 - loss: 0.3699 - val_accuracy: 0.8203 - val_loss: 0.6771\n",
            "Epoch 49/50\n",
            "\u001b[1m72/72\u001b[0m \u001b[32m━━━━━━━━━━━━━━━━━━━━\u001b[0m\u001b[37m\u001b[0m \u001b[1m0s\u001b[0m 3ms/step - accuracy: 0.8956 - loss: 0.3650 - val_accuracy: 0.8594 - val_loss: 0.5808\n",
            "Epoch 50/50\n",
            "\u001b[1m72/72\u001b[0m \u001b[32m━━━━━━━━━━━━━━━━━━━━\u001b[0m\u001b[37m\u001b[0m \u001b[1m0s\u001b[0m 3ms/step - accuracy: 0.9055 - loss: 0.3831 - val_accuracy: 0.8438 - val_loss: 0.5780\n"
          ]
        }
      ]
    },
    {
      "cell_type": "markdown",
      "source": [
        "###Model 3"
      ],
      "metadata": {
        "id": "QAHbF21jP_Nb"
      }
    },
    {
      "cell_type": "code",
      "source": [
        "from imblearn.over_sampling import SMOTE\n",
        "from sklearn.preprocessing import StandardScaler, LabelEncoder\n",
        "from sklearn.model_selection import train_test_split\n",
        "import tensorflow as tf\n",
        "\n",
        "# Misalkan df adalah DataFrame Anda\n",
        "X = df.drop('Diagnosis', axis=1)  # features\n",
        "y = df['Diagnosis']  # target label\n",
        "\n",
        "# Split data 80:10:10\n",
        "X_train, X_temp, y_train, y_temp = train_test_split(X, y, test_size=0.2, random_state=42)\n",
        "X_val, X_test, y_val, y_test = train_test_split(X_temp, y_temp, test_size=0.5, random_state=42)\n",
        "\n",
        "# Normalisasi data\n",
        "sc = StandardScaler()\n",
        "X_train_scaled = sc.fit_transform(X_train)\n",
        "X_val_scaled = sc.transform(X_val)\n",
        "X_test_scaled = sc.transform(X_test)\n",
        "\n",
        "# Konversi label string menjadi angka\n",
        "label_encoder = LabelEncoder()\n",
        "y_train_encoded = label_encoder.fit_transform(y_train)\n",
        "y_val_encoded = label_encoder.transform(y_val)\n",
        "y_test_encoded = label_encoder.transform(y_test)\n",
        "\n",
        "# Terapkan SMOTE untuk menangani ketidakseimbangan kelas pada data training\n",
        "smote = SMOTE(random_state=42)\n",
        "X_train_resampled, y_train_resampled = smote.fit_resample(X_train_scaled, y_train_encoded)\n",
        "\n",
        "# Verifikasi jumlah data setelah SMOTE\n",
        "print(f'Jumlah data sebelum SMOTE: {len(y_train_encoded)}')\n",
        "print(f'Jumlah data setelah SMOTE: {len(y_train_resampled)}')\n",
        "\n",
        "# Convert data kembali ke TensorFlow dataset (jika diperlukan untuk model TensorFlow)\n",
        "train_dataset = tf.data.Dataset.from_tensor_slices((X_train_resampled, y_train_resampled))\n",
        "val_dataset = tf.data.Dataset.from_tensor_slices((X_val_scaled, y_val_encoded))\n",
        "test_dataset = tf.data.Dataset.from_tensor_slices((X_test_scaled, y_test_encoded))\n",
        "\n",
        "# Mengatur shuffle dan batch size\n",
        "train_dataset = train_dataset.shuffle(buffer_size=1000).batch(32)\n",
        "val_dataset = val_dataset.batch(32)\n",
        "test_dataset = test_dataset.batch(32)\n",
        "\n",
        "# Menampilkan dataset untuk verifikasi\n",
        "train_dataset, val_dataset, test_dataset\n"
      ],
      "metadata": {
        "colab": {
          "base_uri": "https://localhost:8080/"
        },
        "id": "1jCtarMOAL0H",
        "outputId": "93fc159b-f984-47e0-a1a3-0009afe06ff6"
      },
      "execution_count": null,
      "outputs": [
        {
          "output_type": "stream",
          "name": "stdout",
          "text": [
            "Jumlah data sebelum SMOTE: 1024\n",
            "Jumlah data setelah SMOTE: 2295\n"
          ]
        },
        {
          "output_type": "execute_result",
          "data": {
            "text/plain": [
              "(<_BatchDataset element_spec=(TensorSpec(shape=(None, 14), dtype=tf.float64, name=None), TensorSpec(shape=(None,), dtype=tf.int64, name=None))>,\n",
              " <_BatchDataset element_spec=(TensorSpec(shape=(None, 14), dtype=tf.float64, name=None), TensorSpec(shape=(None,), dtype=tf.int64, name=None))>,\n",
              " <_BatchDataset element_spec=(TensorSpec(shape=(None, 14), dtype=tf.float64, name=None), TensorSpec(shape=(None,), dtype=tf.int64, name=None))>)"
            ]
          },
          "metadata": {},
          "execution_count": 268
        }
      ]
    },
    {
      "cell_type": "code",
      "source": [
        "from tensorflow.keras import layers, models\n",
        "\n",
        "# Membangun model\n",
        "model = models.Sequential()\n",
        "\n",
        "# Layer input\n",
        "model.add(layers.InputLayer(input_shape=(X_train_scaled.shape[1],)))\n",
        "\n",
        "# Hidden Layer 1\n",
        "model.add(layers.Dense(128, activation='relu'))\n",
        "model.add(layers.Dropout(0.5))\n",
        "\n",
        "# Hidden Layer 2\n",
        "model.add(layers.Dense(64, activation='relu'))\n",
        "model.add(layers.Dropout(0.5))\n",
        "\n",
        "# Hidden Layer 3\n",
        "model.add(layers.Dense(32, activation='relu'))\n",
        "model.add(layers.Dropout(0.5))\n",
        "\n",
        "# Output Layer\n",
        "model.add(layers.Dense(len(label_encoder.classes_), activation='softmax'))\n",
        "\n",
        "# Compile the model\n",
        "model.compile(optimizer='adam', loss='sparse_categorical_crossentropy', metrics=['accuracy'])\n",
        "\n",
        "model.summary()\n"
      ],
      "metadata": {
        "colab": {
          "base_uri": "https://localhost:8080/",
          "height": 416
        },
        "id": "ItfmGsf9QEg2",
        "outputId": "54cb56f2-2eb6-4df3-de97-e7cc8a3d387b"
      },
      "execution_count": null,
      "outputs": [
        {
          "output_type": "stream",
          "name": "stderr",
          "text": [
            "/usr/local/lib/python3.10/dist-packages/keras/src/layers/core/input_layer.py:26: UserWarning: Argument `input_shape` is deprecated. Use `shape` instead.\n",
            "  warnings.warn(\n"
          ]
        },
        {
          "output_type": "display_data",
          "data": {
            "text/plain": [
              "\u001b[1mModel: \"sequential_63\"\u001b[0m\n"
            ],
            "text/html": [
              "<pre style=\"white-space:pre;overflow-x:auto;line-height:normal;font-family:Menlo,'DejaVu Sans Mono',consolas,'Courier New',monospace\"><span style=\"font-weight: bold\">Model: \"sequential_63\"</span>\n",
              "</pre>\n"
            ]
          },
          "metadata": {}
        },
        {
          "output_type": "display_data",
          "data": {
            "text/plain": [
              "┏━━━━━━━━━━━━━━━━━━━━━━━━━━━━━━━━━━━━━━┳━━━━━━━━━━━━━━━━━━━━━━━━━━━━━┳━━━━━━━━━━━━━━━━━┓\n",
              "┃\u001b[1m \u001b[0m\u001b[1mLayer (type)                        \u001b[0m\u001b[1m \u001b[0m┃\u001b[1m \u001b[0m\u001b[1mOutput Shape               \u001b[0m\u001b[1m \u001b[0m┃\u001b[1m \u001b[0m\u001b[1m        Param #\u001b[0m\u001b[1m \u001b[0m┃\n",
              "┡━━━━━━━━━━━━━━━━━━━━━━━━━━━━━━━━━━━━━━╇━━━━━━━━━━━━━━━━━━━━━━━━━━━━━╇━━━━━━━━━━━━━━━━━┩\n",
              "│ dense_275 (\u001b[38;5;33mDense\u001b[0m)                    │ (\u001b[38;5;45mNone\u001b[0m, \u001b[38;5;34m128\u001b[0m)                 │           \u001b[38;5;34m1,920\u001b[0m │\n",
              "├──────────────────────────────────────┼─────────────────────────────┼─────────────────┤\n",
              "│ dropout_185 (\u001b[38;5;33mDropout\u001b[0m)                │ (\u001b[38;5;45mNone\u001b[0m, \u001b[38;5;34m128\u001b[0m)                 │               \u001b[38;5;34m0\u001b[0m │\n",
              "├──────────────────────────────────────┼─────────────────────────────┼─────────────────┤\n",
              "│ dense_276 (\u001b[38;5;33mDense\u001b[0m)                    │ (\u001b[38;5;45mNone\u001b[0m, \u001b[38;5;34m64\u001b[0m)                  │           \u001b[38;5;34m8,256\u001b[0m │\n",
              "├──────────────────────────────────────┼─────────────────────────────┼─────────────────┤\n",
              "│ dropout_186 (\u001b[38;5;33mDropout\u001b[0m)                │ (\u001b[38;5;45mNone\u001b[0m, \u001b[38;5;34m64\u001b[0m)                  │               \u001b[38;5;34m0\u001b[0m │\n",
              "├──────────────────────────────────────┼─────────────────────────────┼─────────────────┤\n",
              "│ dense_277 (\u001b[38;5;33mDense\u001b[0m)                    │ (\u001b[38;5;45mNone\u001b[0m, \u001b[38;5;34m32\u001b[0m)                  │           \u001b[38;5;34m2,080\u001b[0m │\n",
              "├──────────────────────────────────────┼─────────────────────────────┼─────────────────┤\n",
              "│ dropout_187 (\u001b[38;5;33mDropout\u001b[0m)                │ (\u001b[38;5;45mNone\u001b[0m, \u001b[38;5;34m32\u001b[0m)                  │               \u001b[38;5;34m0\u001b[0m │\n",
              "├──────────────────────────────────────┼─────────────────────────────┼─────────────────┤\n",
              "│ dense_278 (\u001b[38;5;33mDense\u001b[0m)                    │ (\u001b[38;5;45mNone\u001b[0m, \u001b[38;5;34m9\u001b[0m)                   │             \u001b[38;5;34m297\u001b[0m │\n",
              "└──────────────────────────────────────┴─────────────────────────────┴─────────────────┘\n"
            ],
            "text/html": [
              "<pre style=\"white-space:pre;overflow-x:auto;line-height:normal;font-family:Menlo,'DejaVu Sans Mono',consolas,'Courier New',monospace\">┏━━━━━━━━━━━━━━━━━━━━━━━━━━━━━━━━━━━━━━┳━━━━━━━━━━━━━━━━━━━━━━━━━━━━━┳━━━━━━━━━━━━━━━━━┓\n",
              "┃<span style=\"font-weight: bold\"> Layer (type)                         </span>┃<span style=\"font-weight: bold\"> Output Shape                </span>┃<span style=\"font-weight: bold\">         Param # </span>┃\n",
              "┡━━━━━━━━━━━━━━━━━━━━━━━━━━━━━━━━━━━━━━╇━━━━━━━━━━━━━━━━━━━━━━━━━━━━━╇━━━━━━━━━━━━━━━━━┩\n",
              "│ dense_275 (<span style=\"color: #0087ff; text-decoration-color: #0087ff\">Dense</span>)                    │ (<span style=\"color: #00d7ff; text-decoration-color: #00d7ff\">None</span>, <span style=\"color: #00af00; text-decoration-color: #00af00\">128</span>)                 │           <span style=\"color: #00af00; text-decoration-color: #00af00\">1,920</span> │\n",
              "├──────────────────────────────────────┼─────────────────────────────┼─────────────────┤\n",
              "│ dropout_185 (<span style=\"color: #0087ff; text-decoration-color: #0087ff\">Dropout</span>)                │ (<span style=\"color: #00d7ff; text-decoration-color: #00d7ff\">None</span>, <span style=\"color: #00af00; text-decoration-color: #00af00\">128</span>)                 │               <span style=\"color: #00af00; text-decoration-color: #00af00\">0</span> │\n",
              "├──────────────────────────────────────┼─────────────────────────────┼─────────────────┤\n",
              "│ dense_276 (<span style=\"color: #0087ff; text-decoration-color: #0087ff\">Dense</span>)                    │ (<span style=\"color: #00d7ff; text-decoration-color: #00d7ff\">None</span>, <span style=\"color: #00af00; text-decoration-color: #00af00\">64</span>)                  │           <span style=\"color: #00af00; text-decoration-color: #00af00\">8,256</span> │\n",
              "├──────────────────────────────────────┼─────────────────────────────┼─────────────────┤\n",
              "│ dropout_186 (<span style=\"color: #0087ff; text-decoration-color: #0087ff\">Dropout</span>)                │ (<span style=\"color: #00d7ff; text-decoration-color: #00d7ff\">None</span>, <span style=\"color: #00af00; text-decoration-color: #00af00\">64</span>)                  │               <span style=\"color: #00af00; text-decoration-color: #00af00\">0</span> │\n",
              "├──────────────────────────────────────┼─────────────────────────────┼─────────────────┤\n",
              "│ dense_277 (<span style=\"color: #0087ff; text-decoration-color: #0087ff\">Dense</span>)                    │ (<span style=\"color: #00d7ff; text-decoration-color: #00d7ff\">None</span>, <span style=\"color: #00af00; text-decoration-color: #00af00\">32</span>)                  │           <span style=\"color: #00af00; text-decoration-color: #00af00\">2,080</span> │\n",
              "├──────────────────────────────────────┼─────────────────────────────┼─────────────────┤\n",
              "│ dropout_187 (<span style=\"color: #0087ff; text-decoration-color: #0087ff\">Dropout</span>)                │ (<span style=\"color: #00d7ff; text-decoration-color: #00d7ff\">None</span>, <span style=\"color: #00af00; text-decoration-color: #00af00\">32</span>)                  │               <span style=\"color: #00af00; text-decoration-color: #00af00\">0</span> │\n",
              "├──────────────────────────────────────┼─────────────────────────────┼─────────────────┤\n",
              "│ dense_278 (<span style=\"color: #0087ff; text-decoration-color: #0087ff\">Dense</span>)                    │ (<span style=\"color: #00d7ff; text-decoration-color: #00d7ff\">None</span>, <span style=\"color: #00af00; text-decoration-color: #00af00\">9</span>)                   │             <span style=\"color: #00af00; text-decoration-color: #00af00\">297</span> │\n",
              "└──────────────────────────────────────┴─────────────────────────────┴─────────────────┘\n",
              "</pre>\n"
            ]
          },
          "metadata": {}
        },
        {
          "output_type": "display_data",
          "data": {
            "text/plain": [
              "\u001b[1m Total params: \u001b[0m\u001b[38;5;34m12,553\u001b[0m (49.04 KB)\n"
            ],
            "text/html": [
              "<pre style=\"white-space:pre;overflow-x:auto;line-height:normal;font-family:Menlo,'DejaVu Sans Mono',consolas,'Courier New',monospace\"><span style=\"font-weight: bold\"> Total params: </span><span style=\"color: #00af00; text-decoration-color: #00af00\">12,553</span> (49.04 KB)\n",
              "</pre>\n"
            ]
          },
          "metadata": {}
        },
        {
          "output_type": "display_data",
          "data": {
            "text/plain": [
              "\u001b[1m Trainable params: \u001b[0m\u001b[38;5;34m12,553\u001b[0m (49.04 KB)\n"
            ],
            "text/html": [
              "<pre style=\"white-space:pre;overflow-x:auto;line-height:normal;font-family:Menlo,'DejaVu Sans Mono',consolas,'Courier New',monospace\"><span style=\"font-weight: bold\"> Trainable params: </span><span style=\"color: #00af00; text-decoration-color: #00af00\">12,553</span> (49.04 KB)\n",
              "</pre>\n"
            ]
          },
          "metadata": {}
        },
        {
          "output_type": "display_data",
          "data": {
            "text/plain": [
              "\u001b[1m Non-trainable params: \u001b[0m\u001b[38;5;34m0\u001b[0m (0.00 B)\n"
            ],
            "text/html": [
              "<pre style=\"white-space:pre;overflow-x:auto;line-height:normal;font-family:Menlo,'DejaVu Sans Mono',consolas,'Courier New',monospace\"><span style=\"font-weight: bold\"> Non-trainable params: </span><span style=\"color: #00af00; text-decoration-color: #00af00\">0</span> (0.00 B)\n",
              "</pre>\n"
            ]
          },
          "metadata": {}
        }
      ]
    },
    {
      "cell_type": "code",
      "source": [
        "from tensorflow.keras.callbacks import EarlyStopping\n",
        "\n",
        "early_stopping = EarlyStopping(monitor='val_loss', patience=5, restore_best_weights=True)\n",
        "\n",
        "# Melatih model\n",
        "model.fit(X_train_resampled, y_train_resampled,\n",
        "          epochs=100,\n",
        "          batch_size=32,\n",
        "          validation_data=(X_val_scaled, y_val_encoded),\n",
        "          callbacks=[early_stopping])\n",
        "\n"
      ],
      "metadata": {
        "colab": {
          "base_uri": "https://localhost:8080/"
        },
        "id": "mdrtmRlgQI_V",
        "outputId": "a7309b87-41de-4017-f950-56b9634fea57"
      },
      "execution_count": null,
      "outputs": [
        {
          "output_type": "stream",
          "name": "stdout",
          "text": [
            "Epoch 1/100\n",
            "\u001b[1m72/72\u001b[0m \u001b[32m━━━━━━━━━━━━━━━━━━━━\u001b[0m\u001b[37m\u001b[0m \u001b[1m3s\u001b[0m 4ms/step - accuracy: 0.1397 - loss: 2.2559 - val_accuracy: 0.3594 - val_loss: 2.1019\n",
            "Epoch 2/100\n",
            "\u001b[1m72/72\u001b[0m \u001b[32m━━━━━━━━━━━━━━━━━━━━\u001b[0m\u001b[37m\u001b[0m \u001b[1m0s\u001b[0m 2ms/step - accuracy: 0.2490 - loss: 2.0778 - val_accuracy: 0.4375 - val_loss: 1.9844\n",
            "Epoch 3/100\n",
            "\u001b[1m72/72\u001b[0m \u001b[32m━━━━━━━━━━━━━━━━━━━━\u001b[0m\u001b[37m\u001b[0m \u001b[1m0s\u001b[0m 2ms/step - accuracy: 0.3311 - loss: 1.8995 - val_accuracy: 0.5469 - val_loss: 1.7789\n",
            "Epoch 4/100\n",
            "\u001b[1m72/72\u001b[0m \u001b[32m━━━━━━━━━━━━━━━━━━━━\u001b[0m\u001b[37m\u001b[0m \u001b[1m0s\u001b[0m 2ms/step - accuracy: 0.4059 - loss: 1.7195 - val_accuracy: 0.6328 - val_loss: 1.6015\n",
            "Epoch 5/100\n",
            "\u001b[1m72/72\u001b[0m \u001b[32m━━━━━━━━━━━━━━━━━━━━\u001b[0m\u001b[37m\u001b[0m \u001b[1m0s\u001b[0m 2ms/step - accuracy: 0.4563 - loss: 1.6248 - val_accuracy: 0.6719 - val_loss: 1.4633\n",
            "Epoch 6/100\n",
            "\u001b[1m72/72\u001b[0m \u001b[32m━━━━━━━━━━━━━━━━━━━━\u001b[0m\u001b[37m\u001b[0m \u001b[1m0s\u001b[0m 2ms/step - accuracy: 0.5057 - loss: 1.4764 - val_accuracy: 0.7188 - val_loss: 1.3285\n",
            "Epoch 7/100\n",
            "\u001b[1m72/72\u001b[0m \u001b[32m━━━━━━━━━━━━━━━━━━━━\u001b[0m\u001b[37m\u001b[0m \u001b[1m0s\u001b[0m 2ms/step - accuracy: 0.5183 - loss: 1.4205 - val_accuracy: 0.7031 - val_loss: 1.2378\n",
            "Epoch 8/100\n",
            "\u001b[1m72/72\u001b[0m \u001b[32m━━━━━━━━━━━━━━━━━━━━\u001b[0m\u001b[37m\u001b[0m \u001b[1m0s\u001b[0m 2ms/step - accuracy: 0.5878 - loss: 1.3292 - val_accuracy: 0.7031 - val_loss: 1.1526\n",
            "Epoch 9/100\n",
            "\u001b[1m72/72\u001b[0m \u001b[32m━━━━━━━━━━━━━━━━━━━━\u001b[0m\u001b[37m\u001b[0m \u001b[1m0s\u001b[0m 2ms/step - accuracy: 0.5863 - loss: 1.2604 - val_accuracy: 0.7422 - val_loss: 1.0765\n",
            "Epoch 10/100\n",
            "\u001b[1m72/72\u001b[0m \u001b[32m━━━━━━━━━━━━━━━━━━━━\u001b[0m\u001b[37m\u001b[0m \u001b[1m0s\u001b[0m 2ms/step - accuracy: 0.6103 - loss: 1.1438 - val_accuracy: 0.7188 - val_loss: 1.0156\n",
            "Epoch 11/100\n",
            "\u001b[1m72/72\u001b[0m \u001b[32m━━━━━━━━━━━━━━━━━━━━\u001b[0m\u001b[37m\u001b[0m \u001b[1m0s\u001b[0m 3ms/step - accuracy: 0.6382 - loss: 1.1088 - val_accuracy: 0.7578 - val_loss: 0.9581\n",
            "Epoch 12/100\n",
            "\u001b[1m72/72\u001b[0m \u001b[32m━━━━━━━━━━━━━━━━━━━━\u001b[0m\u001b[37m\u001b[0m \u001b[1m0s\u001b[0m 4ms/step - accuracy: 0.6515 - loss: 1.1671 - val_accuracy: 0.7500 - val_loss: 0.9069\n",
            "Epoch 13/100\n",
            "\u001b[1m72/72\u001b[0m \u001b[32m━━━━━━━━━━━━━━━━━━━━\u001b[0m\u001b[37m\u001b[0m \u001b[1m1s\u001b[0m 4ms/step - accuracy: 0.6444 - loss: 1.1046 - val_accuracy: 0.7422 - val_loss: 0.8818\n",
            "Epoch 14/100\n",
            "\u001b[1m72/72\u001b[0m \u001b[32m━━━━━━━━━━━━━━━━━━━━\u001b[0m\u001b[37m\u001b[0m \u001b[1m0s\u001b[0m 4ms/step - accuracy: 0.6571 - loss: 1.0317 - val_accuracy: 0.7578 - val_loss: 0.8320\n",
            "Epoch 15/100\n",
            "\u001b[1m72/72\u001b[0m \u001b[32m━━━━━━━━━━━━━━━━━━━━\u001b[0m\u001b[37m\u001b[0m \u001b[1m0s\u001b[0m 3ms/step - accuracy: 0.6903 - loss: 0.9680 - val_accuracy: 0.7656 - val_loss: 0.8030\n",
            "Epoch 16/100\n",
            "\u001b[1m72/72\u001b[0m \u001b[32m━━━━━━━━━━━━━━━━━━━━\u001b[0m\u001b[37m\u001b[0m \u001b[1m0s\u001b[0m 3ms/step - accuracy: 0.7035 - loss: 0.9304 - val_accuracy: 0.7969 - val_loss: 0.7717\n",
            "Epoch 17/100\n",
            "\u001b[1m72/72\u001b[0m \u001b[32m━━━━━━━━━━━━━━━━━━━━\u001b[0m\u001b[37m\u001b[0m \u001b[1m0s\u001b[0m 4ms/step - accuracy: 0.7100 - loss: 0.9075 - val_accuracy: 0.7812 - val_loss: 0.7646\n",
            "Epoch 18/100\n",
            "\u001b[1m72/72\u001b[0m \u001b[32m━━━━━━━━━━━━━━━━━━━━\u001b[0m\u001b[37m\u001b[0m \u001b[1m1s\u001b[0m 3ms/step - accuracy: 0.7143 - loss: 0.8872 - val_accuracy: 0.7656 - val_loss: 0.7308\n",
            "Epoch 19/100\n",
            "\u001b[1m72/72\u001b[0m \u001b[32m━━━━━━━━━━━━━━━━━━━━\u001b[0m\u001b[37m\u001b[0m \u001b[1m0s\u001b[0m 4ms/step - accuracy: 0.7254 - loss: 0.8662 - val_accuracy: 0.7969 - val_loss: 0.7055\n",
            "Epoch 20/100\n",
            "\u001b[1m72/72\u001b[0m \u001b[32m━━━━━━━━━━━━━━━━━━━━\u001b[0m\u001b[37m\u001b[0m \u001b[1m1s\u001b[0m 4ms/step - accuracy: 0.7416 - loss: 0.8508 - val_accuracy: 0.7578 - val_loss: 0.7198\n",
            "Epoch 21/100\n",
            "\u001b[1m72/72\u001b[0m \u001b[32m━━━━━━━━━━━━━━━━━━━━\u001b[0m\u001b[37m\u001b[0m \u001b[1m0s\u001b[0m 2ms/step - accuracy: 0.7358 - loss: 0.8151 - val_accuracy: 0.8047 - val_loss: 0.6757\n",
            "Epoch 22/100\n",
            "\u001b[1m72/72\u001b[0m \u001b[32m━━━━━━━━━━━━━━━━━━━━\u001b[0m\u001b[37m\u001b[0m \u001b[1m0s\u001b[0m 2ms/step - accuracy: 0.7322 - loss: 0.8764 - val_accuracy: 0.7734 - val_loss: 0.6719\n",
            "Epoch 23/100\n",
            "\u001b[1m72/72\u001b[0m \u001b[32m━━━━━━━━━━━━━━━━━━━━\u001b[0m\u001b[37m\u001b[0m \u001b[1m0s\u001b[0m 2ms/step - accuracy: 0.7432 - loss: 0.7856 - val_accuracy: 0.8047 - val_loss: 0.6506\n",
            "Epoch 24/100\n",
            "\u001b[1m72/72\u001b[0m \u001b[32m━━━━━━━━━━━━━━━━━━━━\u001b[0m\u001b[37m\u001b[0m \u001b[1m0s\u001b[0m 2ms/step - accuracy: 0.7479 - loss: 0.7491 - val_accuracy: 0.7891 - val_loss: 0.6322\n",
            "Epoch 25/100\n",
            "\u001b[1m72/72\u001b[0m \u001b[32m━━━━━━━━━━━━━━━━━━━━\u001b[0m\u001b[37m\u001b[0m \u001b[1m0s\u001b[0m 2ms/step - accuracy: 0.7625 - loss: 0.7183 - val_accuracy: 0.8047 - val_loss: 0.6123\n",
            "Epoch 26/100\n",
            "\u001b[1m72/72\u001b[0m \u001b[32m━━━━━━━━━━━━━━━━━━━━\u001b[0m\u001b[37m\u001b[0m \u001b[1m0s\u001b[0m 2ms/step - accuracy: 0.7657 - loss: 0.7375 - val_accuracy: 0.8047 - val_loss: 0.5988\n",
            "Epoch 27/100\n",
            "\u001b[1m72/72\u001b[0m \u001b[32m━━━━━━━━━━━━━━━━━━━━\u001b[0m\u001b[37m\u001b[0m \u001b[1m0s\u001b[0m 2ms/step - accuracy: 0.7773 - loss: 0.6609 - val_accuracy: 0.7812 - val_loss: 0.6007\n",
            "Epoch 28/100\n",
            "\u001b[1m72/72\u001b[0m \u001b[32m━━━━━━━━━━━━━━━━━━━━\u001b[0m\u001b[37m\u001b[0m \u001b[1m0s\u001b[0m 2ms/step - accuracy: 0.7614 - loss: 0.7412 - val_accuracy: 0.7969 - val_loss: 0.5921\n",
            "Epoch 29/100\n",
            "\u001b[1m72/72\u001b[0m \u001b[32m━━━━━━━━━━━━━━━━━━━━\u001b[0m\u001b[37m\u001b[0m \u001b[1m0s\u001b[0m 2ms/step - accuracy: 0.7876 - loss: 0.7202 - val_accuracy: 0.7891 - val_loss: 0.5798\n",
            "Epoch 30/100\n",
            "\u001b[1m72/72\u001b[0m \u001b[32m━━━━━━━━━━━━━━━━━━━━\u001b[0m\u001b[37m\u001b[0m \u001b[1m0s\u001b[0m 2ms/step - accuracy: 0.7869 - loss: 0.6900 - val_accuracy: 0.7969 - val_loss: 0.6155\n",
            "Epoch 31/100\n",
            "\u001b[1m72/72\u001b[0m \u001b[32m━━━━━━━━━━━━━━━━━━━━\u001b[0m\u001b[37m\u001b[0m \u001b[1m0s\u001b[0m 2ms/step - accuracy: 0.7868 - loss: 0.6715 - val_accuracy: 0.7812 - val_loss: 0.5713\n",
            "Epoch 32/100\n",
            "\u001b[1m72/72\u001b[0m \u001b[32m━━━━━━━━━━━━━━━━━━━━\u001b[0m\u001b[37m\u001b[0m \u001b[1m0s\u001b[0m 2ms/step - accuracy: 0.7793 - loss: 0.6718 - val_accuracy: 0.7734 - val_loss: 0.5676\n",
            "Epoch 33/100\n",
            "\u001b[1m72/72\u001b[0m \u001b[32m━━━━━━━━━━━━━━━━━━━━\u001b[0m\u001b[37m\u001b[0m \u001b[1m0s\u001b[0m 2ms/step - accuracy: 0.7926 - loss: 0.7558 - val_accuracy: 0.7891 - val_loss: 0.5499\n",
            "Epoch 34/100\n",
            "\u001b[1m72/72\u001b[0m \u001b[32m━━━━━━━━━━━━━━━━━━━━\u001b[0m\u001b[37m\u001b[0m \u001b[1m0s\u001b[0m 2ms/step - accuracy: 0.8026 - loss: 0.6769 - val_accuracy: 0.8281 - val_loss: 0.5213\n",
            "Epoch 35/100\n",
            "\u001b[1m72/72\u001b[0m \u001b[32m━━━━━━━━━━━━━━━━━━━━\u001b[0m\u001b[37m\u001b[0m \u001b[1m0s\u001b[0m 3ms/step - accuracy: 0.8026 - loss: 0.6377 - val_accuracy: 0.8125 - val_loss: 0.5373\n",
            "Epoch 36/100\n",
            "\u001b[1m72/72\u001b[0m \u001b[32m━━━━━━━━━━━━━━━━━━━━\u001b[0m\u001b[37m\u001b[0m \u001b[1m0s\u001b[0m 2ms/step - accuracy: 0.7644 - loss: 0.6959 - val_accuracy: 0.8047 - val_loss: 0.5398\n",
            "Epoch 37/100\n",
            "\u001b[1m72/72\u001b[0m \u001b[32m━━━━━━━━━━━━━━━━━━━━\u001b[0m\u001b[37m\u001b[0m \u001b[1m0s\u001b[0m 2ms/step - accuracy: 0.8074 - loss: 0.6051 - val_accuracy: 0.8281 - val_loss: 0.5195\n",
            "Epoch 38/100\n",
            "\u001b[1m72/72\u001b[0m \u001b[32m━━━━━━━━━━━━━━━━━━━━\u001b[0m\u001b[37m\u001b[0m \u001b[1m0s\u001b[0m 3ms/step - accuracy: 0.8115 - loss: 0.6315 - val_accuracy: 0.8203 - val_loss: 0.5037\n",
            "Epoch 39/100\n",
            "\u001b[1m72/72\u001b[0m \u001b[32m━━━━━━━━━━━━━━━━━━━━\u001b[0m\u001b[37m\u001b[0m \u001b[1m0s\u001b[0m 2ms/step - accuracy: 0.8067 - loss: 0.6186 - val_accuracy: 0.8125 - val_loss: 0.5120\n",
            "Epoch 40/100\n",
            "\u001b[1m72/72\u001b[0m \u001b[32m━━━━━━━━━━━━━━━━━━━━\u001b[0m\u001b[37m\u001b[0m \u001b[1m0s\u001b[0m 2ms/step - accuracy: 0.8101 - loss: 0.5971 - val_accuracy: 0.8359 - val_loss: 0.4693\n",
            "Epoch 41/100\n",
            "\u001b[1m72/72\u001b[0m \u001b[32m━━━━━━━━━━━━━━━━━━━━\u001b[0m\u001b[37m\u001b[0m \u001b[1m0s\u001b[0m 2ms/step - accuracy: 0.8188 - loss: 0.5740 - val_accuracy: 0.8125 - val_loss: 0.4758\n",
            "Epoch 42/100\n",
            "\u001b[1m72/72\u001b[0m \u001b[32m━━━━━━━━━━━━━━━━━━━━\u001b[0m\u001b[37m\u001b[0m \u001b[1m0s\u001b[0m 3ms/step - accuracy: 0.8281 - loss: 0.5710 - val_accuracy: 0.8125 - val_loss: 0.5016\n",
            "Epoch 43/100\n",
            "\u001b[1m72/72\u001b[0m \u001b[32m━━━━━━━━━━━━━━━━━━━━\u001b[0m\u001b[37m\u001b[0m \u001b[1m0s\u001b[0m 2ms/step - accuracy: 0.8094 - loss: 0.6090 - val_accuracy: 0.8203 - val_loss: 0.4873\n",
            "Epoch 44/100\n",
            "\u001b[1m72/72\u001b[0m \u001b[32m━━━━━━━━━━━━━━━━━━━━\u001b[0m\u001b[37m\u001b[0m \u001b[1m0s\u001b[0m 2ms/step - accuracy: 0.8271 - loss: 0.5670 - val_accuracy: 0.8125 - val_loss: 0.4595\n",
            "Epoch 45/100\n",
            "\u001b[1m72/72\u001b[0m \u001b[32m━━━━━━━━━━━━━━━━━━━━\u001b[0m\u001b[37m\u001b[0m \u001b[1m0s\u001b[0m 2ms/step - accuracy: 0.8054 - loss: 0.5732 - val_accuracy: 0.8281 - val_loss: 0.4398\n",
            "Epoch 46/100\n",
            "\u001b[1m72/72\u001b[0m \u001b[32m━━━━━━━━━━━━━━━━━━━━\u001b[0m\u001b[37m\u001b[0m \u001b[1m0s\u001b[0m 3ms/step - accuracy: 0.8168 - loss: 0.5543 - val_accuracy: 0.8125 - val_loss: 0.4593\n",
            "Epoch 47/100\n",
            "\u001b[1m72/72\u001b[0m \u001b[32m━━━━━━━━━━━━━━━━━━━━\u001b[0m\u001b[37m\u001b[0m \u001b[1m0s\u001b[0m 2ms/step - accuracy: 0.8211 - loss: 0.5636 - val_accuracy: 0.8281 - val_loss: 0.4540\n",
            "Epoch 48/100\n",
            "\u001b[1m72/72\u001b[0m \u001b[32m━━━━━━━━━━━━━━━━━━━━\u001b[0m\u001b[37m\u001b[0m \u001b[1m0s\u001b[0m 2ms/step - accuracy: 0.8310 - loss: 0.5591 - val_accuracy: 0.8125 - val_loss: 0.4429\n",
            "Epoch 49/100\n",
            "\u001b[1m72/72\u001b[0m \u001b[32m━━━━━━━━━━━━━━━━━━━━\u001b[0m\u001b[37m\u001b[0m \u001b[1m0s\u001b[0m 2ms/step - accuracy: 0.8316 - loss: 0.5493 - val_accuracy: 0.8281 - val_loss: 0.4496\n",
            "Epoch 50/100\n",
            "\u001b[1m72/72\u001b[0m \u001b[32m━━━━━━━━━━━━━━━━━━━━\u001b[0m\u001b[37m\u001b[0m \u001b[1m0s\u001b[0m 3ms/step - accuracy: 0.8431 - loss: 0.5219 - val_accuracy: 0.8281 - val_loss: 0.4344\n",
            "Epoch 51/100\n",
            "\u001b[1m72/72\u001b[0m \u001b[32m━━━━━━━━━━━━━━━━━━━━\u001b[0m\u001b[37m\u001b[0m \u001b[1m0s\u001b[0m 2ms/step - accuracy: 0.8544 - loss: 0.5036 - val_accuracy: 0.8203 - val_loss: 0.4273\n",
            "Epoch 52/100\n",
            "\u001b[1m72/72\u001b[0m \u001b[32m━━━━━━━━━━━━━━━━━━━━\u001b[0m\u001b[37m\u001b[0m \u001b[1m0s\u001b[0m 2ms/step - accuracy: 0.8298 - loss: 0.5540 - val_accuracy: 0.8203 - val_loss: 0.4344\n",
            "Epoch 53/100\n",
            "\u001b[1m72/72\u001b[0m \u001b[32m━━━━━━━━━━━━━━━━━━━━\u001b[0m\u001b[37m\u001b[0m \u001b[1m0s\u001b[0m 2ms/step - accuracy: 0.8491 - loss: 0.4655 - val_accuracy: 0.8203 - val_loss: 0.4385\n",
            "Epoch 54/100\n",
            "\u001b[1m72/72\u001b[0m \u001b[32m━━━━━━━━━━━━━━━━━━━━\u001b[0m\u001b[37m\u001b[0m \u001b[1m0s\u001b[0m 2ms/step - accuracy: 0.8301 - loss: 0.5206 - val_accuracy: 0.8672 - val_loss: 0.3945\n",
            "Epoch 55/100\n",
            "\u001b[1m72/72\u001b[0m \u001b[32m━━━━━━━━━━━━━━━━━━━━\u001b[0m\u001b[37m\u001b[0m \u001b[1m0s\u001b[0m 2ms/step - accuracy: 0.8359 - loss: 0.5383 - val_accuracy: 0.8359 - val_loss: 0.4363\n",
            "Epoch 56/100\n",
            "\u001b[1m72/72\u001b[0m \u001b[32m━━━━━━━━━━━━━━━━━━━━\u001b[0m\u001b[37m\u001b[0m \u001b[1m0s\u001b[0m 2ms/step - accuracy: 0.8334 - loss: 0.5375 - val_accuracy: 0.8594 - val_loss: 0.3968\n",
            "Epoch 57/100\n",
            "\u001b[1m72/72\u001b[0m \u001b[32m━━━━━━━━━━━━━━━━━━━━\u001b[0m\u001b[37m\u001b[0m \u001b[1m0s\u001b[0m 2ms/step - accuracy: 0.8513 - loss: 0.4909 - val_accuracy: 0.8281 - val_loss: 0.4266\n",
            "Epoch 58/100\n",
            "\u001b[1m72/72\u001b[0m \u001b[32m━━━━━━━━━━━━━━━━━━━━\u001b[0m\u001b[37m\u001b[0m \u001b[1m0s\u001b[0m 2ms/step - accuracy: 0.8472 - loss: 0.4923 - val_accuracy: 0.8359 - val_loss: 0.3967\n",
            "Epoch 59/100\n",
            "\u001b[1m72/72\u001b[0m \u001b[32m━━━━━━━━━━━━━━━━━━━━\u001b[0m\u001b[37m\u001b[0m \u001b[1m0s\u001b[0m 2ms/step - accuracy: 0.8462 - loss: 0.4953 - val_accuracy: 0.8516 - val_loss: 0.3902\n",
            "Epoch 60/100\n",
            "\u001b[1m72/72\u001b[0m \u001b[32m━━━━━━━━━━━━━━━━━━━━\u001b[0m\u001b[37m\u001b[0m \u001b[1m0s\u001b[0m 2ms/step - accuracy: 0.8629 - loss: 0.4650 - val_accuracy: 0.8438 - val_loss: 0.3731\n",
            "Epoch 61/100\n",
            "\u001b[1m72/72\u001b[0m \u001b[32m━━━━━━━━━━━━━━━━━━━━\u001b[0m\u001b[37m\u001b[0m \u001b[1m0s\u001b[0m 2ms/step - accuracy: 0.8686 - loss: 0.4550 - val_accuracy: 0.8516 - val_loss: 0.3834\n",
            "Epoch 62/100\n",
            "\u001b[1m72/72\u001b[0m \u001b[32m━━━━━━━━━━━━━━━━━━━━\u001b[0m\u001b[37m\u001b[0m \u001b[1m0s\u001b[0m 3ms/step - accuracy: 0.8388 - loss: 0.4638 - val_accuracy: 0.8438 - val_loss: 0.3507\n",
            "Epoch 63/100\n",
            "\u001b[1m72/72\u001b[0m \u001b[32m━━━━━━━━━━━━━━━━━━━━\u001b[0m\u001b[37m\u001b[0m \u001b[1m0s\u001b[0m 4ms/step - accuracy: 0.8543 - loss: 0.4476 - val_accuracy: 0.8594 - val_loss: 0.3736\n",
            "Epoch 64/100\n",
            "\u001b[1m72/72\u001b[0m \u001b[32m━━━━━━━━━━━━━━━━━━━━\u001b[0m\u001b[37m\u001b[0m \u001b[1m1s\u001b[0m 3ms/step - accuracy: 0.8603 - loss: 0.4527 - val_accuracy: 0.8594 - val_loss: 0.3560\n",
            "Epoch 65/100\n",
            "\u001b[1m72/72\u001b[0m \u001b[32m━━━━━━━━━━━━━━━━━━━━\u001b[0m\u001b[37m\u001b[0m \u001b[1m0s\u001b[0m 4ms/step - accuracy: 0.8604 - loss: 0.4801 - val_accuracy: 0.8750 - val_loss: 0.3438\n",
            "Epoch 66/100\n",
            "\u001b[1m72/72\u001b[0m \u001b[32m━━━━━━━━━━━━━━━━━━━━\u001b[0m\u001b[37m\u001b[0m \u001b[1m0s\u001b[0m 3ms/step - accuracy: 0.8725 - loss: 0.4319 - val_accuracy: 0.8672 - val_loss: 0.3460\n",
            "Epoch 67/100\n",
            "\u001b[1m72/72\u001b[0m \u001b[32m━━━━━━━━━━━━━━━━━━━━\u001b[0m\u001b[37m\u001b[0m \u001b[1m0s\u001b[0m 3ms/step - accuracy: 0.8658 - loss: 0.4354 - val_accuracy: 0.8594 - val_loss: 0.3266\n",
            "Epoch 68/100\n",
            "\u001b[1m72/72\u001b[0m \u001b[32m━━━━━━━━━━━━━━━━━━━━\u001b[0m\u001b[37m\u001b[0m \u001b[1m0s\u001b[0m 3ms/step - accuracy: 0.8643 - loss: 0.4387 - val_accuracy: 0.8594 - val_loss: 0.3567\n",
            "Epoch 69/100\n",
            "\u001b[1m72/72\u001b[0m \u001b[32m━━━━━━━━━━━━━━━━━━━━\u001b[0m\u001b[37m\u001b[0m \u001b[1m0s\u001b[0m 3ms/step - accuracy: 0.8705 - loss: 0.4258 - val_accuracy: 0.8750 - val_loss: 0.3295\n",
            "Epoch 70/100\n",
            "\u001b[1m72/72\u001b[0m \u001b[32m━━━━━━━━━━━━━━━━━━━━\u001b[0m\u001b[37m\u001b[0m \u001b[1m0s\u001b[0m 3ms/step - accuracy: 0.8683 - loss: 0.4214 - val_accuracy: 0.8750 - val_loss: 0.3456\n",
            "Epoch 71/100\n",
            "\u001b[1m72/72\u001b[0m \u001b[32m━━━━━━━━━━━━━━━━━━━━\u001b[0m\u001b[37m\u001b[0m \u001b[1m0s\u001b[0m 3ms/step - accuracy: 0.8914 - loss: 0.3942 - val_accuracy: 0.8750 - val_loss: 0.3416\n",
            "Epoch 72/100\n",
            "\u001b[1m72/72\u001b[0m \u001b[32m━━━━━━━━━━━━━━━━━━━━\u001b[0m\u001b[37m\u001b[0m \u001b[1m0s\u001b[0m 4ms/step - accuracy: 0.8876 - loss: 0.3976 - val_accuracy: 0.8672 - val_loss: 0.3400\n"
          ]
        },
        {
          "output_type": "execute_result",
          "data": {
            "text/plain": [
              "<keras.src.callbacks.history.History at 0x7a689b864a60>"
            ]
          },
          "metadata": {},
          "execution_count": 270
        }
      ]
    },
    {
      "cell_type": "code",
      "source": [
        "# Evaluasi model\n",
        "test_loss, test_accuracy = model.evaluate(X_test_scaled, y_test_encoded)\n",
        "print(f\"Test Loss: {test_loss}, Test Accuracy: {test_accuracy}\")\n"
      ],
      "metadata": {
        "colab": {
          "base_uri": "https://localhost:8080/"
        },
        "id": "M77RoU-cQQbb",
        "outputId": "cf6af7db-18a2-4f6a-ef77-d751075c72e2"
      },
      "execution_count": null,
      "outputs": [
        {
          "output_type": "stream",
          "name": "stdout",
          "text": [
            "\u001b[1m5/5\u001b[0m \u001b[32m━━━━━━━━━━━━━━━━━━━━\u001b[0m\u001b[37m\u001b[0m \u001b[1m0s\u001b[0m 3ms/step - accuracy: 0.7740 - loss: 0.6048  \n",
            "Test Loss: 0.6055922508239746, Test Accuracy: 0.7984496355056763\n"
          ]
        }
      ]
    },
    {
      "cell_type": "code",
      "source": [
        "from sklearn.metrics import classification_report, confusion_matrix\n",
        "import numpy as np\n",
        "\n",
        "# Prediksi pada data test\n",
        "y_pred = model.predict(test_dataset)\n",
        "y_pred_classes = np.argmax(y_pred, axis=1)  # Ambil kelas dengan probabilitas tertinggi\n",
        "\n",
        "# Convert y_test_encoded ke bentuk array\n",
        "y_test_true = np.concatenate([y for x, y in test_dataset], axis=0)\n",
        "\n",
        "# Confusion Matrix\n",
        "cm = confusion_matrix(y_test_true, y_pred_classes)\n",
        "print('Confusion Matrix:')\n",
        "print(cm)\n",
        "\n",
        "# Classification Report\n",
        "report = classification_report(y_test_true, y_pred_classes, target_names=label_encoder.classes_)\n",
        "print('Classification Report:')\n",
        "print(report)\n"
      ],
      "metadata": {
        "colab": {
          "base_uri": "https://localhost:8080/"
        },
        "id": "lkO0cPrAQhx-",
        "outputId": "6880169c-d4d9-42c1-c2bf-6b759aafa5c5"
      },
      "execution_count": null,
      "outputs": [
        {
          "output_type": "stream",
          "name": "stdout",
          "text": [
            "\u001b[1m5/5\u001b[0m \u001b[32m━━━━━━━━━━━━━━━━━━━━\u001b[0m\u001b[37m\u001b[0m \u001b[1m0s\u001b[0m 14ms/step\n",
            "Confusion Matrix:\n",
            "[[39  2  0  0  0  0  2  0  1]\n",
            " [ 0 17  0  0  0  1  0  1  0]\n",
            " [ 1  0  3  0  0  0  0  0  0]\n",
            " [ 0  0  1  2  0  0  0  0  0]\n",
            " [ 0  0  0  0  0  0  0  0  0]\n",
            " [ 3  2  0  0  2 17  1  3  0]\n",
            " [ 0  0  0  1  1  3 14  0  0]\n",
            " [ 0  0  1  0  0  0  0  3  0]\n",
            " [ 0  0  0  0  0  0  0  0  8]]\n",
            "Classification Report:\n",
            "                                precision    recall  f1-score   support\n",
            "\n",
            "                       Healthy       0.91      0.89      0.90        44\n",
            "        Iron deficiency anemia       0.81      0.89      0.85        19\n",
            "                      Leukemia       0.60      0.75      0.67         4\n",
            "Leukemia with thrombocytopenia       0.67      0.67      0.67         3\n",
            "             Macrocytic anemia       0.00      0.00      0.00         0\n",
            " Normocytic hypochromic anemia       0.81      0.61      0.69        28\n",
            "Normocytic normochromic anemia       0.82      0.74      0.78        19\n",
            "       Other microcytic anemia       0.43      0.75      0.55         4\n",
            "              Thrombocytopenia       0.89      1.00      0.94         8\n",
            "\n",
            "                      accuracy                           0.80       129\n",
            "                     macro avg       0.66      0.70      0.67       129\n",
            "                  weighted avg       0.83      0.80      0.81       129\n",
            "\n"
          ]
        },
        {
          "output_type": "stream",
          "name": "stderr",
          "text": [
            "/usr/local/lib/python3.10/dist-packages/sklearn/metrics/_classification.py:1531: UndefinedMetricWarning: Recall is ill-defined and being set to 0.0 in labels with no true samples. Use `zero_division` parameter to control this behavior.\n",
            "  _warn_prf(average, modifier, f\"{metric.capitalize()} is\", len(result))\n",
            "/usr/local/lib/python3.10/dist-packages/sklearn/metrics/_classification.py:1531: UndefinedMetricWarning: Recall is ill-defined and being set to 0.0 in labels with no true samples. Use `zero_division` parameter to control this behavior.\n",
            "  _warn_prf(average, modifier, f\"{metric.capitalize()} is\", len(result))\n",
            "/usr/local/lib/python3.10/dist-packages/sklearn/metrics/_classification.py:1531: UndefinedMetricWarning: Recall is ill-defined and being set to 0.0 in labels with no true samples. Use `zero_division` parameter to control this behavior.\n",
            "  _warn_prf(average, modifier, f\"{metric.capitalize()} is\", len(result))\n"
          ]
        }
      ]
    },
    {
      "cell_type": "markdown",
      "source": [
        "## Model Prediction"
      ],
      "metadata": {
        "id": "SrgidBn2v6T6"
      }
    },
    {
      "cell_type": "code",
      "source": [
        "# prediksi\n",
        "\n",
        "input_list = [7.04013314, 26.40465422, 71.83098941, 1.81192925, 4.9590166, 4.66833758,\n",
        "              5.70866842, 182.13405676, 84.93527652, 15.61875771,\n",
        "              20.4905213, 140.31264139, 10.32501175, 0.21364748]\n",
        "\n",
        "input_array = np.array(input_list)\n",
        "input_array = input_array.reshape(1, -1) # mengubah bentuk nya ke array 2D\n",
        "\n",
        "input_scaled = sc.transform(input_array) # normalisasi data menggunakan scaler\n",
        "output_model = model.predict(input_scaled)\n",
        "\n",
        "predicted_label = np.argmax(output_model, axis=1) # indeks tertinggi\n",
        "\n",
        "print(\"Output Model:\", output_model)\n",
        "print(\"Predicted label:\", predicted_label)\n",
        "print(label_encoder.classes_[predicted_label])"
      ],
      "metadata": {
        "colab": {
          "base_uri": "https://localhost:8080/"
        },
        "id": "tZym55YYv8mG",
        "outputId": "f631f366-b55e-40d1-86a2-fb63c210f2f1"
      },
      "execution_count": null,
      "outputs": [
        {
          "output_type": "stream",
          "name": "stdout",
          "text": [
            "\u001b[1m1/1\u001b[0m \u001b[32m━━━━━━━━━━━━━━━━━━━━\u001b[0m\u001b[37m\u001b[0m \u001b[1m0s\u001b[0m 89ms/step\n",
            "Output Model: [[4.1136625e-15 9.7794972e-02 2.8950200e-14 6.4374024e-22 4.9630185e-11\n",
            "  9.0220505e-01 6.2077492e-13 5.0991535e-13 3.0154850e-12]]\n",
            "Predicted label: [5]\n",
            "['Normocytic hypochromic anemia']\n"
          ]
        },
        {
          "output_type": "stream",
          "name": "stderr",
          "text": [
            "/usr/local/lib/python3.10/dist-packages/sklearn/base.py:493: UserWarning: X does not have valid feature names, but StandardScaler was fitted with feature names\n",
            "  warnings.warn(\n"
          ]
        }
      ]
    },
    {
      "cell_type": "code",
      "source": [
        "# Prediction on test dataset\n",
        "predictions = model.predict(test_dataset)\n",
        "\n",
        "# mengambil nilai probabilitas tertinggi\n",
        "predicted_classes = tf.argmax(predictions, axis=1)\n",
        "\n",
        "# Mengonversi label prediksi ke label asli\n",
        "predicted_labels = label_encoder.inverse_transform(predicted_classes)\n",
        "\n",
        "# Mengambil nilai aktual (label asli) dari test dataset\n",
        "y_true = y_test_encoded\n",
        "\n",
        "# Mengonversi nilai aktual ke label asli\n",
        "actual_labels = label_encoder.inverse_transform(y_test_encoded)\n",
        "\n",
        "# Membuat DataFrame untuk membandingkan nilai aktual dan prediksi\n",
        "comparison_df = pd.DataFrame({\n",
        "    'Actual': actual_labels,\n",
        "    'Predicted': predicted_labels\n",
        "})\n",
        "\n",
        "random_sample_df = comparison_df.sample(10).reset_index(drop=True)\n",
        "\n",
        "# Membuat fungsi untuk rata kiri tampilan\n",
        "def left_align(s):\n",
        "    return ['text-align: left' for _ in s]\n",
        "\n",
        "# Mengatur tampilan DataFrame dengan rata kiri\n",
        "style_df = random_sample_df.style.apply(left_align, axis=1).set_table_styles(\n",
        "    [{'selector': 'th', 'props': [('text-align', 'left')]}]\n",
        ")\n",
        "\n",
        "# Menampilkan DataFrame dengan styler jika dalam notebook\n",
        "style_df"
      ],
      "metadata": {
        "id": "bbQ3cloWPjG8",
        "colab": {
          "base_uri": "https://localhost:8080/",
          "height": 381
        },
        "outputId": "7da9c5b8-076f-47f5-b195-ae5b32eb2874"
      },
      "execution_count": null,
      "outputs": [
        {
          "output_type": "stream",
          "name": "stdout",
          "text": [
            "\u001b[1m5/5\u001b[0m \u001b[32m━━━━━━━━━━━━━━━━━━━━\u001b[0m\u001b[37m\u001b[0m \u001b[1m0s\u001b[0m 7ms/step\n"
          ]
        },
        {
          "output_type": "execute_result",
          "data": {
            "text/plain": [
              "<pandas.io.formats.style.Styler at 0x7a689b9e4ee0>"
            ],
            "text/html": [
              "<style type=\"text/css\">\n",
              "#T_f0e7f th {\n",
              "  text-align: left;\n",
              "}\n",
              "#T_f0e7f_row0_col0, #T_f0e7f_row0_col1, #T_f0e7f_row1_col0, #T_f0e7f_row1_col1, #T_f0e7f_row2_col0, #T_f0e7f_row2_col1, #T_f0e7f_row3_col0, #T_f0e7f_row3_col1, #T_f0e7f_row4_col0, #T_f0e7f_row4_col1, #T_f0e7f_row5_col0, #T_f0e7f_row5_col1, #T_f0e7f_row6_col0, #T_f0e7f_row6_col1, #T_f0e7f_row7_col0, #T_f0e7f_row7_col1, #T_f0e7f_row8_col0, #T_f0e7f_row8_col1, #T_f0e7f_row9_col0, #T_f0e7f_row9_col1 {\n",
              "  text-align: left;\n",
              "}\n",
              "</style>\n",
              "<table id=\"T_f0e7f\" class=\"dataframe\">\n",
              "  <thead>\n",
              "    <tr>\n",
              "      <th class=\"blank level0\" >&nbsp;</th>\n",
              "      <th id=\"T_f0e7f_level0_col0\" class=\"col_heading level0 col0\" >Actual</th>\n",
              "      <th id=\"T_f0e7f_level0_col1\" class=\"col_heading level0 col1\" >Predicted</th>\n",
              "    </tr>\n",
              "  </thead>\n",
              "  <tbody>\n",
              "    <tr>\n",
              "      <th id=\"T_f0e7f_level0_row0\" class=\"row_heading level0 row0\" >0</th>\n",
              "      <td id=\"T_f0e7f_row0_col0\" class=\"data row0 col0\" >Healthy</td>\n",
              "      <td id=\"T_f0e7f_row0_col1\" class=\"data row0 col1\" >Healthy</td>\n",
              "    </tr>\n",
              "    <tr>\n",
              "      <th id=\"T_f0e7f_level0_row1\" class=\"row_heading level0 row1\" >1</th>\n",
              "      <td id=\"T_f0e7f_row1_col0\" class=\"data row1 col0\" >Leukemia</td>\n",
              "      <td id=\"T_f0e7f_row1_col1\" class=\"data row1 col1\" >Healthy</td>\n",
              "    </tr>\n",
              "    <tr>\n",
              "      <th id=\"T_f0e7f_level0_row2\" class=\"row_heading level0 row2\" >2</th>\n",
              "      <td id=\"T_f0e7f_row2_col0\" class=\"data row2 col0\" >Iron deficiency anemia</td>\n",
              "      <td id=\"T_f0e7f_row2_col1\" class=\"data row2 col1\" >Iron deficiency anemia</td>\n",
              "    </tr>\n",
              "    <tr>\n",
              "      <th id=\"T_f0e7f_level0_row3\" class=\"row_heading level0 row3\" >3</th>\n",
              "      <td id=\"T_f0e7f_row3_col0\" class=\"data row3 col0\" >Iron deficiency anemia</td>\n",
              "      <td id=\"T_f0e7f_row3_col1\" class=\"data row3 col1\" >Iron deficiency anemia</td>\n",
              "    </tr>\n",
              "    <tr>\n",
              "      <th id=\"T_f0e7f_level0_row4\" class=\"row_heading level0 row4\" >4</th>\n",
              "      <td id=\"T_f0e7f_row4_col0\" class=\"data row4 col0\" >Normocytic normochromic anemia</td>\n",
              "      <td id=\"T_f0e7f_row4_col1\" class=\"data row4 col1\" >Normocytic normochromic anemia</td>\n",
              "    </tr>\n",
              "    <tr>\n",
              "      <th id=\"T_f0e7f_level0_row5\" class=\"row_heading level0 row5\" >5</th>\n",
              "      <td id=\"T_f0e7f_row5_col0\" class=\"data row5 col0\" >Normocytic hypochromic anemia</td>\n",
              "      <td id=\"T_f0e7f_row5_col1\" class=\"data row5 col1\" >Healthy</td>\n",
              "    </tr>\n",
              "    <tr>\n",
              "      <th id=\"T_f0e7f_level0_row6\" class=\"row_heading level0 row6\" >6</th>\n",
              "      <td id=\"T_f0e7f_row6_col0\" class=\"data row6 col0\" >Normocytic hypochromic anemia</td>\n",
              "      <td id=\"T_f0e7f_row6_col1\" class=\"data row6 col1\" >Normocytic hypochromic anemia</td>\n",
              "    </tr>\n",
              "    <tr>\n",
              "      <th id=\"T_f0e7f_level0_row7\" class=\"row_heading level0 row7\" >7</th>\n",
              "      <td id=\"T_f0e7f_row7_col0\" class=\"data row7 col0\" >Healthy</td>\n",
              "      <td id=\"T_f0e7f_row7_col1\" class=\"data row7 col1\" >Healthy</td>\n",
              "    </tr>\n",
              "    <tr>\n",
              "      <th id=\"T_f0e7f_level0_row8\" class=\"row_heading level0 row8\" >8</th>\n",
              "      <td id=\"T_f0e7f_row8_col0\" class=\"data row8 col0\" >Iron deficiency anemia</td>\n",
              "      <td id=\"T_f0e7f_row8_col1\" class=\"data row8 col1\" >Other microcytic anemia</td>\n",
              "    </tr>\n",
              "    <tr>\n",
              "      <th id=\"T_f0e7f_level0_row9\" class=\"row_heading level0 row9\" >9</th>\n",
              "      <td id=\"T_f0e7f_row9_col0\" class=\"data row9 col0\" >Iron deficiency anemia</td>\n",
              "      <td id=\"T_f0e7f_row9_col1\" class=\"data row9 col1\" >Iron deficiency anemia</td>\n",
              "    </tr>\n",
              "  </tbody>\n",
              "</table>\n"
            ]
          },
          "metadata": {},
          "execution_count": 274
        }
      ]
    },
    {
      "source": [
        "def predict_anemia_from_features(features, model, class_name):\n",
        "  # Reshape features to a 2D array with 1 sample and the correct number of features\n",
        "  features = np.array(features).reshape(1, -1)\n",
        "\n",
        "  # Check if the number of features in 'features' matches the expected number\n",
        "  # by the StandardScaler (sc)\n",
        "  if features.shape[1] != sc.n_features_in_:\n",
        "    raise ValueError(f\"Input features have {features.shape[1]} features, \"\n",
        "                     f\"but StandardScaler expects {sc.n_features_in_} features.\")\n",
        "\n",
        "  features_scaled = sc.transform(features)\n",
        "\n",
        "  # Assuming 'model' is a Keras model:\n",
        "  predictions = model.predict(features_scaled)\n",
        "  predicted_class_index = np.argmax(predictions)\n",
        "  confidence = np.max(predictions)\n",
        "\n",
        "  # Map predicted class index to class name if provided\n",
        "  predicted_class = class_name[predicted_class_index] if class_name else predicted_class_index\n",
        "\n",
        "  return predicted_class, confidence"
      ],
      "cell_type": "code",
      "metadata": {
        "id": "WknHpGKte9T5"
      },
      "execution_count": null,
      "outputs": []
    },
    {
      "source": [
        "input_features = [7.04013314, 26.40465422, 71.83098941, 1.81192925, 4.9590166, 4.66833758,\n",
        "              5.70866842, 182.13405676, 84.93527652, 15.61875771,\n",
        "              20.4905213, 140.31264139, 10.32501175, 0.21364748]\n",
        "\n",
        "class_names = [\"Healthy\", \"Iron Deficiency Anemia\", \"Leukemia\",\n",
        "               \"Leukemia with Thrombocytopenia\", \"Macrocytic Anemia\",\n",
        "               \"Normocytic Hypochromic Anemia\", \"Normocytic Normochromic Anemia\",\n",
        "               \"Other Microcytic Anemia\", \"Thrombocytopenia\"]\n",
        "\n",
        "predicted_class, confidence = predict_anemia_from_features(input_features, model, class_names)\n",
        "\n",
        "print(f\"Predicted Class: {predicted_class}\")\n",
        "print(f\"Confidence: {confidence:.2f}\")"
      ],
      "cell_type": "code",
      "metadata": {
        "colab": {
          "base_uri": "https://localhost:8080/"
        },
        "id": "w21TBPf-fLJl",
        "outputId": "f1073488-9341-45da-fb4d-e6f88aef57c6"
      },
      "execution_count": null,
      "outputs": [
        {
          "output_type": "stream",
          "name": "stdout",
          "text": [
            "\u001b[1m1/1\u001b[0m \u001b[32m━━━━━━━━━━━━━━━━━━━━\u001b[0m\u001b[37m\u001b[0m \u001b[1m0s\u001b[0m 19ms/step\n",
            "Predicted Class: Normocytic Hypochromic Anemia\n",
            "Confidence: 0.90\n"
          ]
        },
        {
          "output_type": "stream",
          "name": "stderr",
          "text": [
            "/usr/local/lib/python3.10/dist-packages/sklearn/base.py:493: UserWarning: X does not have valid feature names, but StandardScaler was fitted with feature names\n",
            "  warnings.warn(\n"
          ]
        }
      ]
    },
    {
      "cell_type": "code",
      "source": [
        "print(predicted_classes[10])"
      ],
      "metadata": {
        "id": "YXlB2zkJ8t4h"
      },
      "execution_count": null,
      "outputs": []
    },
    {
      "cell_type": "markdown",
      "source": [
        "## Save Model"
      ],
      "metadata": {
        "id": "eOakpzoi4Scl"
      }
    },
    {
      "cell_type": "code",
      "source": [
        "model_path = '/content/drive/My Drive/Bangkit/model.h5'\n",
        "model.save(model_path)"
      ],
      "metadata": {
        "id": "sQq42Vup4Vzz",
        "colab": {
          "base_uri": "https://localhost:8080/",
          "height": 165
        },
        "outputId": "4106c58a-d38a-417a-9f71-5d427b67d5d2"
      },
      "execution_count": null,
      "outputs": [
        {
          "output_type": "error",
          "ename": "NameError",
          "evalue": "name 'model' is not defined",
          "traceback": [
            "\u001b[0;31m---------------------------------------------------------------------------\u001b[0m",
            "\u001b[0;31mNameError\u001b[0m                                 Traceback (most recent call last)",
            "\u001b[0;32m<ipython-input-98-8892882a7291>\u001b[0m in \u001b[0;36m<cell line: 2>\u001b[0;34m()\u001b[0m\n\u001b[1;32m      1\u001b[0m \u001b[0mmodel_path\u001b[0m \u001b[0;34m=\u001b[0m \u001b[0;34m'/content/drive/My Drive/Bangkit/model.h5'\u001b[0m\u001b[0;34m\u001b[0m\u001b[0;34m\u001b[0m\u001b[0m\n\u001b[0;32m----> 2\u001b[0;31m \u001b[0mmodel\u001b[0m\u001b[0;34m.\u001b[0m\u001b[0msave\u001b[0m\u001b[0;34m(\u001b[0m\u001b[0mmodel_path\u001b[0m\u001b[0;34m)\u001b[0m\u001b[0;34m\u001b[0m\u001b[0;34m\u001b[0m\u001b[0m\n\u001b[0m",
            "\u001b[0;31mNameError\u001b[0m: name 'model' is not defined"
          ]
        }
      ]
    },
    {
      "cell_type": "markdown",
      "source": [
        "## GitHub"
      ],
      "metadata": {
        "id": "zgSA601uo9Iq"
      }
    },
    {
      "cell_type": "code",
      "source": [
        "# !rm -rf /content/AnemiCare"
      ],
      "metadata": {
        "id": "sF3Wx2U3qtLW"
      },
      "execution_count": null,
      "outputs": []
    },
    {
      "cell_type": "code",
      "source": [
        "%cd /content/AnemiCare"
      ],
      "metadata": {
        "colab": {
          "base_uri": "https://localhost:8080/"
        },
        "id": "8Njj0VP6q64B",
        "outputId": "d98de46d-8cf1-4efe-d1ba-cb3dc2c4190e"
      },
      "execution_count": null,
      "outputs": [
        {
          "output_type": "stream",
          "name": "stdout",
          "text": [
            "/content/AnemiCare\n"
          ]
        }
      ]
    },
    {
      "cell_type": "code",
      "source": [
        "!git branch"
      ],
      "metadata": {
        "colab": {
          "base_uri": "https://localhost:8080/"
        },
        "id": "dANqJGJQrAgs",
        "outputId": "b2f58901-d0ed-4400-f31c-4a29b2718010"
      },
      "execution_count": null,
      "outputs": [
        {
          "output_type": "stream",
          "name": "stdout",
          "text": [
            "* \u001b[32mML\u001b[m\n"
          ]
        }
      ]
    },
    {
      "cell_type": "code",
      "source": [
        "from google.colab import drive\n",
        "\n",
        "drive.mount('/content/drive')\n",
        "file = '/content/drive/MyDrive/Bangkit/Capstone_Anemia_Prediction.ipynb'"
      ],
      "metadata": {
        "colab": {
          "base_uri": "https://localhost:8080/"
        },
        "id": "4J6Et-kUsh2G",
        "outputId": "9abdffdd-78f5-4154-b3b6-bd32303c1cd0"
      },
      "execution_count": null,
      "outputs": [
        {
          "output_type": "stream",
          "name": "stdout",
          "text": [
            "Drive already mounted at /content/drive; to attempt to forcibly remount, call drive.mount(\"/content/drive\", force_remount=True).\n"
          ]
        }
      ]
    },
    {
      "cell_type": "code",
      "source": [
        "!cp /content/drive/MyDrive/Bangkit/Capstone_Anemia_Prediction.ipynb /content/AnemiCare/"
      ],
      "metadata": {
        "id": "bNFQjbKutHlc"
      },
      "execution_count": null,
      "outputs": []
    },
    {
      "cell_type": "code",
      "source": [
        "!ls /content/AnemiCare"
      ],
      "metadata": {
        "colab": {
          "base_uri": "https://localhost:8080/"
        },
        "id": "MI7Z_htbrfbz",
        "outputId": "37fb723b-e5e7-4962-b403-3482cdd3a776"
      },
      "execution_count": null,
      "outputs": [
        {
          "output_type": "stream",
          "name": "stdout",
          "text": [
            "AnemiCare  Capstone_Anemia_Prediction.ipynb  README.md\n"
          ]
        }
      ]
    },
    {
      "cell_type": "code",
      "source": [
        "!git config --global user.name \"Ramadhan_Kiki_Arina\"\n",
        "!git config --global user.email \"ramadhanpmuhammad@gmail.com\"\n",
        "\n",
        "!git add Capstone_Anemia_Prediction.ipynb\n",
        "!git commit -m \"first commit by ML team\"\n",
        "!git push origin ML"
      ],
      "metadata": {
        "colab": {
          "base_uri": "https://localhost:8080/"
        },
        "id": "aKIm2qpgrCM7",
        "outputId": "9ed6c2d6-10c6-4ef9-943b-fc681b2a83a3"
      },
      "execution_count": null,
      "outputs": [
        {
          "output_type": "stream",
          "name": "stdout",
          "text": [
            "[ML 029d6a0] first commit by ML team\n",
            " 1 file changed, 1 insertion(+), 1 deletion(-)\n",
            "Enumerating objects: 10, done.\n",
            "Counting objects: 100% (10/10), done.\n",
            "Delta compression using up to 2 threads\n",
            "Compressing objects: 100% (9/9), done.\n",
            "Writing objects: 100% (9/9), 244.56 KiB | 6.11 MiB/s, done.\n",
            "Total 9 (delta 2), reused 0 (delta 0), pack-reused 0\n",
            "remote: Resolving deltas: 100% (2/2), done.\u001b[K\n",
            "remote: \u001b[1;31merror\u001b[m: GH013: Repository rule violations found for refs/heads/ML.\u001b[K\n",
            "remote: \n",
            "remote: - GITHUB PUSH PROTECTION\u001b[K\n",
            "remote:   —————————————————————————————————————————\u001b[K\n",
            "remote:     Resolve the following violations before pushing again\u001b[K\n",
            "remote: \n",
            "remote:     - Push cannot contain secrets\u001b[K\n",
            "remote: \n",
            "remote:     \u001b[K\n",
            "remote:      (?) Learn how to resolve a blocked push\u001b[K\n",
            "remote:      https://docs.github.com/code-security/secret-scanning/working-with-secret-scanning-and-push-protection/working-with-push-protection-from-the-command-line#resolving-a-blocked-push\u001b[K\n",
            "remote:     \u001b[K\n",
            "remote:     \u001b[K\n",
            "remote:       —— GitHub Personal Access Token ——————————————————————\u001b[K\n",
            "remote:        locations:\u001b[K\n",
            "remote:          - commit: 57b0cd1674cd176ae38caf12b38e283b5d33c57b\u001b[K\n",
            "remote:            path: Capstone_Anemia_Prediction.ipynb:1\u001b[K\n",
            "remote:          - commit: 4129d85c1d4237e93ee26de073e671a1093f99a0\u001b[K\n",
            "remote:            path: Capstone_Anemia_Prediction.ipynb:1\u001b[K\n",
            "remote:     \u001b[K\n",
            "remote:        (?) To push, remove secret from commit(s) or follow this URL to allow the secret.\u001b[K\n",
            "remote:        https://github.com/muhammadarya11/AnemiCare/security/secret-scanning/unblock-secret/2pIkAzPoF604nBkdAGmV08ntbBn\u001b[K\n",
            "remote:     \u001b[K\n",
            "remote: \n",
            "remote: \n",
            "To https://github.com/muhammadarya11/AnemiCare.git\n",
            " \u001b[31m! [remote rejected]\u001b[m ML -> ML (push declined due to repository rule violations)\n",
            "\u001b[31merror: failed to push some refs to 'https://github.com/muhammadarya11/AnemiCare.git'\n",
            "\u001b[m"
          ]
        }
      ]
    },
    {
      "cell_type": "code",
      "source": [
        "notebook_name = \"Capstone_Anemia_Prediction.ipynb\"\n",
        "!cp \"{notebook_name}\" /content/myrepo/"
      ],
      "metadata": {
        "id": "lJWO-cOYpp3R"
      },
      "execution_count": null,
      "outputs": []
    }
  ]
}